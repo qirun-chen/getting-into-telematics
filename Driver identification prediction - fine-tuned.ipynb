{
 "cells": [
  {
   "cell_type": "markdown",
   "id": "53c77821",
   "metadata": {},
   "source": [
    "## Outperform the baseline by adding more sophisiticated features\n",
    "\n",
    "**With more granularity time steps and 3 new time-domain signals, this fine-tuned CNN has an overall F1 score of 85.2%, which 17.9% outperforms the baseline (67.3%).**"
   ]
  },
  {
   "cell_type": "code",
   "execution_count": 1,
   "id": "beada403",
   "metadata": {},
   "outputs": [],
   "source": [
    "import pandas as pd\n",
    "import numpy as np\n",
    "import matplotlib.pyplot as plt\n",
    "import seaborn as sns\n",
    "from sklearn.preprocessing import StandardScaler\n",
    "from sklearn.model_selection import train_test_split\n",
    "\n",
    "from numpy.lib.stride_tricks import as_strided\n",
    "\n",
    "import tensorflow as tf\n",
    "tf.random.set_seed(42)\n",
    "from keras.models import Sequential\n",
    "from keras.layers import Dense, Dropout, Conv1D, MaxPool1D, GlobalMaxPooling1D\n",
    "from keras.utils import np_utils\n",
    "\n",
    "from sklearn.metrics import confusion_matrix"
   ]
  },
  {
   "cell_type": "markdown",
   "id": "403d4363",
   "metadata": {},
   "source": [
    "### Load aggregated accelerometer data"
   ]
  },
  {
   "cell_type": "code",
   "execution_count": 2,
   "id": "6012e2e2",
   "metadata": {},
   "outputs": [
    {
     "data": {
      "text/plain": [
       "(165875, 11)"
      ]
     },
     "execution_count": 2,
     "metadata": {},
     "output_type": "execute_result"
    }
   ],
   "source": [
    "driving_df = pd.read_csv('sophisticated_acc_signals.csv')\n",
    "\n",
    "driving_df['timestamp'] = pd.to_datetime(driving_df['timestamp'])\n",
    "\n",
    "driving_df.shape"
   ]
  },
  {
   "cell_type": "code",
   "execution_count": 3,
   "id": "8761a7ce",
   "metadata": {},
   "outputs": [
    {
     "data": {
      "text/html": [
       "<div>\n",
       "<style scoped>\n",
       "    .dataframe tbody tr th:only-of-type {\n",
       "        vertical-align: middle;\n",
       "    }\n",
       "\n",
       "    .dataframe tbody tr th {\n",
       "        vertical-align: top;\n",
       "    }\n",
       "\n",
       "    .dataframe thead th {\n",
       "        text-align: right;\n",
       "    }\n",
       "</style>\n",
       "<table border=\"1\" class=\"dataframe\">\n",
       "  <thead>\n",
       "    <tr style=\"text-align: right;\">\n",
       "      <th></th>\n",
       "      <th>time_step</th>\n",
       "      <th>device_id</th>\n",
       "      <th>trip_id</th>\n",
       "      <th>timestamp</th>\n",
       "      <th>speed</th>\n",
       "      <th>acc_x</th>\n",
       "      <th>acc_y</th>\n",
       "      <th>acc_z</th>\n",
       "      <th>freq_acc_x</th>\n",
       "      <th>freq_acc_y</th>\n",
       "      <th>freq_acc_z</th>\n",
       "    </tr>\n",
       "  </thead>\n",
       "  <tbody>\n",
       "    <tr>\n",
       "      <th>0</th>\n",
       "      <td>26</td>\n",
       "      <td>1</td>\n",
       "      <td>1</td>\n",
       "      <td>2018-01-24 19:48:27</td>\n",
       "      <td>3</td>\n",
       "      <td>-0.132093</td>\n",
       "      <td>0.112316</td>\n",
       "      <td>-0.908787</td>\n",
       "      <td>3.038785</td>\n",
       "      <td>1.964435</td>\n",
       "      <td>0.991609</td>\n",
       "    </tr>\n",
       "    <tr>\n",
       "      <th>1</th>\n",
       "      <td>26</td>\n",
       "      <td>1</td>\n",
       "      <td>1</td>\n",
       "      <td>2018-01-24 19:48:27</td>\n",
       "      <td>3</td>\n",
       "      <td>-0.197609</td>\n",
       "      <td>0.031063</td>\n",
       "      <td>-1.021868</td>\n",
       "      <td>2.306789</td>\n",
       "      <td>2.774992</td>\n",
       "      <td>3.911140</td>\n",
       "    </tr>\n",
       "    <tr>\n",
       "      <th>2</th>\n",
       "      <td>26</td>\n",
       "      <td>1</td>\n",
       "      <td>1</td>\n",
       "      <td>2018-01-24 19:48:27</td>\n",
       "      <td>3</td>\n",
       "      <td>-0.093705</td>\n",
       "      <td>0.087727</td>\n",
       "      <td>-0.975970</td>\n",
       "      <td>2.255192</td>\n",
       "      <td>1.278453</td>\n",
       "      <td>0.488883</td>\n",
       "    </tr>\n",
       "    <tr>\n",
       "      <th>3</th>\n",
       "      <td>26</td>\n",
       "      <td>1</td>\n",
       "      <td>1</td>\n",
       "      <td>2018-01-24 19:48:27</td>\n",
       "      <td>3</td>\n",
       "      <td>-0.051409</td>\n",
       "      <td>0.082636</td>\n",
       "      <td>-1.033521</td>\n",
       "      <td>2.465784</td>\n",
       "      <td>1.973234</td>\n",
       "      <td>3.325745</td>\n",
       "    </tr>\n",
       "    <tr>\n",
       "      <th>4</th>\n",
       "      <td>26</td>\n",
       "      <td>1</td>\n",
       "      <td>1</td>\n",
       "      <td>2018-01-24 19:48:27</td>\n",
       "      <td>3</td>\n",
       "      <td>-0.111199</td>\n",
       "      <td>0.054486</td>\n",
       "      <td>-1.028309</td>\n",
       "      <td>3.174646</td>\n",
       "      <td>0.493061</td>\n",
       "      <td>2.070297</td>\n",
       "    </tr>\n",
       "  </tbody>\n",
       "</table>\n",
       "</div>"
      ],
      "text/plain": [
       "   time_step  device_id  trip_id           timestamp  speed     acc_x  \\\n",
       "0         26          1        1 2018-01-24 19:48:27      3 -0.132093   \n",
       "1         26          1        1 2018-01-24 19:48:27      3 -0.197609   \n",
       "2         26          1        1 2018-01-24 19:48:27      3 -0.093705   \n",
       "3         26          1        1 2018-01-24 19:48:27      3 -0.051409   \n",
       "4         26          1        1 2018-01-24 19:48:27      3 -0.111199   \n",
       "\n",
       "      acc_y     acc_z  freq_acc_x  freq_acc_y  freq_acc_z  \n",
       "0  0.112316 -0.908787    3.038785    1.964435    0.991609  \n",
       "1  0.031063 -1.021868    2.306789    2.774992    3.911140  \n",
       "2  0.087727 -0.975970    2.255192    1.278453    0.488883  \n",
       "3  0.082636 -1.033521    2.465784    1.973234    3.325745  \n",
       "4  0.054486 -1.028309    3.174646    0.493061    2.070297  "
      ]
     },
     "execution_count": 3,
     "metadata": {},
     "output_type": "execute_result"
    }
   ],
   "source": [
    "driving_df.head()"
   ]
  },
  {
   "cell_type": "markdown",
   "id": "dcc43dea",
   "metadata": {},
   "source": [
    "### Driving history \n",
    "By looking at the driving days of each device, we can see some of the days are close."
   ]
  },
  {
   "cell_type": "code",
   "execution_count": 4,
   "id": "c5d00d19",
   "metadata": {},
   "outputs": [
    {
     "data": {
      "text/html": [
       "<div>\n",
       "<style scoped>\n",
       "    .dataframe tbody tr th:only-of-type {\n",
       "        vertical-align: middle;\n",
       "    }\n",
       "\n",
       "    .dataframe tbody tr th {\n",
       "        vertical-align: top;\n",
       "    }\n",
       "\n",
       "    .dataframe thead th {\n",
       "        text-align: right;\n",
       "    }\n",
       "</style>\n",
       "<table border=\"1\" class=\"dataframe\">\n",
       "  <thead>\n",
       "    <tr style=\"text-align: right;\">\n",
       "      <th></th>\n",
       "      <th>day_of_the_month</th>\n",
       "    </tr>\n",
       "    <tr>\n",
       "      <th>device_id</th>\n",
       "      <th></th>\n",
       "    </tr>\n",
       "  </thead>\n",
       "  <tbody>\n",
       "    <tr>\n",
       "      <th>1</th>\n",
       "      <td>24, 25</td>\n",
       "    </tr>\n",
       "    <tr>\n",
       "      <th>3</th>\n",
       "      <td>11, 21, 28, 31</td>\n",
       "    </tr>\n",
       "    <tr>\n",
       "      <th>5</th>\n",
       "      <td>10, 12, 19, 22</td>\n",
       "    </tr>\n",
       "    <tr>\n",
       "      <th>6</th>\n",
       "      <td>31</td>\n",
       "    </tr>\n",
       "    <tr>\n",
       "      <th>7</th>\n",
       "      <td>12, 18</td>\n",
       "    </tr>\n",
       "    <tr>\n",
       "      <th>10</th>\n",
       "      <td>1, 3, 9, 13, 19, 20, 28, 29, 30</td>\n",
       "    </tr>\n",
       "    <tr>\n",
       "      <th>11</th>\n",
       "      <td>31</td>\n",
       "    </tr>\n",
       "  </tbody>\n",
       "</table>\n",
       "</div>"
      ],
      "text/plain": [
       "                          day_of_the_month\n",
       "device_id                                 \n",
       "1                                   24, 25\n",
       "3                           11, 21, 28, 31\n",
       "5                           10, 12, 19, 22\n",
       "6                                       31\n",
       "7                                   12, 18\n",
       "10         1, 3, 9, 13, 19, 20, 28, 29, 30\n",
       "11                                      31"
      ]
     },
     "execution_count": 4,
     "metadata": {},
     "output_type": "execute_result"
    }
   ],
   "source": [
    "def device_driving_history(df):\n",
    "\n",
    "    df['day_of_the_month'] = df['timestamp'].dt.day.astype(str)\n",
    "\n",
    "    return df[['device_id', 'day_of_the_month']]\\\n",
    "        .drop_duplicates()\\\n",
    "        .groupby(['device_id'])\\\n",
    "        .agg({'day_of_the_month': lambda x: ', '.join(x.values)})\n",
    "\n",
    "device_driving_history(driving_df.copy())"
   ]
  },
  {
   "cell_type": "code",
   "execution_count": 5,
   "id": "70563353",
   "metadata": {},
   "outputs": [],
   "source": [
    "# driving_df = driving_df[~driving_df['device_id'].isin([6, 7, 1])] "
   ]
  },
  {
   "cell_type": "markdown",
   "id": "44570a1f",
   "metadata": {},
   "source": [
    "### Transform signals into window samples\n",
    "\n",
    "We can apply a rolling window to the time steps for each trip. A window is a period of timestamps, or a list of row index in code. This helps us to easily extract samples for each window from the full driving history."
   ]
  },
  {
   "cell_type": "code",
   "execution_count": 6,
   "id": "ff48b2e5",
   "metadata": {},
   "outputs": [
    {
     "data": {
      "text/html": [
       "<div>\n",
       "<style scoped>\n",
       "    .dataframe tbody tr th:only-of-type {\n",
       "        vertical-align: middle;\n",
       "    }\n",
       "\n",
       "    .dataframe tbody tr th {\n",
       "        vertical-align: top;\n",
       "    }\n",
       "\n",
       "    .dataframe thead th {\n",
       "        text-align: right;\n",
       "    }\n",
       "</style>\n",
       "<table border=\"1\" class=\"dataframe\">\n",
       "  <thead>\n",
       "    <tr style=\"text-align: right;\">\n",
       "      <th></th>\n",
       "      <th>time_step</th>\n",
       "      <th>device_id</th>\n",
       "      <th>trip_id</th>\n",
       "      <th>timestamp</th>\n",
       "      <th>speed</th>\n",
       "      <th>acc_x</th>\n",
       "      <th>acc_y</th>\n",
       "      <th>acc_z</th>\n",
       "      <th>freq_acc_x</th>\n",
       "      <th>freq_acc_y</th>\n",
       "      <th>freq_acc_z</th>\n",
       "    </tr>\n",
       "  </thead>\n",
       "  <tbody>\n",
       "    <tr>\n",
       "      <th>0</th>\n",
       "      <td>26</td>\n",
       "      <td>1</td>\n",
       "      <td>1</td>\n",
       "      <td>2018-01-24 19:48:27</td>\n",
       "      <td>3</td>\n",
       "      <td>-0.132093</td>\n",
       "      <td>0.112316</td>\n",
       "      <td>-0.908787</td>\n",
       "      <td>3.038785</td>\n",
       "      <td>1.964435</td>\n",
       "      <td>0.991609</td>\n",
       "    </tr>\n",
       "    <tr>\n",
       "      <th>1</th>\n",
       "      <td>26</td>\n",
       "      <td>1</td>\n",
       "      <td>1</td>\n",
       "      <td>2018-01-24 19:48:27</td>\n",
       "      <td>3</td>\n",
       "      <td>-0.197609</td>\n",
       "      <td>0.031063</td>\n",
       "      <td>-1.021868</td>\n",
       "      <td>2.306789</td>\n",
       "      <td>2.774992</td>\n",
       "      <td>3.911140</td>\n",
       "    </tr>\n",
       "    <tr>\n",
       "      <th>2</th>\n",
       "      <td>26</td>\n",
       "      <td>1</td>\n",
       "      <td>1</td>\n",
       "      <td>2018-01-24 19:48:27</td>\n",
       "      <td>3</td>\n",
       "      <td>-0.093705</td>\n",
       "      <td>0.087727</td>\n",
       "      <td>-0.975970</td>\n",
       "      <td>2.255192</td>\n",
       "      <td>1.278453</td>\n",
       "      <td>0.488883</td>\n",
       "    </tr>\n",
       "    <tr>\n",
       "      <th>3</th>\n",
       "      <td>26</td>\n",
       "      <td>1</td>\n",
       "      <td>1</td>\n",
       "      <td>2018-01-24 19:48:27</td>\n",
       "      <td>3</td>\n",
       "      <td>-0.051409</td>\n",
       "      <td>0.082636</td>\n",
       "      <td>-1.033521</td>\n",
       "      <td>2.465784</td>\n",
       "      <td>1.973234</td>\n",
       "      <td>3.325745</td>\n",
       "    </tr>\n",
       "    <tr>\n",
       "      <th>4</th>\n",
       "      <td>26</td>\n",
       "      <td>1</td>\n",
       "      <td>1</td>\n",
       "      <td>2018-01-24 19:48:27</td>\n",
       "      <td>3</td>\n",
       "      <td>-0.111199</td>\n",
       "      <td>0.054486</td>\n",
       "      <td>-1.028309</td>\n",
       "      <td>3.174646</td>\n",
       "      <td>0.493061</td>\n",
       "      <td>2.070297</td>\n",
       "    </tr>\n",
       "  </tbody>\n",
       "</table>\n",
       "</div>"
      ],
      "text/plain": [
       "   time_step  device_id  trip_id           timestamp  speed     acc_x  \\\n",
       "0         26          1        1 2018-01-24 19:48:27      3 -0.132093   \n",
       "1         26          1        1 2018-01-24 19:48:27      3 -0.197609   \n",
       "2         26          1        1 2018-01-24 19:48:27      3 -0.093705   \n",
       "3         26          1        1 2018-01-24 19:48:27      3 -0.051409   \n",
       "4         26          1        1 2018-01-24 19:48:27      3 -0.111199   \n",
       "\n",
       "      acc_y     acc_z  freq_acc_x  freq_acc_y  freq_acc_z  \n",
       "0  0.112316 -0.908787    3.038785    1.964435    0.991609  \n",
       "1  0.031063 -1.021868    2.306789    2.774992    3.911140  \n",
       "2  0.087727 -0.975970    2.255192    1.278453    0.488883  \n",
       "3  0.082636 -1.033521    2.465784    1.973234    3.325745  \n",
       "4  0.054486 -1.028309    3.174646    0.493061    2.070297  "
      ]
     },
     "execution_count": 6,
     "metadata": {},
     "output_type": "execute_result"
    }
   ],
   "source": [
    "driving_df.head()"
   ]
  },
  {
   "cell_type": "code",
   "execution_count": 7,
   "id": "dbffff22",
   "metadata": {},
   "outputs": [
    {
     "data": {
      "text/html": [
       "<div>\n",
       "<style scoped>\n",
       "    .dataframe tbody tr th:only-of-type {\n",
       "        vertical-align: middle;\n",
       "    }\n",
       "\n",
       "    .dataframe tbody tr th {\n",
       "        vertical-align: top;\n",
       "    }\n",
       "\n",
       "    .dataframe thead th {\n",
       "        text-align: right;\n",
       "    }\n",
       "</style>\n",
       "<table border=\"1\" class=\"dataframe\">\n",
       "  <thead>\n",
       "    <tr style=\"text-align: right;\">\n",
       "      <th></th>\n",
       "      <th>device_id</th>\n",
       "      <th>trip_id</th>\n",
       "      <th>time_step</th>\n",
       "    </tr>\n",
       "  </thead>\n",
       "  <tbody>\n",
       "    <tr>\n",
       "      <th>0</th>\n",
       "      <td>1</td>\n",
       "      <td>1</td>\n",
       "      <td>26</td>\n",
       "    </tr>\n",
       "    <tr>\n",
       "      <th>1</th>\n",
       "      <td>1</td>\n",
       "      <td>1</td>\n",
       "      <td>26</td>\n",
       "    </tr>\n",
       "    <tr>\n",
       "      <th>2</th>\n",
       "      <td>1</td>\n",
       "      <td>1</td>\n",
       "      <td>26</td>\n",
       "    </tr>\n",
       "    <tr>\n",
       "      <th>3</th>\n",
       "      <td>1</td>\n",
       "      <td>1</td>\n",
       "      <td>26</td>\n",
       "    </tr>\n",
       "    <tr>\n",
       "      <th>4</th>\n",
       "      <td>1</td>\n",
       "      <td>1</td>\n",
       "      <td>26</td>\n",
       "    </tr>\n",
       "    <tr>\n",
       "      <th>...</th>\n",
       "      <td>...</td>\n",
       "      <td>...</td>\n",
       "      <td>...</td>\n",
       "    </tr>\n",
       "    <tr>\n",
       "      <th>165870</th>\n",
       "      <td>11</td>\n",
       "      <td>9</td>\n",
       "      <td>567</td>\n",
       "    </tr>\n",
       "    <tr>\n",
       "      <th>165871</th>\n",
       "      <td>11</td>\n",
       "      <td>9</td>\n",
       "      <td>567</td>\n",
       "    </tr>\n",
       "    <tr>\n",
       "      <th>165872</th>\n",
       "      <td>11</td>\n",
       "      <td>9</td>\n",
       "      <td>567</td>\n",
       "    </tr>\n",
       "    <tr>\n",
       "      <th>165873</th>\n",
       "      <td>11</td>\n",
       "      <td>9</td>\n",
       "      <td>567</td>\n",
       "    </tr>\n",
       "    <tr>\n",
       "      <th>165874</th>\n",
       "      <td>11</td>\n",
       "      <td>9</td>\n",
       "      <td>567</td>\n",
       "    </tr>\n",
       "  </tbody>\n",
       "</table>\n",
       "<p>165875 rows × 3 columns</p>\n",
       "</div>"
      ],
      "text/plain": [
       "        device_id  trip_id  time_step\n",
       "0               1        1         26\n",
       "1               1        1         26\n",
       "2               1        1         26\n",
       "3               1        1         26\n",
       "4               1        1         26\n",
       "...           ...      ...        ...\n",
       "165870         11        9        567\n",
       "165871         11        9        567\n",
       "165872         11        9        567\n",
       "165873         11        9        567\n",
       "165874         11        9        567\n",
       "\n",
       "[165875 rows x 3 columns]"
      ]
     },
     "execution_count": 7,
     "metadata": {},
     "output_type": "execute_result"
    }
   ],
   "source": [
    "driving_df[['device_id', 'trip_id', 'time_step']]"
   ]
  },
  {
   "cell_type": "code",
   "execution_count": 8,
   "id": "749b5558",
   "metadata": {},
   "outputs": [],
   "source": [
    "def windowed_view(arr, window, overlap):\n",
    "    \"\"\" Apply rolling windows into the given array with an overlap\n",
    "    \"\"\"\n",
    "    \n",
    "    arr = np.asarray(arr)\n",
    "    window_step = window - overlap\n",
    "    new_shape = arr.shape[:-1] + ((arr.shape[-1] - overlap) // window_step, window)\n",
    "    new_strides = (arr.strides[:-1] + (window_step * arr.strides[-1],) + arr.strides[-1:])\n",
    "    \n",
    "    return as_strided(arr, shape=new_shape, strides=new_strides)"
   ]
  },
  {
   "cell_type": "code",
   "execution_count": 9,
   "id": "0d1a37a5",
   "metadata": {},
   "outputs": [],
   "source": [
    "def create_window_samples(df, window, overlap):\n",
    "    \"\"\" Save all the row index of the rolling windows.\n",
    "    \"\"\"\n",
    "    \n",
    "    window_index_list = list()\n",
    "    labels_list = list()\n",
    "    \n",
    "    for (device_id, trip_id), trip_df in df.groupby(['device_id', 'trip_id']):\n",
    "#         print(trip_df)\n",
    "        trip_length = trip_df.shape[0]\n",
    "        window_index = windowed_view(trip_df.index, window, overlap)\n",
    "        labels = np.full((window_index.shape[0], 1), device_id)\n",
    "        window_index_list.append(window_index)\n",
    "        labels_list.append(labels)\n",
    "\n",
    "    return np.concatenate(window_index_list), np.concatenate(labels_list)"
   ]
  },
  {
   "cell_type": "code",
   "execution_count": 10,
   "id": "632705fa",
   "metadata": {},
   "outputs": [],
   "source": [
    "window_samples, labels = create_window_samples(driving_df, window=50*25, overlap=25*25)"
   ]
  },
  {
   "cell_type": "code",
   "execution_count": 11,
   "id": "99d0de5b",
   "metadata": {},
   "outputs": [
    {
     "data": {
      "text/plain": [
       "array([[   825,    826,    827, ...,   2072,   2073,   2074],\n",
       "       [  1450,   1451,   1452, ...,   2697,   2698,   2699],\n",
       "       [  2075,   2076,   2077, ...,   3322,   3323,   3324],\n",
       "       ...,\n",
       "       [162950, 162951, 162952, ..., 164197, 164198, 164199],\n",
       "       [163575, 163576, 163577, ..., 164822, 164823, 164824],\n",
       "       [164200, 164201, 164202, ..., 165447, 165448, 165449]])"
      ]
     },
     "execution_count": 11,
     "metadata": {},
     "output_type": "execute_result"
    }
   ],
   "source": [
    "window_samples"
   ]
  },
  {
   "cell_type": "code",
   "execution_count": 12,
   "id": "97ee5074",
   "metadata": {},
   "outputs": [],
   "source": [
    "def extract_signals_per_window(df, window_samples, labels):\n",
    "    \"\"\" Since the given window samples are a list of windows with row index. \n",
    "    We now need to use the index to extract signals from the driving history data.\n",
    "    \"\"\"\n",
    "    \n",
    "    signal_window_samples_list = list()\n",
    "    \n",
    "    for window, device_id in zip(window_samples, labels):\n",
    "        \n",
    "        # Standardize the speed and accelerometer signals\n",
    "#         transformed_signals = StandardScaler().fit_transform(df.loc[window][['acc_x', 'acc_y', 'acc_z']])\n",
    "        transformed_signals = df.loc[window][['acc_x', 'acc_y', 'acc_z', 'freq_acc_x', 'freq_acc_y', 'freq_acc_z',]]\n",
    "        signal_window_samples_list.append(transformed_signals)\n",
    "    \n",
    "    return np.asarray(signal_window_samples_list)"
   ]
  },
  {
   "cell_type": "code",
   "execution_count": 13,
   "id": "31e0ebe4",
   "metadata": {},
   "outputs": [],
   "source": [
    "signal_window_samples = extract_signals_per_window(driving_df, window_samples, labels)"
   ]
  },
  {
   "cell_type": "code",
   "execution_count": 14,
   "id": "6ad8c009",
   "metadata": {},
   "outputs": [
    {
     "data": {
      "text/plain": [
       "((218, 1250, 6), (218, 1))"
      ]
     },
     "execution_count": 14,
     "metadata": {},
     "output_type": "execute_result"
    }
   ],
   "source": [
    "signal_window_samples.shape, labels.shape"
   ]
  },
  {
   "cell_type": "code",
   "execution_count": 15,
   "id": "ca49c07f",
   "metadata": {},
   "outputs": [
    {
     "data": {
      "text/plain": [
       "10    101\n",
       "5      45\n",
       "3      37\n",
       "11     21\n",
       "6       6\n",
       "7       5\n",
       "1       3\n",
       "Name: labels, dtype: int64"
      ]
     },
     "execution_count": 15,
     "metadata": {},
     "output_type": "execute_result"
    }
   ],
   "source": [
    "pd.Series(labels.reshape(-1), name='labels').value_counts()"
   ]
  },
  {
   "cell_type": "code",
   "execution_count": 16,
   "id": "12e12f4b",
   "metadata": {},
   "outputs": [
    {
     "name": "stdout",
     "output_type": "stream",
     "text": [
      "Shape before one-hot encoding:  (43, 1)\n",
      "Shape after one-hot encoding:  (43, 7)\n"
     ]
    }
   ],
   "source": [
    "X = signal_window_samples.copy()\n",
    "y = labels.copy()\n",
    "\n",
    "device_to_label = {category: i for i, category in enumerate(set(y.reshape(-1)))}\n",
    "label_to_device = {i: category for i, category in enumerate(set(y.reshape(-1)))}\n",
    "device_to_label\n",
    "\n",
    "for device_id, label in device_to_label.items():\n",
    "    y[y == device_id] = label\n",
    "\n",
    "# Since the window samples are small, we should stratify on the device ids.\n",
    "# This can make sure we have both training / test samples for each device id.\n",
    "X_train, X_test, y_train, y_test = train_test_split(X, y, \n",
    "                                                    test_size=0.8, \n",
    "                                                    stratify=y, \n",
    "                                                    shuffle=True, \n",
    "                                                    random_state=42)\n",
    "\n",
    "X_train = X_train.astype('float32')\n",
    "X_test = X_test.astype('float32')\n",
    "\n",
    "# one-hot encoding using keras' numpy-related utilities\n",
    "n_classes = len(device_to_label)\n",
    "print(\"Shape before one-hot encoding: \", y_train.shape)\n",
    "Y_train = np_utils.to_categorical(y_train, n_classes)\n",
    "Y_test = np_utils.to_categorical(y_test, n_classes)\n",
    "print(\"Shape after one-hot encoding: \", Y_train.shape)"
   ]
  },
  {
   "cell_type": "code",
   "execution_count": 17,
   "id": "a700d711",
   "metadata": {},
   "outputs": [],
   "source": [
    "# building a linear stack of layers with the sequential model\n",
    "model = Sequential()\n",
    "# convolutional layer\n",
    "model.add(Conv1D(filters=120, kernel_size=5, activation='tanh', input_shape=(1250, 6)))\n",
    "model.add(MaxPool1D(pool_size=5))\n",
    "\n",
    "model.add(Conv1D(filters=60, kernel_size=5, activation='tanh'))\n",
    "model.add(MaxPool1D(pool_size=5))\n",
    "\n",
    "model.add(Conv1D(filters=30, kernel_size=5, activation='tanh'))\n",
    "model.add(GlobalMaxPooling1D())\n",
    "model.add(Dropout(0.3))\n",
    "\n",
    "model.add(Dense(n_classes, activation='softmax'))\n",
    "\n",
    "# compiling the sequential model\n",
    "model.compile(loss='categorical_crossentropy', metrics=['accuracy'], optimizer='adam')"
   ]
  },
  {
   "cell_type": "markdown",
   "id": "e975a3ce",
   "metadata": {},
   "source": [
    "### Print out CNN Architecture"
   ]
  },
  {
   "cell_type": "code",
   "execution_count": 18,
   "id": "e28730ed",
   "metadata": {},
   "outputs": [
    {
     "name": "stdout",
     "output_type": "stream",
     "text": [
      "Model: \"sequential\"\n",
      "_________________________________________________________________\n",
      " Layer (type)                Output Shape              Param #   \n",
      "=================================================================\n",
      " conv1d (Conv1D)             (None, 1246, 120)         3720      \n",
      "                                                                 \n",
      " max_pooling1d (MaxPooling1D  (None, 249, 120)         0         \n",
      " )                                                               \n",
      "                                                                 \n",
      " conv1d_1 (Conv1D)           (None, 245, 60)           36060     \n",
      "                                                                 \n",
      " max_pooling1d_1 (MaxPooling  (None, 49, 60)           0         \n",
      " 1D)                                                             \n",
      "                                                                 \n",
      " conv1d_2 (Conv1D)           (None, 45, 30)            9030      \n",
      "                                                                 \n",
      " global_max_pooling1d (Globa  (None, 30)               0         \n",
      " lMaxPooling1D)                                                  \n",
      "                                                                 \n",
      " dropout (Dropout)           (None, 30)                0         \n",
      "                                                                 \n",
      " dense (Dense)               (None, 7)                 217       \n",
      "                                                                 \n",
      "=================================================================\n",
      "Total params: 49,027\n",
      "Trainable params: 49,027\n",
      "Non-trainable params: 0\n",
      "_________________________________________________________________\n"
     ]
    }
   ],
   "source": [
    "model.summary()"
   ]
  },
  {
   "cell_type": "markdown",
   "id": "fb77df96",
   "metadata": {},
   "source": [
    "### CNN Training logs"
   ]
  },
  {
   "cell_type": "code",
   "execution_count": 19,
   "id": "7411d6cf",
   "metadata": {
    "scrolled": true
   },
   "outputs": [
    {
     "name": "stdout",
     "output_type": "stream",
     "text": [
      "Epoch 1/60\n"
     ]
    },
    {
     "name": "stderr",
     "output_type": "stream",
     "text": [
      "2022-04-13 00:01:47.511054: W tensorflow/core/platform/profile_utils/cpu_utils.cc:128] Failed to get CPU frequency: 0 Hz\n"
     ]
    },
    {
     "name": "stdout",
     "output_type": "stream",
     "text": [
      "43/43 [==============================] - 1s 7ms/step - loss: 1.8117 - accuracy: 0.3721 - val_loss: 1.4500 - val_accuracy: 0.5200\n",
      "Epoch 2/60\n",
      "43/43 [==============================] - 0s 5ms/step - loss: 1.6942 - accuracy: 0.4651 - val_loss: 1.2496 - val_accuracy: 0.4914\n",
      "Epoch 3/60\n",
      "43/43 [==============================] - 0s 6ms/step - loss: 1.7193 - accuracy: 0.5116 - val_loss: 1.2876 - val_accuracy: 0.4800\n",
      "Epoch 4/60\n",
      "43/43 [==============================] - 0s 6ms/step - loss: 1.7092 - accuracy: 0.5116 - val_loss: 1.1912 - val_accuracy: 0.5429\n",
      "Epoch 5/60\n",
      "43/43 [==============================] - 0s 6ms/step - loss: 1.3282 - accuracy: 0.5814 - val_loss: 1.4165 - val_accuracy: 0.2971\n",
      "Epoch 6/60\n",
      "43/43 [==============================] - 0s 6ms/step - loss: 1.2453 - accuracy: 0.5814 - val_loss: 0.7604 - val_accuracy: 0.7771\n",
      "Epoch 7/60\n",
      "43/43 [==============================] - 0s 6ms/step - loss: 0.9986 - accuracy: 0.7442 - val_loss: 0.7229 - val_accuracy: 0.8400\n",
      "Epoch 8/60\n",
      "43/43 [==============================] - 0s 6ms/step - loss: 0.9538 - accuracy: 0.6977 - val_loss: 0.7965 - val_accuracy: 0.6286\n",
      "Epoch 9/60\n",
      "43/43 [==============================] - 0s 6ms/step - loss: 0.6991 - accuracy: 0.7209 - val_loss: 0.4887 - val_accuracy: 0.8629\n",
      "Epoch 10/60\n",
      "43/43 [==============================] - 0s 6ms/step - loss: 0.4647 - accuracy: 0.8837 - val_loss: 0.4872 - val_accuracy: 0.8000\n",
      "Epoch 11/60\n",
      "43/43 [==============================] - 0s 6ms/step - loss: 0.5012 - accuracy: 0.8372 - val_loss: 0.4768 - val_accuracy: 0.8229\n",
      "Epoch 12/60\n",
      "43/43 [==============================] - 0s 6ms/step - loss: 0.4820 - accuracy: 0.8605 - val_loss: 0.4082 - val_accuracy: 0.8857\n",
      "Epoch 13/60\n",
      "43/43 [==============================] - 0s 6ms/step - loss: 0.5061 - accuracy: 0.8372 - val_loss: 0.6143 - val_accuracy: 0.7086\n",
      "Epoch 14/60\n",
      "43/43 [==============================] - 0s 6ms/step - loss: 0.3446 - accuracy: 0.8605 - val_loss: 0.4495 - val_accuracy: 0.8571\n",
      "Epoch 15/60\n",
      "43/43 [==============================] - 0s 6ms/step - loss: 0.5315 - accuracy: 0.8140 - val_loss: 0.2951 - val_accuracy: 0.9143\n",
      "Epoch 16/60\n",
      "43/43 [==============================] - 0s 6ms/step - loss: 0.5092 - accuracy: 0.8837 - val_loss: 0.4706 - val_accuracy: 0.8800\n",
      "Epoch 17/60\n",
      "43/43 [==============================] - 0s 6ms/step - loss: 0.5220 - accuracy: 0.8372 - val_loss: 0.3751 - val_accuracy: 0.8857\n",
      "Epoch 18/60\n",
      "43/43 [==============================] - 0s 6ms/step - loss: 0.5342 - accuracy: 0.8140 - val_loss: 0.5537 - val_accuracy: 0.8686\n",
      "Epoch 19/60\n",
      "43/43 [==============================] - 0s 6ms/step - loss: 0.5808 - accuracy: 0.7674 - val_loss: 0.5313 - val_accuracy: 0.8514\n",
      "Epoch 20/60\n",
      "43/43 [==============================] - 0s 6ms/step - loss: 0.7170 - accuracy: 0.7907 - val_loss: 0.4035 - val_accuracy: 0.8400\n",
      "Epoch 21/60\n",
      "43/43 [==============================] - 0s 6ms/step - loss: 0.5980 - accuracy: 0.7907 - val_loss: 0.3518 - val_accuracy: 0.8800\n",
      "Epoch 22/60\n",
      "43/43 [==============================] - 0s 6ms/step - loss: 0.4453 - accuracy: 0.7907 - val_loss: 0.3386 - val_accuracy: 0.8743\n",
      "Epoch 23/60\n",
      "43/43 [==============================] - 0s 6ms/step - loss: 0.3867 - accuracy: 0.8837 - val_loss: 0.3213 - val_accuracy: 0.8571\n",
      "Epoch 24/60\n",
      "43/43 [==============================] - 0s 6ms/step - loss: 0.5521 - accuracy: 0.8837 - val_loss: 0.2561 - val_accuracy: 0.9486\n",
      "Epoch 25/60\n",
      "43/43 [==============================] - 0s 6ms/step - loss: 0.6081 - accuracy: 0.7674 - val_loss: 0.3566 - val_accuracy: 0.8800\n",
      "Epoch 26/60\n",
      "43/43 [==============================] - 0s 6ms/step - loss: 0.3140 - accuracy: 0.8605 - val_loss: 0.2486 - val_accuracy: 0.9200\n",
      "Epoch 27/60\n",
      "43/43 [==============================] - 0s 6ms/step - loss: 0.3955 - accuracy: 0.9070 - val_loss: 0.2811 - val_accuracy: 0.8971\n",
      "Epoch 28/60\n",
      "43/43 [==============================] - 0s 6ms/step - loss: 0.3774 - accuracy: 0.8605 - val_loss: 0.4007 - val_accuracy: 0.8571\n",
      "Epoch 29/60\n",
      "43/43 [==============================] - 0s 6ms/step - loss: 0.3503 - accuracy: 0.9070 - val_loss: 0.2216 - val_accuracy: 0.9886\n",
      "Epoch 30/60\n",
      "43/43 [==============================] - 0s 6ms/step - loss: 0.2654 - accuracy: 0.9767 - val_loss: 0.3489 - val_accuracy: 0.8743\n",
      "Epoch 31/60\n",
      "43/43 [==============================] - 0s 6ms/step - loss: 0.2920 - accuracy: 0.9070 - val_loss: 0.3486 - val_accuracy: 0.8743\n",
      "Epoch 32/60\n",
      "43/43 [==============================] - 0s 6ms/step - loss: 0.2357 - accuracy: 0.9302 - val_loss: 0.2346 - val_accuracy: 0.9143\n",
      "Epoch 33/60\n",
      "43/43 [==============================] - 0s 6ms/step - loss: 0.3183 - accuracy: 0.9070 - val_loss: 0.2714 - val_accuracy: 0.9029\n",
      "Epoch 34/60\n",
      "43/43 [==============================] - 0s 6ms/step - loss: 0.2809 - accuracy: 0.9302 - val_loss: 0.3093 - val_accuracy: 0.8914\n",
      "Epoch 35/60\n",
      "43/43 [==============================] - 0s 6ms/step - loss: 0.3790 - accuracy: 0.8837 - val_loss: 0.1934 - val_accuracy: 0.9657\n",
      "Epoch 36/60\n",
      "43/43 [==============================] - 0s 6ms/step - loss: 0.2863 - accuracy: 0.9535 - val_loss: 0.4172 - val_accuracy: 0.8343\n",
      "Epoch 37/60\n",
      "43/43 [==============================] - 0s 6ms/step - loss: 0.3266 - accuracy: 0.9302 - val_loss: 0.2248 - val_accuracy: 0.9543\n",
      "Epoch 38/60\n",
      "43/43 [==============================] - 0s 6ms/step - loss: 0.1496 - accuracy: 0.9767 - val_loss: 0.1543 - val_accuracy: 0.9771\n",
      "Epoch 39/60\n",
      "43/43 [==============================] - 0s 6ms/step - loss: 0.1645 - accuracy: 0.9535 - val_loss: 0.1354 - val_accuracy: 0.9714\n",
      "Epoch 40/60\n",
      "43/43 [==============================] - 0s 6ms/step - loss: 0.2014 - accuracy: 0.9767 - val_loss: 0.1227 - val_accuracy: 0.9771\n",
      "Epoch 41/60\n",
      "43/43 [==============================] - 0s 6ms/step - loss: 0.1778 - accuracy: 0.9767 - val_loss: 0.1222 - val_accuracy: 0.9771\n",
      "Epoch 42/60\n",
      "43/43 [==============================] - 0s 6ms/step - loss: 0.1454 - accuracy: 0.9767 - val_loss: 0.1170 - val_accuracy: 0.9771\n",
      "Epoch 43/60\n",
      "43/43 [==============================] - 0s 6ms/step - loss: 0.1508 - accuracy: 0.9767 - val_loss: 0.1244 - val_accuracy: 0.9714\n",
      "Epoch 44/60\n",
      "43/43 [==============================] - 0s 6ms/step - loss: 0.1621 - accuracy: 0.9767 - val_loss: 0.1028 - val_accuracy: 0.9829\n",
      "Epoch 45/60\n",
      "43/43 [==============================] - 0s 6ms/step - loss: 0.1601 - accuracy: 0.9767 - val_loss: 0.1035 - val_accuracy: 0.9829\n",
      "Epoch 46/60\n",
      "43/43 [==============================] - 0s 6ms/step - loss: 0.1271 - accuracy: 0.9767 - val_loss: 0.1295 - val_accuracy: 0.9714\n",
      "Epoch 47/60\n",
      "43/43 [==============================] - 0s 6ms/step - loss: 0.1261 - accuracy: 0.9767 - val_loss: 0.1107 - val_accuracy: 0.9657\n",
      "Epoch 48/60\n",
      "43/43 [==============================] - 0s 6ms/step - loss: 0.1547 - accuracy: 0.9767 - val_loss: 0.0922 - val_accuracy: 0.9886\n",
      "Epoch 49/60\n",
      "43/43 [==============================] - 0s 6ms/step - loss: 0.1000 - accuracy: 0.9767 - val_loss: 0.0969 - val_accuracy: 0.9829\n",
      "Epoch 50/60\n",
      "43/43 [==============================] - 0s 6ms/step - loss: 0.1223 - accuracy: 0.9767 - val_loss: 0.1092 - val_accuracy: 0.9714\n",
      "Epoch 51/60\n",
      "43/43 [==============================] - 0s 6ms/step - loss: 0.1498 - accuracy: 0.9767 - val_loss: 0.0815 - val_accuracy: 0.9886\n",
      "Epoch 52/60\n",
      "43/43 [==============================] - 0s 6ms/step - loss: 0.1513 - accuracy: 0.9535 - val_loss: 0.0843 - val_accuracy: 0.9886\n",
      "Epoch 53/60\n",
      "43/43 [==============================] - 0s 6ms/step - loss: 0.1098 - accuracy: 0.9767 - val_loss: 0.0871 - val_accuracy: 0.9829\n",
      "Epoch 54/60\n",
      "43/43 [==============================] - 0s 6ms/step - loss: 0.1401 - accuracy: 0.9535 - val_loss: 0.0789 - val_accuracy: 0.9886\n",
      "Epoch 55/60\n",
      "43/43 [==============================] - 0s 6ms/step - loss: 0.1467 - accuracy: 0.9767 - val_loss: 0.1000 - val_accuracy: 0.9714\n",
      "Epoch 56/60\n",
      "43/43 [==============================] - 0s 6ms/step - loss: 0.1803 - accuracy: 0.9767 - val_loss: 0.0729 - val_accuracy: 0.9886\n",
      "Epoch 57/60\n",
      "43/43 [==============================] - 0s 6ms/step - loss: 0.1074 - accuracy: 0.9767 - val_loss: 0.0733 - val_accuracy: 0.9886\n",
      "Epoch 58/60\n",
      "43/43 [==============================] - 0s 6ms/step - loss: 0.0986 - accuracy: 0.9767 - val_loss: 0.0743 - val_accuracy: 0.9886\n",
      "Epoch 59/60\n"
     ]
    },
    {
     "name": "stdout",
     "output_type": "stream",
     "text": [
      "43/43 [==============================] - 0s 6ms/step - loss: 0.1866 - accuracy: 0.9767 - val_loss: 0.0760 - val_accuracy: 0.9886\n",
      "Epoch 60/60\n",
      "43/43 [==============================] - 0s 6ms/step - loss: 0.1454 - accuracy: 0.9767 - val_loss: 0.0732 - val_accuracy: 0.9886\n"
     ]
    },
    {
     "data": {
      "text/plain": [
       "<keras.callbacks.History at 0x29ae6d700>"
      ]
     },
     "execution_count": 19,
     "metadata": {},
     "output_type": "execute_result"
    }
   ],
   "source": [
    " model.fit(X_train, Y_train, batch_size=1, epochs=60, validation_data=(X_test, Y_test))"
   ]
  },
  {
   "cell_type": "code",
   "execution_count": 20,
   "id": "b06d4c66",
   "metadata": {},
   "outputs": [],
   "source": [
    "Y_pred = model.predict(X_test)"
   ]
  },
  {
   "cell_type": "markdown",
   "id": "3d8e03a9",
   "metadata": {},
   "source": [
    "### Model evaluation\n",
    "\n",
    "Calculate recall and precision for each device id.\n",
    "\n",
    "In the confusion matrix, we can see precision and recall for device 1 are still both 0. **But it now can learn well for device 6 and 7 even with the same size of training samples!**\n",
    "\n",
    "**This fine-tuned CNN has an overall F1 score of 85.2%, which 17.9% outperforms the baseline (67.3%).**"
   ]
  },
  {
   "cell_type": "code",
   "execution_count": 21,
   "id": "ba432f1a",
   "metadata": {},
   "outputs": [
    {
     "data": {
      "image/png": "[encoded data removed]",
      "text/plain": [
       "<Figure size 432x288 with 2 Axes>"
      ]
     },
     "metadata": {
      "needs_background": "light"
     },
     "output_type": "display_data"
    }
   ],
   "source": [
    "c_m = confusion_matrix(Y_test.argmax(axis=1), Y_pred.argmax(axis=1))\n",
    "\n",
    "fig = plt.figure()\n",
    "labels = sorted(list(set(y.reshape(-1))))\n",
    "device_ids = [label_to_device[l] for l in labels]\n",
    "sns.heatmap(c_m, xticklabels=device_ids, yticklabels=device_ids, annot=True, \n",
    "            linewidths = 0.1, fmt=\"d\", cmap = \"YlGnBu\")\n",
    "plt.title(\"Confusion matrix\", fontsize = 15)\n",
    "plt.ylabel(\"True label\")\n",
    "plt.xlabel(\"Predicted label\")\n",
    "confusion_matrix_plot = fig"
   ]
  },
  {
   "cell_type": "code",
   "execution_count": 22,
   "id": "9871a96e",
   "metadata": {},
   "outputs": [
    {
     "name": "stderr",
     "output_type": "stream",
     "text": [
      "/var/folders/wj/kg65sk251rz1g4h8_694mm9r0000gn/T/ipykernel_52266/1451942175.py:2: RuntimeWarning: invalid value encountered in true_divide\n",
      "  precision = np.diag(c_m) / np.sum(c_m, axis = 0)\n"
     ]
    },
    {
     "data": {
      "text/html": [
       "<div>\n",
       "<style scoped>\n",
       "    .dataframe tbody tr th:only-of-type {\n",
       "        vertical-align: middle;\n",
       "    }\n",
       "\n",
       "    .dataframe tbody tr th {\n",
       "        vertical-align: top;\n",
       "    }\n",
       "\n",
       "    .dataframe thead th {\n",
       "        text-align: right;\n",
       "    }\n",
       "</style>\n",
       "<table border=\"1\" class=\"dataframe\">\n",
       "  <thead>\n",
       "    <tr style=\"text-align: right;\">\n",
       "      <th></th>\n",
       "      <th>recall</th>\n",
       "      <th>precision</th>\n",
       "      <th>f1</th>\n",
       "    </tr>\n",
       "    <tr>\n",
       "      <th>device_id</th>\n",
       "      <th></th>\n",
       "      <th></th>\n",
       "      <th></th>\n",
       "    </tr>\n",
       "  </thead>\n",
       "  <tbody>\n",
       "    <tr>\n",
       "      <th>1</th>\n",
       "      <td>0.0</td>\n",
       "      <td>0.0000</td>\n",
       "      <td>0.000000</td>\n",
       "    </tr>\n",
       "    <tr>\n",
       "      <th>3</th>\n",
       "      <td>1.0</td>\n",
       "      <td>0.9375</td>\n",
       "      <td>0.967742</td>\n",
       "    </tr>\n",
       "    <tr>\n",
       "      <th>5</th>\n",
       "      <td>1.0</td>\n",
       "      <td>1.0000</td>\n",
       "      <td>1.000000</td>\n",
       "    </tr>\n",
       "    <tr>\n",
       "      <th>6</th>\n",
       "      <td>1.0</td>\n",
       "      <td>1.0000</td>\n",
       "      <td>1.000000</td>\n",
       "    </tr>\n",
       "    <tr>\n",
       "      <th>7</th>\n",
       "      <td>1.0</td>\n",
       "      <td>1.0000</td>\n",
       "      <td>1.000000</td>\n",
       "    </tr>\n",
       "    <tr>\n",
       "      <th>10</th>\n",
       "      <td>1.0</td>\n",
       "      <td>1.0000</td>\n",
       "      <td>1.000000</td>\n",
       "    </tr>\n",
       "    <tr>\n",
       "      <th>11</th>\n",
       "      <td>1.0</td>\n",
       "      <td>1.0000</td>\n",
       "      <td>1.000000</td>\n",
       "    </tr>\n",
       "  </tbody>\n",
       "</table>\n",
       "</div>"
      ],
      "text/plain": [
       "           recall  precision        f1\n",
       "device_id                             \n",
       "1             0.0     0.0000  0.000000\n",
       "3             1.0     0.9375  0.967742\n",
       "5             1.0     1.0000  1.000000\n",
       "6             1.0     1.0000  1.000000\n",
       "7             1.0     1.0000  1.000000\n",
       "10            1.0     1.0000  1.000000\n",
       "11            1.0     1.0000  1.000000"
      ]
     },
     "execution_count": 22,
     "metadata": {},
     "output_type": "execute_result"
    }
   ],
   "source": [
    "recall = np.diag(c_m) / np.sum(c_m, axis = 1)\n",
    "precision = np.diag(c_m) / np.sum(c_m, axis = 0)\n",
    "f1 = 2 * precision * recall / (precision + recall)\n",
    "\n",
    "evaluation_df = pd.DataFrame({\n",
    "    'device_id': device_ids,\n",
    "    'recall': recall,\n",
    "    'precision': precision,\n",
    "    'f1': f1\n",
    "}).set_index('device_id')\n",
    "\n",
    "evaluation_df.fillna(0)"
   ]
  },
  {
   "cell_type": "code",
   "execution_count": 23,
   "id": "6acec6bc",
   "metadata": {},
   "outputs": [
    {
     "name": "stdout",
     "output_type": "stream",
     "text": [
      "Overall f1 score: 85.253%\n"
     ]
    }
   ],
   "source": [
    "print(\"Overall f1 score: {:,.3f}%\".format(evaluation_df['f1'].fillna(0).mean()*100))"
   ]
  }
 ],
 "metadata": {
  "kernelspec": {
   "display_name": "Python 3 (ipykernel)",
   "language": "python",
   "name": "python3"
  },
  "language_info": {
   "codemirror_mode": {
    "name": "ipython",
    "version": 3
   },
   "file_extension": ".py",
   "mimetype": "text/x-python",
   "name": "python",
   "nbconvert_exporter": "python",
   "pygments_lexer": "ipython3",
   "version": "3.9.12"
  }
 },
 "nbformat": 4,
 "nbformat_minor": 5
}
