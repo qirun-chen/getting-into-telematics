{
 "cells": [
  {
   "cell_type": "code",
   "execution_count": 1,
   "id": "06deb081",
   "metadata": {},
   "outputs": [],
   "source": [
    "import pandas as pd\n",
    "import numpy as np"
   ]
  },
  {
   "cell_type": "code",
   "execution_count": 2,
   "id": "d31755dd",
   "metadata": {},
   "outputs": [
    {
     "name": "stderr",
     "output_type": "stream",
     "text": [
      "/var/folders/wj/kg65sk251rz1g4h8_694mm9r0000gn/T/ipykernel_21554/4169038337.py:1: DtypeWarning: Columns (0,1,3,4,5,6,7,8,9,10,11,12,13,14,15,16) have mixed types. Specify dtype option on import or set low_memory=False.\n",
      "  car_df = pd.read_csv(\"./archive/v2.csv\")\n"
     ]
    },
    {
     "data": {
      "text/plain": [
       "(3120272, 17)"
      ]
     },
     "execution_count": 2,
     "metadata": {},
     "output_type": "execute_result"
    }
   ],
   "source": [
    "car_df = pd.read_csv(\"./archive/v2.csv\")\n",
    "car_df.shape"
   ]
  },
  {
   "cell_type": "code",
   "execution_count": 3,
   "id": "99fc1194",
   "metadata": {},
   "outputs": [
    {
     "data": {
      "text/html": [
       "<div>\n",
       "<style scoped>\n",
       "    .dataframe tbody tr th:only-of-type {\n",
       "        vertical-align: middle;\n",
       "    }\n",
       "\n",
       "    .dataframe tbody tr th {\n",
       "        vertical-align: top;\n",
       "    }\n",
       "\n",
       "    .dataframe thead th {\n",
       "        text-align: right;\n",
       "    }\n",
       "</style>\n",
       "<table border=\"1\" class=\"dataframe\">\n",
       "  <thead>\n",
       "    <tr style=\"text-align: right;\">\n",
       "      <th></th>\n",
       "      <th>tripID</th>\n",
       "      <th>deviceID</th>\n",
       "      <th>timeStamp</th>\n",
       "      <th>accData</th>\n",
       "      <th>gps_speed</th>\n",
       "      <th>battery</th>\n",
       "      <th>cTemp</th>\n",
       "      <th>dtc</th>\n",
       "      <th>eLoad</th>\n",
       "      <th>iat</th>\n",
       "      <th>imap</th>\n",
       "      <th>kpl</th>\n",
       "      <th>maf</th>\n",
       "      <th>rpm</th>\n",
       "      <th>speed</th>\n",
       "      <th>tAdv</th>\n",
       "      <th>tPos</th>\n",
       "    </tr>\n",
       "  </thead>\n",
       "  <tbody>\n",
       "    <tr>\n",
       "      <th>0</th>\n",
       "      <td>1</td>\n",
       "      <td>0.0</td>\n",
       "      <td>2017-12-22 18:43:05</td>\n",
       "      <td>10c0f8e00448fa18c80515d30000000000000000000000...</td>\n",
       "      <td>24.2612</td>\n",
       "      <td>0.0</td>\n",
       "      <td>66.0</td>\n",
       "      <td>0.0</td>\n",
       "      <td>28.6275</td>\n",
       "      <td>40.0</td>\n",
       "      <td>97.0</td>\n",
       "      <td>0.0</td>\n",
       "      <td>0.0</td>\n",
       "      <td>1010.75</td>\n",
       "      <td>23.0</td>\n",
       "      <td>0.0</td>\n",
       "      <td>0.0</td>\n",
       "    </tr>\n",
       "    <tr>\n",
       "      <th>1</th>\n",
       "      <td>1</td>\n",
       "      <td>0.0</td>\n",
       "      <td>2017-12-22 18:43:06</td>\n",
       "      <td>1138f8c804780a1ebdf718bcf919d10617c8e301b31017...</td>\n",
       "      <td>23.15</td>\n",
       "      <td>0.0</td>\n",
       "      <td>66.0</td>\n",
       "      <td>0.0</td>\n",
       "      <td>33.7255</td>\n",
       "      <td>40.0</td>\n",
       "      <td>98.0</td>\n",
       "      <td>0.0</td>\n",
       "      <td>0.0</td>\n",
       "      <td>815.5</td>\n",
       "      <td>21.0</td>\n",
       "      <td>0.0</td>\n",
       "      <td>0.0</td>\n",
       "    </tr>\n",
       "    <tr>\n",
       "      <th>2</th>\n",
       "      <td>1</td>\n",
       "      <td>0.0</td>\n",
       "      <td>2017-12-22 18:43:07</td>\n",
       "      <td>10f0f89804480612c30010c30714ce0520b7f41dbdf118...</td>\n",
       "      <td>18.7052</td>\n",
       "      <td>0.0</td>\n",
       "      <td>66.0</td>\n",
       "      <td>0.0</td>\n",
       "      <td>43.1373</td>\n",
       "      <td>40.0</td>\n",
       "      <td>98.0</td>\n",
       "      <td>0.0</td>\n",
       "      <td>0.0</td>\n",
       "      <td>862.25</td>\n",
       "      <td>17.0</td>\n",
       "      <td>0.0</td>\n",
       "      <td>0.0</td>\n",
       "    </tr>\n",
       "    <tr>\n",
       "      <th>3</th>\n",
       "      <td>1</td>\n",
       "      <td>0.0</td>\n",
       "      <td>2017-12-22 18:43:08</td>\n",
       "      <td>10d0f84804480d15bd0210c9f822c80017caf81ccd0517...</td>\n",
       "      <td>16.4828</td>\n",
       "      <td>0.0</td>\n",
       "      <td>66.0</td>\n",
       "      <td>0.0</td>\n",
       "      <td>41.5686</td>\n",
       "      <td>40.0</td>\n",
       "      <td>97.0</td>\n",
       "      <td>0.0</td>\n",
       "      <td>0.0</td>\n",
       "      <td>817.0</td>\n",
       "      <td>17.0</td>\n",
       "      <td>0.0</td>\n",
       "      <td>0.0</td>\n",
       "    </tr>\n",
       "    <tr>\n",
       "      <th>4</th>\n",
       "      <td>1</td>\n",
       "      <td>0.0</td>\n",
       "      <td>2017-12-22 18:43:09</td>\n",
       "      <td>1090f8c80480041dc9081cc50815c60511c60112c40514...</td>\n",
       "      <td>17.4088</td>\n",
       "      <td>0.0</td>\n",
       "      <td>66.0</td>\n",
       "      <td>0.0</td>\n",
       "      <td>43.1373</td>\n",
       "      <td>40.0</td>\n",
       "      <td>97.0</td>\n",
       "      <td>0.0</td>\n",
       "      <td>0.0</td>\n",
       "      <td>804.25</td>\n",
       "      <td>15.0</td>\n",
       "      <td>0.0</td>\n",
       "      <td>0.0</td>\n",
       "    </tr>\n",
       "  </tbody>\n",
       "</table>\n",
       "</div>"
      ],
      "text/plain": [
       "  tripID deviceID            timeStamp  \\\n",
       "0      1      0.0  2017-12-22 18:43:05   \n",
       "1      1      0.0  2017-12-22 18:43:06   \n",
       "2      1      0.0  2017-12-22 18:43:07   \n",
       "3      1      0.0  2017-12-22 18:43:08   \n",
       "4      1      0.0  2017-12-22 18:43:09   \n",
       "\n",
       "                                             accData gps_speed battery cTemp  \\\n",
       "0  10c0f8e00448fa18c80515d30000000000000000000000...   24.2612     0.0  66.0   \n",
       "1  1138f8c804780a1ebdf718bcf919d10617c8e301b31017...     23.15     0.0  66.0   \n",
       "2  10f0f89804480612c30010c30714ce0520b7f41dbdf118...   18.7052     0.0  66.0   \n",
       "3  10d0f84804480d15bd0210c9f822c80017caf81ccd0517...   16.4828     0.0  66.0   \n",
       "4  1090f8c80480041dc9081cc50815c60511c60112c40514...   17.4088     0.0  66.0   \n",
       "\n",
       "   dtc    eLoad   iat  imap  kpl  maf      rpm speed tAdv tPos  \n",
       "0  0.0  28.6275  40.0  97.0  0.0  0.0  1010.75  23.0  0.0  0.0  \n",
       "1  0.0  33.7255  40.0  98.0  0.0  0.0    815.5  21.0  0.0  0.0  \n",
       "2  0.0  43.1373  40.0  98.0  0.0  0.0   862.25  17.0  0.0  0.0  \n",
       "3  0.0  41.5686  40.0  97.0  0.0  0.0    817.0  17.0  0.0  0.0  \n",
       "4  0.0  43.1373  40.0  97.0  0.0  0.0   804.25  15.0  0.0  0.0  "
      ]
     },
     "execution_count": 3,
     "metadata": {},
     "output_type": "execute_result"
    }
   ],
   "source": [
    "car_df.head()"
   ]
  },
  {
   "cell_type": "markdown",
   "id": "a8059652",
   "metadata": {},
   "source": [
    "### Rename raw columns to improve readability"
   ]
  },
  {
   "cell_type": "code",
   "execution_count": 4,
   "id": "2ff61447",
   "metadata": {},
   "outputs": [],
   "source": [
    "column_rename_dict = {\n",
    "    'tripID': 'trip_id',\n",
    "    'deviceID': 'device_id',\n",
    "    'timeStamp': 'timestamp',\n",
    "    'accData': 'accelerometer',\n",
    "    'battery': 'battery_volt',\n",
    "    'cTemp': 'coolant_temp',\n",
    "    'dtc': 'diagnostic_trouble_code',\n",
    "    'eLoad': 'engine_load',\n",
    "    'iat': 'intake_air_temp',\n",
    "    'maf': 'air_mass_rate',\n",
    "    'rpm': 'revolutions_per_min',\n",
    "    'tAdv': 'timing_advance',\n",
    "    'tPos': 'throttle_position',\n",
    "}\n",
    "\n",
    "car_df = car_df.rename(columns=column_rename_dict)"
   ]
  },
  {
   "cell_type": "markdown",
   "id": "5e5c3dd4",
   "metadata": {},
   "source": [
    "### Data Dictionary\n",
    "\n",
    "**Basic Information**\n",
    "\n",
    "| Column | Description |\n",
    "| :--- | :----------- |\n",
    "| device_id | A device id is a car. |\n",
    "| trip_id | One id is 1 trip. A trip begins when car engine is switched on and ends when the engine is switched off. |\n",
    "| timestamp | Data collection time. |\n",
    "| battery_volt | The battery voltage corresponds to voltage of the battery installed in Car, which supplies electrical energy to a motor vehicle. |\n",
    "| diagnostic_trouble_code | Number of diagnostic trouble codes. DTC's, or Diagnostic Trouble Codes, are used by automobile manufacturers to diagnose problems related to the vehicle. |\n",
    "| accelerometer | Accelerometer and Magnetometer sensor data. The data is collected from the OBD device. Values are in terms of G-force. The data is across X, Y, Z axis where X-axis is horizontal, Y-axis is vertical, and Z-axis is the direction of movement of the car. |\n",
    "\n",
    "\n",
    "**Speed related sensors**\n",
    "\n",
    "| Column | Description |\n",
    "| :--- | :----------- |\n",
    "| gps_speed | The speed in kmph (kilometers per hour) as noted from GPS sensor. |\n",
    "| speed | Speed data as collected from OBD device mounted in the car. |\n",
    "| kpl | KMPL is mileage in kilometres per litre. It is a derived metric derived from speed and fuel to air mass flow ratio. This ratio is constant in case of Petrol cars while changes for other Fuel types. Hence, the KMPL value is accurate for petrol cars, and contain some error in case of other fuel types. |\n",
    "| revolutions_per_min | engine RPM. The number of turns in one minute. |\n",
    "\n",
    "\n",
    "**Temperature related sensors**\n",
    "\n",
    "| Column | Description |\n",
    "| :--- | :----------- |\n",
    "| coolant_temp | The Temperature of the engine coolant of an internal combustion engine. The normal operating temperature for most engines is in a range of 90 to 104 degree Celsius (195 to 220 degrees Fahrenheit). |\n",
    "| intake_air_temp | The Intake Air Temperature sensor (IAT) has been utilised as an Engine Control Unit (ECU) input signal, as a requirement for calculating the Air Mass volume for the incoming air charge. This is, to assist in determining the correct engine fuel requirement to suit the operating air temperature. |\n",
    "| timing_advance | Timing advance refers to the number of degrees before top dead center (BTDC) that the spark will ignite the air-fuel mixture in the combustion chamber during the compression stroke. |\n",
    "\n",
    "\n",
    "**Air mass flow related sensors**\n",
    "\n",
    "| Column | Description |\n",
    "| :--- | :----------- |\n",
    "| imap | The manifold absolute pressure sensor (MAP sensor) is one of the sensors used in an internal combustion engine's electronic control system. The MAP sensor sensor provides instantaneous manifold pressure information to the engine's electronic control unit (ECU). The data is used to calculate air density and determine the engine's air mass flow rate, which in turn determines the required fuel metering for optimum combustion (see stoichiometry) and influence the advance or retard of ignition timing. |\n",
    "| engine_load | Engine load measures how much air (and fuel) you're sucking into the engine and then compares that value to the theoretical maximum. |\n",
    "| throttle_position | A throttle position sensor (TPS) is a sensor used to monitor the air intake of an engine. |\n",
    "| air_mass_rate | A mass (air) flow sensor (MAF) is used to find out the mass flow rate of air entering a fuel-injected internal combustion engine. The air mass information is necessary for the engine control unit (ECU) to balance and deliver the correct fuel mass to the engine. |"
   ]
  },
  {
   "cell_type": "markdown",
   "id": "a087c945",
   "metadata": {},
   "source": [
    "### Noisy points"
   ]
  },
  {
   "cell_type": "code",
   "execution_count": 5,
   "id": "37b16664",
   "metadata": {},
   "outputs": [
    {
     "data": {
      "text/html": [
       "<div>\n",
       "<style scoped>\n",
       "    .dataframe tbody tr th:only-of-type {\n",
       "        vertical-align: middle;\n",
       "    }\n",
       "\n",
       "    .dataframe tbody tr th {\n",
       "        vertical-align: top;\n",
       "    }\n",
       "\n",
       "    .dataframe thead th {\n",
       "        text-align: right;\n",
       "    }\n",
       "</style>\n",
       "<table border=\"1\" class=\"dataframe\">\n",
       "  <thead>\n",
       "    <tr style=\"text-align: right;\">\n",
       "      <th></th>\n",
       "      <th>trip_id</th>\n",
       "      <th>device_id</th>\n",
       "      <th>timestamp</th>\n",
       "      <th>accelerometer</th>\n",
       "      <th>gps_speed</th>\n",
       "      <th>battery_volt</th>\n",
       "      <th>coolant_temp</th>\n",
       "      <th>diagnostic_trouble_code</th>\n",
       "      <th>engine_load</th>\n",
       "      <th>intake_air_temp</th>\n",
       "      <th>imap</th>\n",
       "      <th>kpl</th>\n",
       "      <th>air_mass_rate</th>\n",
       "      <th>revolutions_per_min</th>\n",
       "      <th>speed</th>\n",
       "      <th>timing_advance</th>\n",
       "      <th>throttle_position</th>\n",
       "    </tr>\n",
       "  </thead>\n",
       "  <tbody>\n",
       "    <tr>\n",
       "      <th>106461</th>\n",
       "      <td>tripID</td>\n",
       "      <td>deviceID</td>\n",
       "      <td>timeStamp</td>\n",
       "      <td>accData</td>\n",
       "      <td>gps_speed</td>\n",
       "      <td>battery</td>\n",
       "      <td>cTemp</td>\n",
       "      <td>dtc</td>\n",
       "      <td>eLoad</td>\n",
       "      <td>iat</td>\n",
       "      <td>imap</td>\n",
       "      <td>kpl</td>\n",
       "      <td>maf</td>\n",
       "      <td>rpm</td>\n",
       "      <td>speed</td>\n",
       "      <td>tAdv</td>\n",
       "      <td>tPos</td>\n",
       "    </tr>\n",
       "    <tr>\n",
       "      <th>376682</th>\n",
       "      <td>tripID</td>\n",
       "      <td>deviceID</td>\n",
       "      <td>timeStamp</td>\n",
       "      <td>accData</td>\n",
       "      <td>gps_speed</td>\n",
       "      <td>battery</td>\n",
       "      <td>cTemp</td>\n",
       "      <td>dtc</td>\n",
       "      <td>eLoad</td>\n",
       "      <td>iat</td>\n",
       "      <td>imap</td>\n",
       "      <td>kpl</td>\n",
       "      <td>maf</td>\n",
       "      <td>rpm</td>\n",
       "      <td>speed</td>\n",
       "      <td>tAdv</td>\n",
       "      <td>tPos</td>\n",
       "    </tr>\n",
       "    <tr>\n",
       "      <th>630522</th>\n",
       "      <td>tripID</td>\n",
       "      <td>deviceID</td>\n",
       "      <td>timeStamp</td>\n",
       "      <td>accData</td>\n",
       "      <td>gps_speed</td>\n",
       "      <td>battery</td>\n",
       "      <td>cTemp</td>\n",
       "      <td>dtc</td>\n",
       "      <td>eLoad</td>\n",
       "      <td>iat</td>\n",
       "      <td>imap</td>\n",
       "      <td>kpl</td>\n",
       "      <td>maf</td>\n",
       "      <td>rpm</td>\n",
       "      <td>speed</td>\n",
       "      <td>tAdv</td>\n",
       "      <td>tPos</td>\n",
       "    </tr>\n",
       "    <tr>\n",
       "      <th>631504</th>\n",
       "      <td>tripID</td>\n",
       "      <td>deviceID</td>\n",
       "      <td>timeStamp</td>\n",
       "      <td>accData</td>\n",
       "      <td>gps_speed</td>\n",
       "      <td>battery</td>\n",
       "      <td>cTemp</td>\n",
       "      <td>dtc</td>\n",
       "      <td>eLoad</td>\n",
       "      <td>iat</td>\n",
       "      <td>imap</td>\n",
       "      <td>kpl</td>\n",
       "      <td>maf</td>\n",
       "      <td>rpm</td>\n",
       "      <td>speed</td>\n",
       "      <td>tAdv</td>\n",
       "      <td>tPos</td>\n",
       "    </tr>\n",
       "    <tr>\n",
       "      <th>676250</th>\n",
       "      <td>tripID</td>\n",
       "      <td>deviceID</td>\n",
       "      <td>timeStamp</td>\n",
       "      <td>accData</td>\n",
       "      <td>gps_speed</td>\n",
       "      <td>battery</td>\n",
       "      <td>cTemp</td>\n",
       "      <td>dtc</td>\n",
       "      <td>eLoad</td>\n",
       "      <td>iat</td>\n",
       "      <td>imap</td>\n",
       "      <td>kpl</td>\n",
       "      <td>maf</td>\n",
       "      <td>rpm</td>\n",
       "      <td>speed</td>\n",
       "      <td>tAdv</td>\n",
       "      <td>tPos</td>\n",
       "    </tr>\n",
       "  </tbody>\n",
       "</table>\n",
       "</div>"
      ],
      "text/plain": [
       "       trip_id device_id  timestamp accelerometer  gps_speed battery_volt  \\\n",
       "106461  tripID  deviceID  timeStamp       accData  gps_speed      battery   \n",
       "376682  tripID  deviceID  timeStamp       accData  gps_speed      battery   \n",
       "630522  tripID  deviceID  timeStamp       accData  gps_speed      battery   \n",
       "631504  tripID  deviceID  timeStamp       accData  gps_speed      battery   \n",
       "676250  tripID  deviceID  timeStamp       accData  gps_speed      battery   \n",
       "\n",
       "       coolant_temp diagnostic_trouble_code engine_load intake_air_temp  imap  \\\n",
       "106461        cTemp                     dtc       eLoad             iat  imap   \n",
       "376682        cTemp                     dtc       eLoad             iat  imap   \n",
       "630522        cTemp                     dtc       eLoad             iat  imap   \n",
       "631504        cTemp                     dtc       eLoad             iat  imap   \n",
       "676250        cTemp                     dtc       eLoad             iat  imap   \n",
       "\n",
       "        kpl air_mass_rate revolutions_per_min  speed timing_advance  \\\n",
       "106461  kpl           maf                 rpm  speed           tAdv   \n",
       "376682  kpl           maf                 rpm  speed           tAdv   \n",
       "630522  kpl           maf                 rpm  speed           tAdv   \n",
       "631504  kpl           maf                 rpm  speed           tAdv   \n",
       "676250  kpl           maf                 rpm  speed           tAdv   \n",
       "\n",
       "       throttle_position  \n",
       "106461              tPos  \n",
       "376682              tPos  \n",
       "630522              tPos  \n",
       "631504              tPos  \n",
       "676250              tPos  "
      ]
     },
     "execution_count": 5,
     "metadata": {},
     "output_type": "execute_result"
    }
   ],
   "source": [
    "noise_index = car_df[\"device_id\"] == \"deviceID\"\n",
    "car_df[noise_index].head()"
   ]
  },
  {
   "cell_type": "code",
   "execution_count": 6,
   "id": "5e45ca70",
   "metadata": {},
   "outputs": [
    {
     "name": "stdout",
     "output_type": "stream",
     "text": [
      "Data Size after removing noise: (3120240, 17)\n"
     ]
    }
   ],
   "source": [
    "# Remove noise\n",
    "car_df = car_df[~noise_index]\n",
    "print(\"Data Size after removing noise: {}\".format(car_df.shape))"
   ]
  },
  {
   "cell_type": "markdown",
   "id": "85045f30",
   "metadata": {},
   "source": [
    "### Data type casting"
   ]
  },
  {
   "cell_type": "code",
   "execution_count": 7,
   "id": "73284c71",
   "metadata": {},
   "outputs": [
    {
     "data": {
      "text/plain": [
       "trip_id                              int8\n",
       "device_id                            int8\n",
       "timestamp                  datetime64[ns]\n",
       "accelerometer                      object\n",
       "gps_speed                         float32\n",
       "battery_volt                      float32\n",
       "coolant_temp                         int8\n",
       "diagnostic_trouble_code              int8\n",
       "engine_load                       float32\n",
       "intake_air_temp                      int8\n",
       "imap                                 int8\n",
       "kpl                               float32\n",
       "air_mass_rate                     float32\n",
       "revolutions_per_min               float32\n",
       "speed                                int8\n",
       "timing_advance                    float32\n",
       "throttle_position                 float32\n",
       "dtype: object"
      ]
     },
     "execution_count": 7,
     "metadata": {},
     "output_type": "execute_result"
    }
   ],
   "source": [
    "first_datatype_casting = {\n",
    "    'device_id': np.float32,\n",
    "    'trip_id': np.float32,\n",
    "    'timestamp': \"datetime64[ns]\",\n",
    "    'battery_volt': np.float32,\n",
    "    'diagnostic_trouble_code': np.float32,\n",
    "    'gps_speed': np.float32,\n",
    "    'speed': np.float32,\n",
    "    'kpl': np.float32,\n",
    "    'revolutions_per_min': np.float32,\n",
    "    'coolant_temp': np.float32,\n",
    "    'intake_air_temp': np.float32,\n",
    "    'timing_advance': np.float32,\n",
    "    'imap': np.float32,\n",
    "    'engine_load': np.float32,\n",
    "    'throttle_position': np.float32,\n",
    "    'air_mass_rate': np.float32,\n",
    "}\n",
    "\n",
    "# Cast integers for memory efficiency\n",
    "second_datatype_casting = {\n",
    "    'device_id': np.int8,\n",
    "    'trip_id': np.int8,\n",
    "    'diagnostic_trouble_code': np.int8,\n",
    "    'speed': np.int8,\n",
    "    'coolant_temp': np.int8,\n",
    "    'intake_air_temp': np.int8,\n",
    "    'imap': np.int8,\n",
    "}\n",
    "\n",
    "car_df = car_df.astype(first_datatype_casting).astype(second_datatype_casting)\n",
    "car_df.dtypes"
   ]
  },
  {
   "cell_type": "markdown",
   "id": "ebb44bc5",
   "metadata": {},
   "source": [
    "### Duplicates"
   ]
  },
  {
   "cell_type": "code",
   "execution_count": 8,
   "id": "9ccbd1bc",
   "metadata": {},
   "outputs": [
    {
     "name": "stdout",
     "output_type": "stream",
     "text": [
      "Duplicate Rate: 26.180%\n",
      "Data Size after removing duplicates: (2303362, 17)\n"
     ]
    }
   ],
   "source": [
    "print(\"Duplicate Rate: {:,.3f}%\".format(np.sum(car_df.duplicated()) / car_df.shape[0] * 100))\n",
    "\n",
    "# Drop all duplicates\n",
    "car_df = car_df.drop_duplicates()\n",
    "print(\"Data Size after removing duplicates: {}\".format(car_df.shape))"
   ]
  },
  {
   "cell_type": "markdown",
   "id": "4c55999e",
   "metadata": {},
   "source": [
    "### Missing Values"
   ]
  },
  {
   "cell_type": "code",
   "execution_count": 9,
   "id": "2637afe9",
   "metadata": {},
   "outputs": [
    {
     "data": {
      "text/plain": [
       "False"
      ]
     },
     "execution_count": 9,
     "metadata": {},
     "output_type": "execute_result"
    }
   ],
   "source": [
    "car_df.isnull().values.any()"
   ]
  },
  {
   "cell_type": "markdown",
   "id": "f39532e6",
   "metadata": {},
   "source": [
    "### Timestamp Range"
   ]
  },
  {
   "cell_type": "code",
   "execution_count": 10,
   "id": "553478af",
   "metadata": {},
   "outputs": [
    {
     "data": {
      "text/plain": [
       "(Timestamp('2017-11-18 16:23:30'), Timestamp('2018-01-31 23:18:50'))"
      ]
     },
     "execution_count": 10,
     "metadata": {},
     "output_type": "execute_result"
    }
   ],
   "source": [
    "car_df['timestamp'].min(), car_df['timestamp'].max()"
   ]
  },
  {
   "cell_type": "markdown",
   "id": "7ec71522",
   "metadata": {},
   "source": [
    "### Add day driving / night drive labels "
   ]
  },
  {
   "cell_type": "code",
   "execution_count": 11,
   "id": "80e24073",
   "metadata": {},
   "outputs": [],
   "source": [
    "car_df['timestamp'] = pd.to_datetime(car_df['timestamp'])"
   ]
  },
  {
   "cell_type": "code",
   "execution_count": 12,
   "id": "1477ad22",
   "metadata": {},
   "outputs": [
    {
     "name": "stdout",
     "output_type": "stream",
     "text": [
      "night driving pct: 0.778%\n",
      "day driving pct: 99.222%\n"
     ]
    }
   ],
   "source": [
    "night_driving_index = (car_df['timestamp'].dt.hour >= 23) | (car_df['timestamp'].dt.hour <= 4)\n",
    "day_driving_index = ~night_driving_index\n",
    "\n",
    "print(\"night driving pct: {:,.3f}%\\nday driving pct: {:,.3f}%\".format(\n",
    "    sum(night_driving_index) / car_df.shape[0] * 100,\n",
    "    sum(day_driving_index) / car_df.shape[0] * 100))\n",
    "\n",
    "car_df.loc[night_driving_index, 'night_driving'] = 1\n",
    "car_df.loc[day_driving_index, 'night_driving'] = 0"
   ]
  },
  {
   "cell_type": "code",
   "execution_count": 13,
   "id": "34cf08ab",
   "metadata": {},
   "outputs": [
    {
     "data": {
      "text/plain": [
       "12    518906\n",
       "10    495943\n",
       "9     312916\n",
       "5     267328\n",
       "0     184242\n",
       "7     172654\n",
       "3     147706\n",
       "16     83043\n",
       "8      43185\n",
       "2      27155\n",
       "6      21224\n",
       "1      10272\n",
       "4       9878\n",
       "11      7929\n",
       "14       981\n",
       "Name: device_id, dtype: int64"
      ]
     },
     "execution_count": 13,
     "metadata": {},
     "output_type": "execute_result"
    }
   ],
   "source": [
    "car_df['device_id'].value_counts()"
   ]
  },
  {
   "cell_type": "markdown",
   "id": "b3524efc",
   "metadata": {},
   "source": [
    "### Check sensor frequency to see if any missing signal"
   ]
  },
  {
   "cell_type": "code",
   "execution_count": null,
   "id": "6b4c65ca",
   "metadata": {},
   "outputs": [],
   "source": []
  },
  {
   "cell_type": "markdown",
   "id": "1e795dfb",
   "metadata": {},
   "source": [
    "#### Behavior Analysis\n",
    "- trips completed per user\n",
    "- total drive time per user\n",
    "- drive time per trip\n",
    "- trip distance\n",
    "- trip history?\n",
    "\n",
    "\n",
    "- day driving time vs. night driving time (night time can be 11pm to 4am)\n",
    "- day driving is safter than night driving\n",
    "\n",
    "\n",
    "- hardbreaks\n",
    "- rash acceleration (hard accelerate)\n",
    "- drive speed (km/hr), overspeeding\n",
    "- idling with engine on (idling on a public road is dangerous. idling is not environmental friendly and burns the same amount of oil as driving.)\n",
    "\n",
    "#### Customer Segmentation\n",
    "Build driving behavior features for clustering, and analyse the commonality in each group. But customer profiling with more meaningful background information can make features more representative.\n",
    "\n",
    "Beside, we don't have any customer information in the data.\n",
    "\n",
    "#### Customer Safety Analysis\n",
    "Some customers are more risky while driving. It causes a high chance to car accidents. It impacts car availability."
   ]
  },
  {
   "cell_type": "markdown",
   "id": "72e7cb54",
   "metadata": {},
   "source": [
    "#### Car Usage Analysis\n",
    "- what OBD data can tell?\n",
    "- "
   ]
  },
  {
   "cell_type": "code",
   "execution_count": null,
   "id": "5373ff74",
   "metadata": {},
   "outputs": [],
   "source": []
  }
 ],
 "metadata": {
  "kernelspec": {
   "display_name": "Python 3 (ipykernel)",
   "language": "python",
   "name": "python3"
  },
  "language_info": {
   "codemirror_mode": {
    "name": "ipython",
    "version": 3
   },
   "file_extension": ".py",
   "mimetype": "text/x-python",
   "name": "python",
   "nbconvert_exporter": "python",
   "pygments_lexer": "ipython3",
   "version": "3.9.12"
  }
 },
 "nbformat": 4,
 "nbformat_minor": 5
}
