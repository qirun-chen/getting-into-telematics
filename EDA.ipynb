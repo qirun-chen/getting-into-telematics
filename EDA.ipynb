{
 "cells": [
  {
   "cell_type": "code",
   "execution_count": 1,
   "id": "df4aceb7",
   "metadata": {},
   "outputs": [],
   "source": [
    "import pandas as pd\n",
    "import numpy as np"
   ]
  },
  {
   "cell_type": "code",
   "execution_count": 2,
   "id": "5dfa3b94",
   "metadata": {},
   "outputs": [
    {
     "name": "stderr",
     "output_type": "stream",
     "text": [
      "/var/folders/wj/kg65sk251rz1g4h8_694mm9r0000gn/T/ipykernel_18690/4169038337.py:1: DtypeWarning: Columns (0,1,3,4,5,6,7,8,9,10,11,12,13,14,15,16) have mixed types. Specify dtype option on import or set low_memory=False.\n",
      "  car_df = pd.read_csv(\"./archive/v2.csv\")\n"
     ]
    },
    {
     "data": {
      "text/plain": [
       "(3120272, 17)"
      ]
     },
     "execution_count": 2,
     "metadata": {},
     "output_type": "execute_result"
    }
   ],
   "source": [
    "car_df = pd.read_csv(\"./archive/v2.csv\")\n",
    "car_df.shape"
   ]
  },
  {
   "cell_type": "code",
   "execution_count": 3,
   "id": "e5dd3c3a",
   "metadata": {},
   "outputs": [
    {
     "data": {
      "text/html": [
       "<div>\n",
       "<style scoped>\n",
       "    .dataframe tbody tr th:only-of-type {\n",
       "        vertical-align: middle;\n",
       "    }\n",
       "\n",
       "    .dataframe tbody tr th {\n",
       "        vertical-align: top;\n",
       "    }\n",
       "\n",
       "    .dataframe thead th {\n",
       "        text-align: right;\n",
       "    }\n",
       "</style>\n",
       "<table border=\"1\" class=\"dataframe\">\n",
       "  <thead>\n",
       "    <tr style=\"text-align: right;\">\n",
       "      <th></th>\n",
       "      <th>tripID</th>\n",
       "      <th>deviceID</th>\n",
       "      <th>timeStamp</th>\n",
       "      <th>accData</th>\n",
       "      <th>gps_speed</th>\n",
       "      <th>battery</th>\n",
       "      <th>cTemp</th>\n",
       "      <th>dtc</th>\n",
       "      <th>eLoad</th>\n",
       "      <th>iat</th>\n",
       "      <th>imap</th>\n",
       "      <th>kpl</th>\n",
       "      <th>maf</th>\n",
       "      <th>rpm</th>\n",
       "      <th>speed</th>\n",
       "      <th>tAdv</th>\n",
       "      <th>tPos</th>\n",
       "    </tr>\n",
       "  </thead>\n",
       "  <tbody>\n",
       "    <tr>\n",
       "      <th>0</th>\n",
       "      <td>1</td>\n",
       "      <td>0.0</td>\n",
       "      <td>2017-12-22 18:43:05</td>\n",
       "      <td>10c0f8e00448fa18c80515d30000000000000000000000...</td>\n",
       "      <td>24.2612</td>\n",
       "      <td>0.0</td>\n",
       "      <td>66.0</td>\n",
       "      <td>0.0</td>\n",
       "      <td>28.6275</td>\n",
       "      <td>40.0</td>\n",
       "      <td>97.0</td>\n",
       "      <td>0.0</td>\n",
       "      <td>0.0</td>\n",
       "      <td>1010.75</td>\n",
       "      <td>23.0</td>\n",
       "      <td>0.0</td>\n",
       "      <td>0.0</td>\n",
       "    </tr>\n",
       "    <tr>\n",
       "      <th>1</th>\n",
       "      <td>1</td>\n",
       "      <td>0.0</td>\n",
       "      <td>2017-12-22 18:43:06</td>\n",
       "      <td>1138f8c804780a1ebdf718bcf919d10617c8e301b31017...</td>\n",
       "      <td>23.15</td>\n",
       "      <td>0.0</td>\n",
       "      <td>66.0</td>\n",
       "      <td>0.0</td>\n",
       "      <td>33.7255</td>\n",
       "      <td>40.0</td>\n",
       "      <td>98.0</td>\n",
       "      <td>0.0</td>\n",
       "      <td>0.0</td>\n",
       "      <td>815.5</td>\n",
       "      <td>21.0</td>\n",
       "      <td>0.0</td>\n",
       "      <td>0.0</td>\n",
       "    </tr>\n",
       "    <tr>\n",
       "      <th>2</th>\n",
       "      <td>1</td>\n",
       "      <td>0.0</td>\n",
       "      <td>2017-12-22 18:43:07</td>\n",
       "      <td>10f0f89804480612c30010c30714ce0520b7f41dbdf118...</td>\n",
       "      <td>18.7052</td>\n",
       "      <td>0.0</td>\n",
       "      <td>66.0</td>\n",
       "      <td>0.0</td>\n",
       "      <td>43.1373</td>\n",
       "      <td>40.0</td>\n",
       "      <td>98.0</td>\n",
       "      <td>0.0</td>\n",
       "      <td>0.0</td>\n",
       "      <td>862.25</td>\n",
       "      <td>17.0</td>\n",
       "      <td>0.0</td>\n",
       "      <td>0.0</td>\n",
       "    </tr>\n",
       "    <tr>\n",
       "      <th>3</th>\n",
       "      <td>1</td>\n",
       "      <td>0.0</td>\n",
       "      <td>2017-12-22 18:43:08</td>\n",
       "      <td>10d0f84804480d15bd0210c9f822c80017caf81ccd0517...</td>\n",
       "      <td>16.4828</td>\n",
       "      <td>0.0</td>\n",
       "      <td>66.0</td>\n",
       "      <td>0.0</td>\n",
       "      <td>41.5686</td>\n",
       "      <td>40.0</td>\n",
       "      <td>97.0</td>\n",
       "      <td>0.0</td>\n",
       "      <td>0.0</td>\n",
       "      <td>817.0</td>\n",
       "      <td>17.0</td>\n",
       "      <td>0.0</td>\n",
       "      <td>0.0</td>\n",
       "    </tr>\n",
       "    <tr>\n",
       "      <th>4</th>\n",
       "      <td>1</td>\n",
       "      <td>0.0</td>\n",
       "      <td>2017-12-22 18:43:09</td>\n",
       "      <td>1090f8c80480041dc9081cc50815c60511c60112c40514...</td>\n",
       "      <td>17.4088</td>\n",
       "      <td>0.0</td>\n",
       "      <td>66.0</td>\n",
       "      <td>0.0</td>\n",
       "      <td>43.1373</td>\n",
       "      <td>40.0</td>\n",
       "      <td>97.0</td>\n",
       "      <td>0.0</td>\n",
       "      <td>0.0</td>\n",
       "      <td>804.25</td>\n",
       "      <td>15.0</td>\n",
       "      <td>0.0</td>\n",
       "      <td>0.0</td>\n",
       "    </tr>\n",
       "  </tbody>\n",
       "</table>\n",
       "</div>"
      ],
      "text/plain": [
       "  tripID deviceID            timeStamp  \\\n",
       "0      1      0.0  2017-12-22 18:43:05   \n",
       "1      1      0.0  2017-12-22 18:43:06   \n",
       "2      1      0.0  2017-12-22 18:43:07   \n",
       "3      1      0.0  2017-12-22 18:43:08   \n",
       "4      1      0.0  2017-12-22 18:43:09   \n",
       "\n",
       "                                             accData gps_speed battery cTemp  \\\n",
       "0  10c0f8e00448fa18c80515d30000000000000000000000...   24.2612     0.0  66.0   \n",
       "1  1138f8c804780a1ebdf718bcf919d10617c8e301b31017...     23.15     0.0  66.0   \n",
       "2  10f0f89804480612c30010c30714ce0520b7f41dbdf118...   18.7052     0.0  66.0   \n",
       "3  10d0f84804480d15bd0210c9f822c80017caf81ccd0517...   16.4828     0.0  66.0   \n",
       "4  1090f8c80480041dc9081cc50815c60511c60112c40514...   17.4088     0.0  66.0   \n",
       "\n",
       "   dtc    eLoad   iat  imap  kpl  maf      rpm speed tAdv tPos  \n",
       "0  0.0  28.6275  40.0  97.0  0.0  0.0  1010.75  23.0  0.0  0.0  \n",
       "1  0.0  33.7255  40.0  98.0  0.0  0.0    815.5  21.0  0.0  0.0  \n",
       "2  0.0  43.1373  40.0  98.0  0.0  0.0   862.25  17.0  0.0  0.0  \n",
       "3  0.0  41.5686  40.0  97.0  0.0  0.0    817.0  17.0  0.0  0.0  \n",
       "4  0.0  43.1373  40.0  97.0  0.0  0.0   804.25  15.0  0.0  0.0  "
      ]
     },
     "execution_count": 3,
     "metadata": {},
     "output_type": "execute_result"
    }
   ],
   "source": [
    "car_df.head()"
   ]
  },
  {
   "cell_type": "markdown",
   "id": "cba7cea6",
   "metadata": {},
   "source": [
    "### Duplicates"
   ]
  },
  {
   "cell_type": "code",
   "execution_count": 18,
   "id": "f195992c",
   "metadata": {},
   "outputs": [
    {
     "name": "stdout",
     "output_type": "stream",
     "text": [
      "Duplicate Rate: 21.67%\n",
      "Data Size after removing duplicates: (2443973, 17)\n"
     ]
    }
   ],
   "source": [
    "print(\"Duplicate Rate: {:,.2f}%\".format(np.sum(car_df.duplicated()) / car_df.shape[0] * 100))\n",
    "\n",
    "# Drop all duplicates\n",
    "car_df = car_df.drop_duplicates()\n",
    "print(\"Data Size after removing duplicates: {}\".format(car_df.shape))"
   ]
  },
  {
   "cell_type": "markdown",
   "id": "539d9780",
   "metadata": {},
   "source": [
    "### Missing Values"
   ]
  },
  {
   "cell_type": "code",
   "execution_count": 27,
   "id": "c713a9f6",
   "metadata": {},
   "outputs": [
    {
     "data": {
      "text/plain": [
       "False"
      ]
     },
     "execution_count": 27,
     "metadata": {},
     "output_type": "execute_result"
    }
   ],
   "source": [
    "car_df.isnull().values.any()"
   ]
  },
  {
   "cell_type": "markdown",
   "id": "2feb85ce",
   "metadata": {},
   "source": [
    "### Noisy points"
   ]
  },
  {
   "cell_type": "code",
   "execution_count": 20,
   "id": "ec17ee10",
   "metadata": {},
   "outputs": [
    {
     "data": {
      "text/html": [
       "<div>\n",
       "<style scoped>\n",
       "    .dataframe tbody tr th:only-of-type {\n",
       "        vertical-align: middle;\n",
       "    }\n",
       "\n",
       "    .dataframe tbody tr th {\n",
       "        vertical-align: top;\n",
       "    }\n",
       "\n",
       "    .dataframe thead th {\n",
       "        text-align: right;\n",
       "    }\n",
       "</style>\n",
       "<table border=\"1\" class=\"dataframe\">\n",
       "  <thead>\n",
       "    <tr style=\"text-align: right;\">\n",
       "      <th></th>\n",
       "      <th>tripID</th>\n",
       "      <th>deviceID</th>\n",
       "      <th>timeStamp</th>\n",
       "      <th>accData</th>\n",
       "      <th>gps_speed</th>\n",
       "      <th>battery</th>\n",
       "      <th>cTemp</th>\n",
       "      <th>dtc</th>\n",
       "      <th>eLoad</th>\n",
       "      <th>iat</th>\n",
       "      <th>imap</th>\n",
       "      <th>kpl</th>\n",
       "      <th>maf</th>\n",
       "      <th>rpm</th>\n",
       "      <th>speed</th>\n",
       "      <th>tAdv</th>\n",
       "      <th>tPos</th>\n",
       "    </tr>\n",
       "  </thead>\n",
       "  <tbody>\n",
       "    <tr>\n",
       "      <th>106461</th>\n",
       "      <td>tripID</td>\n",
       "      <td>deviceID</td>\n",
       "      <td>timeStamp</td>\n",
       "      <td>accData</td>\n",
       "      <td>gps_speed</td>\n",
       "      <td>battery</td>\n",
       "      <td>cTemp</td>\n",
       "      <td>dtc</td>\n",
       "      <td>eLoad</td>\n",
       "      <td>iat</td>\n",
       "      <td>imap</td>\n",
       "      <td>kpl</td>\n",
       "      <td>maf</td>\n",
       "      <td>rpm</td>\n",
       "      <td>speed</td>\n",
       "      <td>tAdv</td>\n",
       "      <td>tPos</td>\n",
       "    </tr>\n",
       "  </tbody>\n",
       "</table>\n",
       "</div>"
      ],
      "text/plain": [
       "        tripID  deviceID  timeStamp  accData  gps_speed  battery  cTemp  dtc  \\\n",
       "106461  tripID  deviceID  timeStamp  accData  gps_speed  battery  cTemp  dtc   \n",
       "\n",
       "        eLoad  iat  imap  kpl  maf  rpm  speed  tAdv  tPos  \n",
       "106461  eLoad  iat  imap  kpl  maf  rpm  speed  tAdv  tPos  "
      ]
     },
     "execution_count": 20,
     "metadata": {},
     "output_type": "execute_result"
    }
   ],
   "source": [
    "noise_index = car_df[\"deviceID\"] == \"deviceID\"\n",
    "car_df[noise_index]"
   ]
  },
  {
   "cell_type": "code",
   "execution_count": 24,
   "id": "51bf78ee",
   "metadata": {},
   "outputs": [
    {
     "name": "stderr",
     "output_type": "stream",
     "text": [
      "/var/folders/wj/kg65sk251rz1g4h8_694mm9r0000gn/T/ipykernel_18690/3111330992.py:2: UserWarning: Boolean Series key will be reindexed to match DataFrame index.\n",
      "  car_df = car_df[~noise_index]\n"
     ]
    },
    {
     "name": "stdout",
     "output_type": "stream",
     "text": [
      "Data Size after removing noise: (2443972, 17)\n"
     ]
    }
   ],
   "source": [
    "# Remove noise\n",
    "car_df = car_df[~noise_index]\n",
    "print(\"Data Size after removing noise: {}\".format(car_df.shape))"
   ]
  },
  {
   "cell_type": "markdown",
   "id": "2e8dea8c",
   "metadata": {},
   "source": [
    "### Timestamp Range"
   ]
  },
  {
   "cell_type": "code",
   "execution_count": 25,
   "id": "cf0bc68c",
   "metadata": {},
   "outputs": [
    {
     "data": {
      "text/plain": [
       "('2017-11-18 16:23:30', '2018-01-31 23:18:50')"
      ]
     },
     "execution_count": 25,
     "metadata": {},
     "output_type": "execute_result"
    }
   ],
   "source": [
    "car_df['timeStamp'].min(), car_df['timeStamp'].max()"
   ]
  },
  {
   "cell_type": "code",
   "execution_count": 22,
   "id": "e022d3f6",
   "metadata": {},
   "outputs": [
    {
     "data": {
      "text/plain": [
       "12.0        655360\n",
       "10.0        622592\n",
       "9.0         400528\n",
       "5.0         229376\n",
       "0.0         196608\n",
       "7.0         131072\n",
       "3.0         131072\n",
       "10.0        125276\n",
       "12.0        118058\n",
       "16.0         95147\n",
       "0.0          94261\n",
       "9.0          58014\n",
       "7.0          49295\n",
       "8.0          43218\n",
       "5.0          42278\n",
       "16.0         32768\n",
       "2.0          27166\n",
       "6.0          21271\n",
       "3.0          16829\n",
       "1.0          10280\n",
       "4.0           9880\n",
       "11.0          7929\n",
       "14.0          1962\n",
       "deviceID        32\n",
       "Name: deviceID, dtype: int64"
      ]
     },
     "execution_count": 22,
     "metadata": {},
     "output_type": "execute_result"
    }
   ],
   "source": [
    "car_df['deviceID'].value_counts()"
   ]
  },
  {
   "cell_type": "code",
   "execution_count": null,
   "id": "cd4b52ae",
   "metadata": {},
   "outputs": [],
   "source": []
  },
  {
   "cell_type": "code",
   "execution_count": null,
   "id": "1a9a8e16",
   "metadata": {},
   "outputs": [],
   "source": []
  },
  {
   "cell_type": "markdown",
   "id": "913a5f4d",
   "metadata": {},
   "source": [
    "#### Behavior Analysis\n",
    "- trips completed per user\n",
    "- total drive time per user\n",
    "- drive time per trip\n",
    "- trip distance\n",
    "- trip history?\n",
    "\n",
    "\n",
    "- day driving time vs. night driving time (night time can be 11pm to 4am)\n",
    "- day driving is safter than night driving\n",
    "\n",
    "\n",
    "- hardbreaks\n",
    "- rash acceleration (hard accelerate)\n",
    "- drive speed (km/hr), overspeeding\n",
    "- idling with engine on (idling on a public road is dangerous. idling is not environmental friendly and burns the same amount of oil as driving.)\n",
    "\n",
    "#### Customer Segmentation\n",
    "Build behavior features for customer group clustering, and analyse the commonality in each group.\n",
    "\n",
    "#### Customer Safety Analysis\n",
    "Some customers are more risky while driving. It causes a high chance to car accidents. It impacts car availability."
   ]
  },
  {
   "cell_type": "markdown",
   "id": "bb9b5385",
   "metadata": {},
   "source": [
    "#### Car Usage Analysis\n",
    "- what OBD data can tell?\n",
    "- "
   ]
  },
  {
   "cell_type": "code",
   "execution_count": null,
   "id": "ba59c71f",
   "metadata": {},
   "outputs": [],
   "source": []
  }
 ],
 "metadata": {
  "kernelspec": {
   "display_name": "Python 3 (ipykernel)",
   "language": "python",
   "name": "python3"
  },
  "language_info": {
   "codemirror_mode": {
    "name": "ipython",
    "version": 3
   },
   "file_extension": ".py",
   "mimetype": "text/x-python",
   "name": "python",
   "nbconvert_exporter": "python",
   "pygments_lexer": "ipython3",
   "version": "3.9.12"
  }
 },
 "nbformat": 4,
 "nbformat_minor": 5
}
