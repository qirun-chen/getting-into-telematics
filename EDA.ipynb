{
 "cells": [
  {
   "cell_type": "code",
   "execution_count": 1,
   "id": "4c4afd48",
   "metadata": {},
   "outputs": [],
   "source": [
    "import pandas as pd\n",
    "import numpy as np"
   ]
  },
  {
   "cell_type": "code",
   "execution_count": 2,
   "id": "597c6231",
   "metadata": {},
   "outputs": [
    {
     "name": "stderr",
     "output_type": "stream",
     "text": [
      "/var/folders/wj/kg65sk251rz1g4h8_694mm9r0000gn/T/ipykernel_27281/4169038337.py:1: DtypeWarning: Columns (0,1,3,4,5,6,7,8,9,10,11,12,13,14,15,16) have mixed types. Specify dtype option on import or set low_memory=False.\n",
      "  car_df = pd.read_csv(\"./archive/v2.csv\")\n"
     ]
    },
    {
     "data": {
      "text/plain": [
       "(3120272, 17)"
      ]
     },
     "execution_count": 2,
     "metadata": {},
     "output_type": "execute_result"
    }
   ],
   "source": [
    "car_df = pd.read_csv(\"./archive/v2.csv\")\n",
    "car_df.shape"
   ]
  },
  {
   "cell_type": "code",
   "execution_count": 3,
   "id": "ab53f3d9",
   "metadata": {},
   "outputs": [
    {
     "data": {
      "text/html": [
       "<div>\n",
       "<style scoped>\n",
       "    .dataframe tbody tr th:only-of-type {\n",
       "        vertical-align: middle;\n",
       "    }\n",
       "\n",
       "    .dataframe tbody tr th {\n",
       "        vertical-align: top;\n",
       "    }\n",
       "\n",
       "    .dataframe thead th {\n",
       "        text-align: right;\n",
       "    }\n",
       "</style>\n",
       "<table border=\"1\" class=\"dataframe\">\n",
       "  <thead>\n",
       "    <tr style=\"text-align: right;\">\n",
       "      <th></th>\n",
       "      <th>tripID</th>\n",
       "      <th>deviceID</th>\n",
       "      <th>timeStamp</th>\n",
       "      <th>accData</th>\n",
       "      <th>gps_speed</th>\n",
       "      <th>battery</th>\n",
       "      <th>cTemp</th>\n",
       "      <th>dtc</th>\n",
       "      <th>eLoad</th>\n",
       "      <th>iat</th>\n",
       "      <th>imap</th>\n",
       "      <th>kpl</th>\n",
       "      <th>maf</th>\n",
       "      <th>rpm</th>\n",
       "      <th>speed</th>\n",
       "      <th>tAdv</th>\n",
       "      <th>tPos</th>\n",
       "    </tr>\n",
       "  </thead>\n",
       "  <tbody>\n",
       "    <tr>\n",
       "      <th>0</th>\n",
       "      <td>1</td>\n",
       "      <td>0.0</td>\n",
       "      <td>2017-12-22 18:43:05</td>\n",
       "      <td>10c0f8e00448fa18c80515d30000000000000000000000...</td>\n",
       "      <td>24.2612</td>\n",
       "      <td>0.0</td>\n",
       "      <td>66.0</td>\n",
       "      <td>0.0</td>\n",
       "      <td>28.6275</td>\n",
       "      <td>40.0</td>\n",
       "      <td>97.0</td>\n",
       "      <td>0.0</td>\n",
       "      <td>0.0</td>\n",
       "      <td>1010.75</td>\n",
       "      <td>23.0</td>\n",
       "      <td>0.0</td>\n",
       "      <td>0.0</td>\n",
       "    </tr>\n",
       "    <tr>\n",
       "      <th>1</th>\n",
       "      <td>1</td>\n",
       "      <td>0.0</td>\n",
       "      <td>2017-12-22 18:43:06</td>\n",
       "      <td>1138f8c804780a1ebdf718bcf919d10617c8e301b31017...</td>\n",
       "      <td>23.15</td>\n",
       "      <td>0.0</td>\n",
       "      <td>66.0</td>\n",
       "      <td>0.0</td>\n",
       "      <td>33.7255</td>\n",
       "      <td>40.0</td>\n",
       "      <td>98.0</td>\n",
       "      <td>0.0</td>\n",
       "      <td>0.0</td>\n",
       "      <td>815.5</td>\n",
       "      <td>21.0</td>\n",
       "      <td>0.0</td>\n",
       "      <td>0.0</td>\n",
       "    </tr>\n",
       "    <tr>\n",
       "      <th>2</th>\n",
       "      <td>1</td>\n",
       "      <td>0.0</td>\n",
       "      <td>2017-12-22 18:43:07</td>\n",
       "      <td>10f0f89804480612c30010c30714ce0520b7f41dbdf118...</td>\n",
       "      <td>18.7052</td>\n",
       "      <td>0.0</td>\n",
       "      <td>66.0</td>\n",
       "      <td>0.0</td>\n",
       "      <td>43.1373</td>\n",
       "      <td>40.0</td>\n",
       "      <td>98.0</td>\n",
       "      <td>0.0</td>\n",
       "      <td>0.0</td>\n",
       "      <td>862.25</td>\n",
       "      <td>17.0</td>\n",
       "      <td>0.0</td>\n",
       "      <td>0.0</td>\n",
       "    </tr>\n",
       "    <tr>\n",
       "      <th>3</th>\n",
       "      <td>1</td>\n",
       "      <td>0.0</td>\n",
       "      <td>2017-12-22 18:43:08</td>\n",
       "      <td>10d0f84804480d15bd0210c9f822c80017caf81ccd0517...</td>\n",
       "      <td>16.4828</td>\n",
       "      <td>0.0</td>\n",
       "      <td>66.0</td>\n",
       "      <td>0.0</td>\n",
       "      <td>41.5686</td>\n",
       "      <td>40.0</td>\n",
       "      <td>97.0</td>\n",
       "      <td>0.0</td>\n",
       "      <td>0.0</td>\n",
       "      <td>817.0</td>\n",
       "      <td>17.0</td>\n",
       "      <td>0.0</td>\n",
       "      <td>0.0</td>\n",
       "    </tr>\n",
       "    <tr>\n",
       "      <th>4</th>\n",
       "      <td>1</td>\n",
       "      <td>0.0</td>\n",
       "      <td>2017-12-22 18:43:09</td>\n",
       "      <td>1090f8c80480041dc9081cc50815c60511c60112c40514...</td>\n",
       "      <td>17.4088</td>\n",
       "      <td>0.0</td>\n",
       "      <td>66.0</td>\n",
       "      <td>0.0</td>\n",
       "      <td>43.1373</td>\n",
       "      <td>40.0</td>\n",
       "      <td>97.0</td>\n",
       "      <td>0.0</td>\n",
       "      <td>0.0</td>\n",
       "      <td>804.25</td>\n",
       "      <td>15.0</td>\n",
       "      <td>0.0</td>\n",
       "      <td>0.0</td>\n",
       "    </tr>\n",
       "  </tbody>\n",
       "</table>\n",
       "</div>"
      ],
      "text/plain": [
       "  tripID deviceID            timeStamp  \\\n",
       "0      1      0.0  2017-12-22 18:43:05   \n",
       "1      1      0.0  2017-12-22 18:43:06   \n",
       "2      1      0.0  2017-12-22 18:43:07   \n",
       "3      1      0.0  2017-12-22 18:43:08   \n",
       "4      1      0.0  2017-12-22 18:43:09   \n",
       "\n",
       "                                             accData gps_speed battery cTemp  \\\n",
       "0  10c0f8e00448fa18c80515d30000000000000000000000...   24.2612     0.0  66.0   \n",
       "1  1138f8c804780a1ebdf718bcf919d10617c8e301b31017...     23.15     0.0  66.0   \n",
       "2  10f0f89804480612c30010c30714ce0520b7f41dbdf118...   18.7052     0.0  66.0   \n",
       "3  10d0f84804480d15bd0210c9f822c80017caf81ccd0517...   16.4828     0.0  66.0   \n",
       "4  1090f8c80480041dc9081cc50815c60511c60112c40514...   17.4088     0.0  66.0   \n",
       "\n",
       "   dtc    eLoad   iat  imap  kpl  maf      rpm speed tAdv tPos  \n",
       "0  0.0  28.6275  40.0  97.0  0.0  0.0  1010.75  23.0  0.0  0.0  \n",
       "1  0.0  33.7255  40.0  98.0  0.0  0.0    815.5  21.0  0.0  0.0  \n",
       "2  0.0  43.1373  40.0  98.0  0.0  0.0   862.25  17.0  0.0  0.0  \n",
       "3  0.0  41.5686  40.0  97.0  0.0  0.0    817.0  17.0  0.0  0.0  \n",
       "4  0.0  43.1373  40.0  97.0  0.0  0.0   804.25  15.0  0.0  0.0  "
      ]
     },
     "execution_count": 3,
     "metadata": {},
     "output_type": "execute_result"
    }
   ],
   "source": [
    "car_df.head()"
   ]
  },
  {
   "cell_type": "markdown",
   "id": "d266d9be",
   "metadata": {},
   "source": [
    "### Rename raw columns to improve readability"
   ]
  },
  {
   "cell_type": "code",
   "execution_count": 4,
   "id": "e10a2495",
   "metadata": {},
   "outputs": [],
   "source": [
    "column_rename_dict = {\n",
    "    'tripID': 'trip_id',\n",
    "    'deviceID': 'device_id',\n",
    "    'timeStamp': 'timestamp',\n",
    "    'accData': 'accelerometer',\n",
    "    'battery': 'battery_volt',\n",
    "    'cTemp': 'coolant_temp',\n",
    "    'dtc': 'diagnostic_trouble_code',\n",
    "    'eLoad': 'engine_load',\n",
    "    'iat': 'intake_air_temp',\n",
    "    'maf': 'air_mass_rate',\n",
    "    'rpm': 'revolutions_per_min',\n",
    "    'tAdv': 'timing_advance',\n",
    "    'tPos': 'throttle_position',\n",
    "}\n",
    "\n",
    "car_df = car_df.rename(columns=column_rename_dict)"
   ]
  },
  {
   "cell_type": "markdown",
   "id": "911e3bd4",
   "metadata": {},
   "source": [
    "### Data Dictionary\n",
    "\n",
    "**Basic Information**\n",
    "\n",
    "| Column | Description |\n",
    "| :--- | :----------- |\n",
    "| device_id | A device id is a car. One Device can have multiple trip ids. device_id + trip_id are unique trips.|\n",
    "| trip_id | One id is 1 trip. A trip begins when car engine is switched on and ends when the engine is switched off. |\n",
    "| timestamp | Data collection time. |\n",
    "| battery_volt | The battery voltage corresponds to voltage of the battery installed in Car, which supplies electrical energy to a motor vehicle. |\n",
    "| diagnostic_trouble_code | Number of diagnostic trouble codes. DTC's, or Diagnostic Trouble Codes, are used by automobile manufacturers to diagnose problems related to the vehicle. |\n",
    "| accelerometer | Accelerometer and Magnetometer sensor data. The data is collected from the OBD device. Values are in terms of G-force. The data is across X, Y, Z axis where X-axis is horizontal, Y-axis is vertical, and Z-axis is the direction of movement of the car. |\n",
    "\n",
    "\n",
    "**Speed related sensors**\n",
    "\n",
    "| Column | Description |\n",
    "| :--- | :----------- |\n",
    "| gps_speed | The speed in kmph (kilometers per hour) as noted from GPS sensor. |\n",
    "| speed | Speed data as collected from OBD device mounted in the car. |\n",
    "| kpl | KMPL is mileage in kilometres per litre. It is a derived metric derived from speed and fuel to air mass flow ratio. This ratio is constant in case of Petrol cars while changes for other Fuel types. Hence, the KMPL value is accurate for petrol cars, and contain some error in case of other fuel types. |\n",
    "| revolutions_per_min | engine RPM. The number of turns in one minute. |\n",
    "\n",
    "\n",
    "**Temperature related sensors**\n",
    "\n",
    "| Column | Description |\n",
    "| :--- | :----------- |\n",
    "| coolant_temp | The Temperature of the engine coolant of an internal combustion engine. The normal operating temperature for most engines is in a range of 90 to 104 degree Celsius (195 to 220 degrees Fahrenheit). |\n",
    "| intake_air_temp | The Intake Air Temperature sensor (IAT) has been utilised as an Engine Control Unit (ECU) input signal, as a requirement for calculating the Air Mass volume for the incoming air charge. This is, to assist in determining the correct engine fuel requirement to suit the operating air temperature. |\n",
    "| timing_advance | Timing advance refers to the number of degrees before top dead center (BTDC) that the spark will ignite the air-fuel mixture in the combustion chamber during the compression stroke. |\n",
    "\n",
    "\n",
    "**Air mass flow related sensors**\n",
    "\n",
    "| Column | Description |\n",
    "| :--- | :----------- |\n",
    "| imap | The manifold absolute pressure sensor (MAP sensor) is one of the sensors used in an internal combustion engine's electronic control system. The MAP sensor sensor provides instantaneous manifold pressure information to the engine's electronic control unit (ECU). The data is used to calculate air density and determine the engine's air mass flow rate, which in turn determines the required fuel metering for optimum combustion (see stoichiometry) and influence the advance or retard of ignition timing. |\n",
    "| engine_load | Engine load measures how much air (and fuel) you're sucking into the engine and then compares that value to the theoretical maximum. |\n",
    "| throttle_position | A throttle position sensor (TPS) is a sensor used to monitor the air intake of an engine. |\n",
    "| air_mass_rate | A mass (air) flow sensor (MAF) is used to find out the mass flow rate of air entering a fuel-injected internal combustion engine. The air mass information is necessary for the engine control unit (ECU) to balance and deliver the correct fuel mass to the engine. |"
   ]
  },
  {
   "cell_type": "markdown",
   "id": "9e402b27",
   "metadata": {},
   "source": [
    "### Noisy points"
   ]
  },
  {
   "cell_type": "code",
   "execution_count": 5,
   "id": "8526752d",
   "metadata": {},
   "outputs": [
    {
     "data": {
      "text/html": [
       "<div>\n",
       "<style scoped>\n",
       "    .dataframe tbody tr th:only-of-type {\n",
       "        vertical-align: middle;\n",
       "    }\n",
       "\n",
       "    .dataframe tbody tr th {\n",
       "        vertical-align: top;\n",
       "    }\n",
       "\n",
       "    .dataframe thead th {\n",
       "        text-align: right;\n",
       "    }\n",
       "</style>\n",
       "<table border=\"1\" class=\"dataframe\">\n",
       "  <thead>\n",
       "    <tr style=\"text-align: right;\">\n",
       "      <th></th>\n",
       "      <th>trip_id</th>\n",
       "      <th>device_id</th>\n",
       "      <th>timestamp</th>\n",
       "      <th>accelerometer</th>\n",
       "      <th>gps_speed</th>\n",
       "      <th>battery_volt</th>\n",
       "      <th>coolant_temp</th>\n",
       "      <th>diagnostic_trouble_code</th>\n",
       "      <th>engine_load</th>\n",
       "      <th>intake_air_temp</th>\n",
       "      <th>imap</th>\n",
       "      <th>kpl</th>\n",
       "      <th>air_mass_rate</th>\n",
       "      <th>revolutions_per_min</th>\n",
       "      <th>speed</th>\n",
       "      <th>timing_advance</th>\n",
       "      <th>throttle_position</th>\n",
       "    </tr>\n",
       "  </thead>\n",
       "  <tbody>\n",
       "    <tr>\n",
       "      <th>106461</th>\n",
       "      <td>tripID</td>\n",
       "      <td>deviceID</td>\n",
       "      <td>timeStamp</td>\n",
       "      <td>accData</td>\n",
       "      <td>gps_speed</td>\n",
       "      <td>battery</td>\n",
       "      <td>cTemp</td>\n",
       "      <td>dtc</td>\n",
       "      <td>eLoad</td>\n",
       "      <td>iat</td>\n",
       "      <td>imap</td>\n",
       "      <td>kpl</td>\n",
       "      <td>maf</td>\n",
       "      <td>rpm</td>\n",
       "      <td>speed</td>\n",
       "      <td>tAdv</td>\n",
       "      <td>tPos</td>\n",
       "    </tr>\n",
       "    <tr>\n",
       "      <th>376682</th>\n",
       "      <td>tripID</td>\n",
       "      <td>deviceID</td>\n",
       "      <td>timeStamp</td>\n",
       "      <td>accData</td>\n",
       "      <td>gps_speed</td>\n",
       "      <td>battery</td>\n",
       "      <td>cTemp</td>\n",
       "      <td>dtc</td>\n",
       "      <td>eLoad</td>\n",
       "      <td>iat</td>\n",
       "      <td>imap</td>\n",
       "      <td>kpl</td>\n",
       "      <td>maf</td>\n",
       "      <td>rpm</td>\n",
       "      <td>speed</td>\n",
       "      <td>tAdv</td>\n",
       "      <td>tPos</td>\n",
       "    </tr>\n",
       "    <tr>\n",
       "      <th>630522</th>\n",
       "      <td>tripID</td>\n",
       "      <td>deviceID</td>\n",
       "      <td>timeStamp</td>\n",
       "      <td>accData</td>\n",
       "      <td>gps_speed</td>\n",
       "      <td>battery</td>\n",
       "      <td>cTemp</td>\n",
       "      <td>dtc</td>\n",
       "      <td>eLoad</td>\n",
       "      <td>iat</td>\n",
       "      <td>imap</td>\n",
       "      <td>kpl</td>\n",
       "      <td>maf</td>\n",
       "      <td>rpm</td>\n",
       "      <td>speed</td>\n",
       "      <td>tAdv</td>\n",
       "      <td>tPos</td>\n",
       "    </tr>\n",
       "    <tr>\n",
       "      <th>631504</th>\n",
       "      <td>tripID</td>\n",
       "      <td>deviceID</td>\n",
       "      <td>timeStamp</td>\n",
       "      <td>accData</td>\n",
       "      <td>gps_speed</td>\n",
       "      <td>battery</td>\n",
       "      <td>cTemp</td>\n",
       "      <td>dtc</td>\n",
       "      <td>eLoad</td>\n",
       "      <td>iat</td>\n",
       "      <td>imap</td>\n",
       "      <td>kpl</td>\n",
       "      <td>maf</td>\n",
       "      <td>rpm</td>\n",
       "      <td>speed</td>\n",
       "      <td>tAdv</td>\n",
       "      <td>tPos</td>\n",
       "    </tr>\n",
       "    <tr>\n",
       "      <th>676250</th>\n",
       "      <td>tripID</td>\n",
       "      <td>deviceID</td>\n",
       "      <td>timeStamp</td>\n",
       "      <td>accData</td>\n",
       "      <td>gps_speed</td>\n",
       "      <td>battery</td>\n",
       "      <td>cTemp</td>\n",
       "      <td>dtc</td>\n",
       "      <td>eLoad</td>\n",
       "      <td>iat</td>\n",
       "      <td>imap</td>\n",
       "      <td>kpl</td>\n",
       "      <td>maf</td>\n",
       "      <td>rpm</td>\n",
       "      <td>speed</td>\n",
       "      <td>tAdv</td>\n",
       "      <td>tPos</td>\n",
       "    </tr>\n",
       "  </tbody>\n",
       "</table>\n",
       "</div>"
      ],
      "text/plain": [
       "       trip_id device_id  timestamp accelerometer  gps_speed battery_volt  \\\n",
       "106461  tripID  deviceID  timeStamp       accData  gps_speed      battery   \n",
       "376682  tripID  deviceID  timeStamp       accData  gps_speed      battery   \n",
       "630522  tripID  deviceID  timeStamp       accData  gps_speed      battery   \n",
       "631504  tripID  deviceID  timeStamp       accData  gps_speed      battery   \n",
       "676250  tripID  deviceID  timeStamp       accData  gps_speed      battery   \n",
       "\n",
       "       coolant_temp diagnostic_trouble_code engine_load intake_air_temp  imap  \\\n",
       "106461        cTemp                     dtc       eLoad             iat  imap   \n",
       "376682        cTemp                     dtc       eLoad             iat  imap   \n",
       "630522        cTemp                     dtc       eLoad             iat  imap   \n",
       "631504        cTemp                     dtc       eLoad             iat  imap   \n",
       "676250        cTemp                     dtc       eLoad             iat  imap   \n",
       "\n",
       "        kpl air_mass_rate revolutions_per_min  speed timing_advance  \\\n",
       "106461  kpl           maf                 rpm  speed           tAdv   \n",
       "376682  kpl           maf                 rpm  speed           tAdv   \n",
       "630522  kpl           maf                 rpm  speed           tAdv   \n",
       "631504  kpl           maf                 rpm  speed           tAdv   \n",
       "676250  kpl           maf                 rpm  speed           tAdv   \n",
       "\n",
       "       throttle_position  \n",
       "106461              tPos  \n",
       "376682              tPos  \n",
       "630522              tPos  \n",
       "631504              tPos  \n",
       "676250              tPos  "
      ]
     },
     "execution_count": 5,
     "metadata": {},
     "output_type": "execute_result"
    }
   ],
   "source": [
    "noise_index = car_df[\"device_id\"] == \"deviceID\"\n",
    "car_df[noise_index].head()"
   ]
  },
  {
   "cell_type": "code",
   "execution_count": 6,
   "id": "4273cf6c",
   "metadata": {},
   "outputs": [
    {
     "name": "stdout",
     "output_type": "stream",
     "text": [
      "Data Size after removing noise: (3120240, 17)\n"
     ]
    }
   ],
   "source": [
    "# Remove noise\n",
    "car_df = car_df[~noise_index]\n",
    "print(\"Data Size after removing noise: {}\".format(car_df.shape))"
   ]
  },
  {
   "cell_type": "markdown",
   "id": "d52466cd",
   "metadata": {},
   "source": [
    "### Data type casting"
   ]
  },
  {
   "cell_type": "code",
   "execution_count": 7,
   "id": "4a1d1b01",
   "metadata": {},
   "outputs": [
    {
     "data": {
      "text/plain": [
       "trip_id                              int8\n",
       "device_id                            int8\n",
       "timestamp                  datetime64[ns]\n",
       "accelerometer                      object\n",
       "gps_speed                         float32\n",
       "battery_volt                      float32\n",
       "coolant_temp                         int8\n",
       "diagnostic_trouble_code              int8\n",
       "engine_load                       float32\n",
       "intake_air_temp                      int8\n",
       "imap                                 int8\n",
       "kpl                               float32\n",
       "air_mass_rate                     float32\n",
       "revolutions_per_min               float32\n",
       "speed                                int8\n",
       "timing_advance                    float32\n",
       "throttle_position                 float32\n",
       "dtype: object"
      ]
     },
     "execution_count": 7,
     "metadata": {},
     "output_type": "execute_result"
    }
   ],
   "source": [
    "first_datatype_casting = {\n",
    "    'device_id': np.float32,\n",
    "    'trip_id': np.float32,\n",
    "    'timestamp': \"datetime64[ns]\",\n",
    "    'battery_volt': np.float32,\n",
    "    'diagnostic_trouble_code': np.float32,\n",
    "    'accelerometer': str,\n",
    "    'gps_speed': np.float32,\n",
    "    'speed': np.float32,\n",
    "    'kpl': np.float32,\n",
    "    'revolutions_per_min': np.float32,\n",
    "    'coolant_temp': np.float32,\n",
    "    'intake_air_temp': np.float32,\n",
    "    'timing_advance': np.float32,\n",
    "    'imap': np.float32,\n",
    "    'engine_load': np.float32,\n",
    "    'throttle_position': np.float32,\n",
    "    'air_mass_rate': np.float32,\n",
    "}\n",
    "\n",
    "# Cast integers for memory efficiency\n",
    "second_datatype_casting = {\n",
    "    'device_id': np.int8,\n",
    "    'trip_id': np.int8,\n",
    "    'diagnostic_trouble_code': np.int8,\n",
    "    'speed': np.int8,\n",
    "    'coolant_temp': np.int8,\n",
    "    'intake_air_temp': np.int8,\n",
    "    'imap': np.int8,\n",
    "}\n",
    "\n",
    "car_df = car_df.astype(first_datatype_casting).astype(second_datatype_casting)\n",
    "car_df.dtypes"
   ]
  },
  {
   "cell_type": "markdown",
   "id": "eb7c576d",
   "metadata": {},
   "source": [
    "### Timestamp Range and sort signal history by timestamp"
   ]
  },
  {
   "cell_type": "code",
   "execution_count": 8,
   "id": "49f3ae06",
   "metadata": {},
   "outputs": [
    {
     "data": {
      "text/plain": [
       "(Timestamp('2017-11-18 16:23:30'), Timestamp('2018-01-31 23:18:50'))"
      ]
     },
     "execution_count": 8,
     "metadata": {},
     "output_type": "execute_result"
    }
   ],
   "source": [
    "car_df['timestamp'].min(), car_df['timestamp'].max()"
   ]
  },
  {
   "cell_type": "code",
   "execution_count": 9,
   "id": "e4119b8f",
   "metadata": {},
   "outputs": [],
   "source": [
    "car_df = car_df.sort_values(['device_id', 'trip_id', 'timestamp'], ascending=True)"
   ]
  },
  {
   "cell_type": "markdown",
   "id": "00bb5fd2",
   "metadata": {},
   "source": [
    "### Duplicates\n",
    "Duplicate signals might be useful."
   ]
  },
  {
   "cell_type": "code",
   "execution_count": 10,
   "id": "17074046",
   "metadata": {},
   "outputs": [
    {
     "name": "stdout",
     "output_type": "stream",
     "text": [
      "Duplicate Rate: 26.543%\n",
      "Data Size after removing duplicates: (2292031, 17)\n"
     ]
    }
   ],
   "source": [
    "print(\"Duplicate Rate: {:,.3f}%\".format(\n",
    "    np.sum(car_df.duplicated()) / car_df.shape[0] * 100))\n",
    "\n",
    "# Drop all duplicates\n",
    "car_df = car_df.drop_duplicates()\n",
    "print(\"Data Size after removing duplicates: {}\".format(car_df.shape))"
   ]
  },
  {
   "cell_type": "markdown",
   "id": "82288947",
   "metadata": {},
   "source": [
    "### Missing Values"
   ]
  },
  {
   "cell_type": "code",
   "execution_count": 11,
   "id": "b853bd4f",
   "metadata": {},
   "outputs": [
    {
     "data": {
      "text/plain": [
       "False"
      ]
     },
     "execution_count": 11,
     "metadata": {},
     "output_type": "execute_result"
    }
   ],
   "source": [
    "car_df.isnull().values.any()"
   ]
  },
  {
   "cell_type": "markdown",
   "id": "3449bde6",
   "metadata": {},
   "source": [
    "### Add day driving / night drive labels "
   ]
  },
  {
   "cell_type": "code",
   "execution_count": 12,
   "id": "edf054cb",
   "metadata": {},
   "outputs": [],
   "source": [
    "car_df['timestamp'] = pd.to_datetime(car_df['timestamp'])"
   ]
  },
  {
   "cell_type": "code",
   "execution_count": 13,
   "id": "88ecb759",
   "metadata": {},
   "outputs": [
    {
     "name": "stdout",
     "output_type": "stream",
     "text": [
      "night driving pct: 0.782%\n",
      "day driving pct: 99.218%\n"
     ]
    }
   ],
   "source": [
    "night_driving_index = (car_df['timestamp'].dt.hour >= 23) | (car_df['timestamp'].dt.hour <= 4)\n",
    "day_driving_index = ~night_driving_index\n",
    "\n",
    "print(\"night driving pct: {:,.3f}%\\nday driving pct: {:,.3f}%\".format(\n",
    "    sum(night_driving_index) / car_df.shape[0] * 100,\n",
    "    sum(day_driving_index) / car_df.shape[0] * 100))\n",
    "\n",
    "car_df.loc[night_driving_index, 'night_driving'] = 1\n",
    "car_df.loc[day_driving_index, 'night_driving'] = 0"
   ]
  },
  {
   "cell_type": "code",
   "execution_count": 14,
   "id": "85a6b769",
   "metadata": {},
   "outputs": [
    {
     "data": {
      "text/plain": [
       "12    518906\n",
       "10    484612\n",
       "9     312916\n",
       "5     267328\n",
       "0     184242\n",
       "7     172654\n",
       "3     147706\n",
       "16     83043\n",
       "8      43185\n",
       "2      27155\n",
       "6      21224\n",
       "1      10272\n",
       "4       9878\n",
       "11      7929\n",
       "14       981\n",
       "Name: device_id, dtype: int64"
      ]
     },
     "execution_count": 14,
     "metadata": {},
     "output_type": "execute_result"
    }
   ],
   "source": [
    "car_df['device_id'].value_counts()"
   ]
  },
  {
   "cell_type": "markdown",
   "id": "abd8aad5",
   "metadata": {},
   "source": [
    "### Check signal frequency for each sensor\n",
    "In over 99% of the time, each sensor had only 1 unique signal. It can be considered as 1 Hz.\n",
    "\n",
    "This means 1 timestamp can be considered as 1 time step.\n",
    "It requires signal preprocessing to only keep the last signal for each timestamp."
   ]
  },
  {
   "cell_type": "code",
   "execution_count": 15,
   "id": "660f2f4c",
   "metadata": {},
   "outputs": [],
   "source": [
    "def check_signal_frequency(df):\n",
    "    # Calculate the signal frequency of each sensor (number of unique values per timestamp)\n",
    "    for c in ['accelerometer', 'gps_speed',\n",
    "           'battery_volt', 'coolant_temp', 'diagnostic_trouble_code',\n",
    "           'engine_load', 'intake_air_temp', 'imap', 'kpl', 'air_mass_rate',\n",
    "           'revolutions_per_min', 'speed', 'timing_advance', 'throttle_position',]:\n",
    "\n",
    "        signal_frequency = car_df[['device_id', 'trip_id', 'timestamp', c]]\\\n",
    "            .drop_duplicates()\\\n",
    "            .groupby(['device_id', 'trip_id', 'timestamp'])\\\n",
    "            .count()\n",
    "\n",
    "        print(\"{} in {:,.3f}% time had 1 signal per second (1 Hz)\".format(\n",
    "            c, \n",
    "            signal_frequency[signal_frequency[c] == 1].shape[0] / signal_frequency.shape[0] * 100))"
   ]
  },
  {
   "cell_type": "code",
   "execution_count": 16,
   "id": "9e364fa3",
   "metadata": {},
   "outputs": [
    {
     "name": "stdout",
     "output_type": "stream",
     "text": [
      "accelerometer in 99.226% time had 1 signal per second (1 Hz)\n",
      "gps_speed in 100.000% time had 1 signal per second (1 Hz)\n",
      "battery_volt in 99.934% time had 1 signal per second (1 Hz)\n",
      "coolant_temp in 99.960% time had 1 signal per second (1 Hz)\n",
      "diagnostic_trouble_code in 100.000% time had 1 signal per second (1 Hz)\n",
      "engine_load in 99.651% time had 1 signal per second (1 Hz)\n",
      "intake_air_temp in 99.972% time had 1 signal per second (1 Hz)\n",
      "imap in 99.757% time had 1 signal per second (1 Hz)\n",
      "kpl in 99.697% time had 1 signal per second (1 Hz)\n",
      "air_mass_rate in 99.691% time had 1 signal per second (1 Hz)\n",
      "revolutions_per_min in 99.625% time had 1 signal per second (1 Hz)\n",
      "speed in 99.745% time had 1 signal per second (1 Hz)\n",
      "timing_advance in 99.934% time had 1 signal per second (1 Hz)\n",
      "throttle_position in 99.879% time had 1 signal per second (1 Hz)\n"
     ]
    }
   ],
   "source": [
    "check_signal_frequency(car_df)"
   ]
  },
  {
   "cell_type": "markdown",
   "id": "c95118f4",
   "metadata": {},
   "source": [
    "### Keep the last signal for each timestamp\n",
    "Some timestamps had multiple different signals. Since all sensors are considered as 1 Hz, **it's good to only keep the last signal and remove the rest.**"
   ]
  },
  {
   "cell_type": "code",
   "execution_count": 17,
   "id": "0fb74f41",
   "metadata": {},
   "outputs": [
    {
     "name": "stdout",
     "output_type": "stream",
     "text": [
      "0.009% redundant signals\n"
     ]
    }
   ],
   "source": [
    "redundant_signals = car_df.duplicated(subset=['device_id', 'trip_id', 'timestamp'], \n",
    "                                      keep='last')\n",
    "\n",
    "print(\"{:,.3f}% redundant signals\".format(sum(redundant_signals) / car_df.shape[0]))\n",
    "\n",
    "car_df = car_df[~redundant_signals]"
   ]
  },
  {
   "cell_type": "code",
   "execution_count": 18,
   "id": "46bbc9b7",
   "metadata": {},
   "outputs": [
    {
     "name": "stdout",
     "output_type": "stream",
     "text": [
      "accelerometer in 100.000% time had 1 signal per second (1 Hz)\n",
      "gps_speed in 100.000% time had 1 signal per second (1 Hz)\n",
      "battery_volt in 100.000% time had 1 signal per second (1 Hz)\n",
      "coolant_temp in 100.000% time had 1 signal per second (1 Hz)\n",
      "diagnostic_trouble_code in 100.000% time had 1 signal per second (1 Hz)\n",
      "engine_load in 100.000% time had 1 signal per second (1 Hz)\n",
      "intake_air_temp in 100.000% time had 1 signal per second (1 Hz)\n",
      "imap in 100.000% time had 1 signal per second (1 Hz)\n",
      "kpl in 100.000% time had 1 signal per second (1 Hz)\n",
      "air_mass_rate in 100.000% time had 1 signal per second (1 Hz)\n",
      "revolutions_per_min in 100.000% time had 1 signal per second (1 Hz)\n",
      "speed in 100.000% time had 1 signal per second (1 Hz)\n",
      "timing_advance in 100.000% time had 1 signal per second (1 Hz)\n",
      "throttle_position in 100.000% time had 1 signal per second (1 Hz)\n"
     ]
    }
   ],
   "source": [
    "check_signal_frequency(car_df)"
   ]
  },
  {
   "cell_type": "markdown",
   "id": "8799338e",
   "metadata": {},
   "source": [
    "### Remove invalid accelerometer code\n",
    "Accelerometer code should have 162 characters.  "
   ]
  },
  {
   "cell_type": "code",
   "execution_count": 19,
   "id": "ab496429",
   "metadata": {},
   "outputs": [
    {
     "data": {
      "text/plain": [
       "162    1953951\n",
       "1       318498\n",
       "Name: accelerometer, dtype: int64"
      ]
     },
     "execution_count": 19,
     "metadata": {},
     "output_type": "execute_result"
    }
   ],
   "source": [
    "car_df['accelerometer'].str.len().value_counts()"
   ]
  },
  {
   "cell_type": "code",
   "execution_count": 20,
   "id": "a538bd69",
   "metadata": {},
   "outputs": [
    {
     "data": {
      "text/plain": [
       "(1953951, 18)"
      ]
     },
     "execution_count": 20,
     "metadata": {},
     "output_type": "execute_result"
    }
   ],
   "source": [
    "car_df = car_df[car_df['accelerometer'].str.len() == 162]\n",
    "car_df.shape"
   ]
  },
  {
   "cell_type": "markdown",
   "id": "e9fefb3e",
   "metadata": {},
   "source": [
    "### Decode Accelerometer Hex code"
   ]
  },
  {
   "cell_type": "code",
   "execution_count": 21,
   "id": "548e4563",
   "metadata": {},
   "outputs": [
    {
     "name": "stdout",
     "output_type": "stream",
     "text": [
      "Decoding each accelerometer hex code.\n"
     ]
    },
    {
     "name": "stderr",
     "output_type": "stream",
     "text": [
      "100%|██████████████████████████████████████████████████████████████████████████| 1953951/1953951 [02:51<00:00, 11410.92it/s]\n",
      "Aggregating 25Hz to 1Hz for accelerometer signals.: 100%|██████████████████████| 1953951/1953951 [01:22<00:00, 23779.72it/s]\n"
     ]
    }
   ],
   "source": [
    "from decoding_acc import decode_acc_hex\n",
    "\n",
    "decode_acc_hex_df = decode_acc_hex(car_df['accelerometer'], car_df['speed'])\n",
    "car_df.loc[:, 'acc_x'] = decode_acc_hex_df['acc_x'].values\n",
    "car_df.loc[:, 'acc_y'] = decode_acc_hex_df['acc_y'].values\n",
    "car_df.loc[:, 'acc_z'] = decode_acc_hex_df['acc_z'].values"
   ]
  },
  {
   "cell_type": "code",
   "execution_count": 22,
   "id": "be602a8a",
   "metadata": {},
   "outputs": [
    {
     "data": {
      "text/html": [
       "<div>\n",
       "<style scoped>\n",
       "    .dataframe tbody tr th:only-of-type {\n",
       "        vertical-align: middle;\n",
       "    }\n",
       "\n",
       "    .dataframe tbody tr th {\n",
       "        vertical-align: top;\n",
       "    }\n",
       "\n",
       "    .dataframe thead th {\n",
       "        text-align: right;\n",
       "    }\n",
       "</style>\n",
       "<table border=\"1\" class=\"dataframe\">\n",
       "  <thead>\n",
       "    <tr style=\"text-align: right;\">\n",
       "      <th></th>\n",
       "      <th>trip_id</th>\n",
       "      <th>device_id</th>\n",
       "      <th>timestamp</th>\n",
       "      <th>accelerometer</th>\n",
       "      <th>gps_speed</th>\n",
       "      <th>battery_volt</th>\n",
       "      <th>coolant_temp</th>\n",
       "      <th>diagnostic_trouble_code</th>\n",
       "      <th>engine_load</th>\n",
       "      <th>intake_air_temp</th>\n",
       "      <th>...</th>\n",
       "      <th>kpl</th>\n",
       "      <th>air_mass_rate</th>\n",
       "      <th>revolutions_per_min</th>\n",
       "      <th>speed</th>\n",
       "      <th>timing_advance</th>\n",
       "      <th>throttle_position</th>\n",
       "      <th>night_driving</th>\n",
       "      <th>acc_x</th>\n",
       "      <th>acc_y</th>\n",
       "      <th>acc_z</th>\n",
       "    </tr>\n",
       "  </thead>\n",
       "  <tbody>\n",
       "  </tbody>\n",
       "</table>\n",
       "<p>0 rows × 21 columns</p>\n",
       "</div>"
      ],
      "text/plain": [
       "Empty DataFrame\n",
       "Columns: [trip_id, device_id, timestamp, accelerometer, gps_speed, battery_volt, coolant_temp, diagnostic_trouble_code, engine_load, intake_air_temp, imap, kpl, air_mass_rate, revolutions_per_min, speed, timing_advance, throttle_position, night_driving, acc_x, acc_y, acc_z]\n",
       "Index: []\n",
       "\n",
       "[0 rows x 21 columns]"
      ]
     },
     "execution_count": 22,
     "metadata": {},
     "output_type": "execute_result"
    }
   ],
   "source": [
    "car_df[car_df['acc_x'].isnull()]"
   ]
  },
  {
   "cell_type": "markdown",
   "id": "1b9ee882",
   "metadata": {},
   "source": [
    "### Negative Trip Ids\n",
    "There are 27% signals associated with negative trip ids. However, the shortest trip had over 1K records. A simple workaround is to treat them as individual trips."
   ]
  },
  {
   "cell_type": "code",
   "execution_count": 23,
   "id": "53705c41",
   "metadata": {},
   "outputs": [
    {
     "name": "stdout",
     "output_type": "stream",
     "text": [
      "Percentage of signals associated with negative trip_ids: 27.016%\n"
     ]
    }
   ],
   "source": [
    "print(\"Percentage of signals associated with negative trip_ids: {:,.3f}%\".format(\n",
    "    car_df[car_df['trip_id'] < 0].shape[0] / car_df.shape[0] * 100))"
   ]
  },
  {
   "cell_type": "code",
   "execution_count": 24,
   "id": "5b8562cb",
   "metadata": {},
   "outputs": [
    {
     "data": {
      "text/html": [
       "<div>\n",
       "<style scoped>\n",
       "    .dataframe tbody tr th:only-of-type {\n",
       "        vertical-align: middle;\n",
       "    }\n",
       "\n",
       "    .dataframe tbody tr th {\n",
       "        vertical-align: top;\n",
       "    }\n",
       "\n",
       "    .dataframe thead tr th {\n",
       "        text-align: left;\n",
       "    }\n",
       "</style>\n",
       "<table border=\"1\" class=\"dataframe\">\n",
       "  <thead>\n",
       "    <tr>\n",
       "      <th></th>\n",
       "      <th>trip_id</th>\n",
       "      <th colspan=\"3\" halign=\"left\">timestamp</th>\n",
       "    </tr>\n",
       "    <tr>\n",
       "      <th></th>\n",
       "      <th></th>\n",
       "      <th>len</th>\n",
       "      <th>min</th>\n",
       "      <th>max</th>\n",
       "    </tr>\n",
       "  </thead>\n",
       "  <tbody>\n",
       "    <tr>\n",
       "      <th>0</th>\n",
       "      <td>-74</td>\n",
       "      <td>1337</td>\n",
       "      <td>2017-11-18 22:50:21</td>\n",
       "      <td>2018-01-19 19:49:11</td>\n",
       "    </tr>\n",
       "    <tr>\n",
       "      <th>1</th>\n",
       "      <td>-45</td>\n",
       "      <td>1432</td>\n",
       "      <td>2017-11-20 17:12:53</td>\n",
       "      <td>2018-01-30 16:59:43</td>\n",
       "    </tr>\n",
       "    <tr>\n",
       "      <th>2</th>\n",
       "      <td>-2</td>\n",
       "      <td>1457</td>\n",
       "      <td>2017-11-30 06:29:41</td>\n",
       "      <td>2018-01-18 13:56:04</td>\n",
       "    </tr>\n",
       "    <tr>\n",
       "      <th>3</th>\n",
       "      <td>-39</td>\n",
       "      <td>1488</td>\n",
       "      <td>2017-11-20 20:09:41</td>\n",
       "      <td>2018-01-15 17:14:15</td>\n",
       "    </tr>\n",
       "    <tr>\n",
       "      <th>4</th>\n",
       "      <td>-20</td>\n",
       "      <td>1507</td>\n",
       "      <td>2017-11-21 18:47:19</td>\n",
       "      <td>2018-01-16 20:11:25</td>\n",
       "    </tr>\n",
       "    <tr>\n",
       "      <th>...</th>\n",
       "      <td>...</td>\n",
       "      <td>...</td>\n",
       "      <td>...</td>\n",
       "      <td>...</td>\n",
       "    </tr>\n",
       "    <tr>\n",
       "      <th>123</th>\n",
       "      <td>-9</td>\n",
       "      <td>10423</td>\n",
       "      <td>2017-11-25 09:15:14</td>\n",
       "      <td>2018-01-17 18:15:24</td>\n",
       "    </tr>\n",
       "    <tr>\n",
       "      <th>124</th>\n",
       "      <td>-65</td>\n",
       "      <td>10826</td>\n",
       "      <td>2017-11-19 14:07:53</td>\n",
       "      <td>2018-01-21 19:17:58</td>\n",
       "    </tr>\n",
       "    <tr>\n",
       "      <th>125</th>\n",
       "      <td>-88</td>\n",
       "      <td>10847</td>\n",
       "      <td>2017-11-18 20:59:00</td>\n",
       "      <td>2018-01-18 21:04:22</td>\n",
       "    </tr>\n",
       "    <tr>\n",
       "      <th>126</th>\n",
       "      <td>-105</td>\n",
       "      <td>11822</td>\n",
       "      <td>2017-11-18 19:59:53</td>\n",
       "      <td>2018-01-31 13:56:27</td>\n",
       "    </tr>\n",
       "    <tr>\n",
       "      <th>127</th>\n",
       "      <td>-15</td>\n",
       "      <td>15984</td>\n",
       "      <td>2017-11-22 07:15:11</td>\n",
       "      <td>2018-01-17 12:21:02</td>\n",
       "    </tr>\n",
       "  </tbody>\n",
       "</table>\n",
       "<p>128 rows × 4 columns</p>\n",
       "</div>"
      ],
      "text/plain": [
       "    trip_id timestamp                                        \n",
       "                  len                 min                 max\n",
       "0       -74      1337 2017-11-18 22:50:21 2018-01-19 19:49:11\n",
       "1       -45      1432 2017-11-20 17:12:53 2018-01-30 16:59:43\n",
       "2        -2      1457 2017-11-30 06:29:41 2018-01-18 13:56:04\n",
       "3       -39      1488 2017-11-20 20:09:41 2018-01-15 17:14:15\n",
       "4       -20      1507 2017-11-21 18:47:19 2018-01-16 20:11:25\n",
       "..      ...       ...                 ...                 ...\n",
       "123      -9     10423 2017-11-25 09:15:14 2018-01-17 18:15:24\n",
       "124     -65     10826 2017-11-19 14:07:53 2018-01-21 19:17:58\n",
       "125     -88     10847 2017-11-18 20:59:00 2018-01-18 21:04:22\n",
       "126    -105     11822 2017-11-18 19:59:53 2018-01-31 13:56:27\n",
       "127     -15     15984 2017-11-22 07:15:11 2018-01-17 12:21:02\n",
       "\n",
       "[128 rows x 4 columns]"
      ]
     },
     "execution_count": 24,
     "metadata": {},
     "output_type": "execute_result"
    }
   ],
   "source": [
    "car_df[car_df['trip_id'] < 0][['trip_id', 'timestamp']]\\\n",
    "    .groupby('trip_id')\\\n",
    "    .agg({'timestamp': [len, min, max]})\\\n",
    "    .sort_values(('timestamp', 'len'))\\\n",
    "    .reset_index()"
   ]
  },
  {
   "cell_type": "markdown",
   "id": "eb0c51d6",
   "metadata": {},
   "source": [
    "### Signal Completeness\n",
    "Only 3.48% trips have a complete signal history. Filling missing records is computationally expensive.\n",
    "\n",
    "**A simply workaround is to treat timestamps as conseuctive signals.**"
   ]
  },
  {
   "cell_type": "code",
   "execution_count": 25,
   "id": "0b5fe668",
   "metadata": {},
   "outputs": [],
   "source": [
    "def unique_timestamps(x): \n",
    "    return len(set(x))\n",
    "\n",
    "trip_df = car_df[['device_id', 'trip_id', 'timestamp']]\\\n",
    "    .groupby(['device_id', 'trip_id'])\\\n",
    "    .agg({'timestamp': [unique_timestamps, min, max]})\\\n",
    "    .sort_values(('timestamp', 'unique_timestamps'))\\\n",
    "    .reset_index()"
   ]
  },
  {
   "cell_type": "code",
   "execution_count": 26,
   "id": "f149feca",
   "metadata": {},
   "outputs": [
    {
     "data": {
      "text/html": [
       "<div>\n",
       "<style scoped>\n",
       "    .dataframe tbody tr th:only-of-type {\n",
       "        vertical-align: middle;\n",
       "    }\n",
       "\n",
       "    .dataframe tbody tr th {\n",
       "        vertical-align: top;\n",
       "    }\n",
       "\n",
       "    .dataframe thead tr th {\n",
       "        text-align: left;\n",
       "    }\n",
       "</style>\n",
       "<table border=\"1\" class=\"dataframe\">\n",
       "  <thead>\n",
       "    <tr>\n",
       "      <th></th>\n",
       "      <th>device_id</th>\n",
       "      <th>trip_id</th>\n",
       "      <th colspan=\"3\" halign=\"left\">timestamp</th>\n",
       "      <th>time_steps</th>\n",
       "    </tr>\n",
       "    <tr>\n",
       "      <th></th>\n",
       "      <th></th>\n",
       "      <th></th>\n",
       "      <th>unique_timestamps</th>\n",
       "      <th>min</th>\n",
       "      <th>max</th>\n",
       "      <th></th>\n",
       "    </tr>\n",
       "  </thead>\n",
       "  <tbody>\n",
       "    <tr>\n",
       "      <th>0</th>\n",
       "      <td>8</td>\n",
       "      <td>1</td>\n",
       "      <td>150</td>\n",
       "      <td>2018-01-12 11:59:52</td>\n",
       "      <td>2018-01-12 12:02:26</td>\n",
       "      <td>154</td>\n",
       "    </tr>\n",
       "    <tr>\n",
       "      <th>1</th>\n",
       "      <td>14</td>\n",
       "      <td>1</td>\n",
       "      <td>160</td>\n",
       "      <td>2017-12-21 10:59:18</td>\n",
       "      <td>2017-12-21 11:02:01</td>\n",
       "      <td>163</td>\n",
       "    </tr>\n",
       "    <tr>\n",
       "      <th>2</th>\n",
       "      <td>10</td>\n",
       "      <td>62</td>\n",
       "      <td>161</td>\n",
       "      <td>2017-12-07 20:49:54</td>\n",
       "      <td>2017-12-07 20:52:46</td>\n",
       "      <td>172</td>\n",
       "    </tr>\n",
       "    <tr>\n",
       "      <th>3</th>\n",
       "      <td>14</td>\n",
       "      <td>3</td>\n",
       "      <td>162</td>\n",
       "      <td>2017-12-24 09:37:22</td>\n",
       "      <td>2017-12-24 09:40:04</td>\n",
       "      <td>162</td>\n",
       "    </tr>\n",
       "    <tr>\n",
       "      <th>4</th>\n",
       "      <td>3</td>\n",
       "      <td>100</td>\n",
       "      <td>162</td>\n",
       "      <td>2018-01-24 22:07:58</td>\n",
       "      <td>2018-01-24 22:10:42</td>\n",
       "      <td>164</td>\n",
       "    </tr>\n",
       "  </tbody>\n",
       "</table>\n",
       "</div>"
      ],
      "text/plain": [
       "  device_id trip_id         timestamp                                          \\\n",
       "                    unique_timestamps                 min                 max   \n",
       "0         8       1               150 2018-01-12 11:59:52 2018-01-12 12:02:26   \n",
       "1        14       1               160 2017-12-21 10:59:18 2017-12-21 11:02:01   \n",
       "2        10      62               161 2017-12-07 20:49:54 2017-12-07 20:52:46   \n",
       "3        14       3               162 2017-12-24 09:37:22 2017-12-24 09:40:04   \n",
       "4         3     100               162 2018-01-24 22:07:58 2018-01-24 22:10:42   \n",
       "\n",
       "  time_steps  \n",
       "              \n",
       "0        154  \n",
       "1        163  \n",
       "2        172  \n",
       "3        162  \n",
       "4        164  "
      ]
     },
     "execution_count": 26,
     "metadata": {},
     "output_type": "execute_result"
    }
   ],
   "source": [
    "trip_df['time_steps'] = (trip_df[('timestamp', 'max')] - trip_df[('timestamp', 'min')]).dt.seconds\n",
    "trip_df.head(5)"
   ]
  },
  {
   "cell_type": "code",
   "execution_count": 27,
   "id": "c47a7aaf",
   "metadata": {},
   "outputs": [
    {
     "name": "stdout",
     "output_type": "stream",
     "text": [
      "3.48% of trips have a complete signal history.\n"
     ]
    }
   ],
   "source": [
    "trip_df['is_complete'] = (trip_df['time_steps'] == trip_df[('timestamp', 'unique_timestamps')])\n",
    "print(\"{:,.3}% of trips have a complete signal history.\".format(\n",
    "    trip_df[(trip_df['is_complete'] == True)].shape[0] / trip_df.shape[0] * 100))"
   ]
  },
  {
   "cell_type": "markdown",
   "id": "901da6b8",
   "metadata": {},
   "source": [
    "### Diagnostic Trouble Code"
   ]
  },
  {
   "cell_type": "code",
   "execution_count": 28,
   "id": "f3517790",
   "metadata": {},
   "outputs": [
    {
     "data": {
      "text/plain": [
       " 0      1953894\n",
       "-127         55\n",
       " 67           2\n",
       "Name: diagnostic_trouble_code, dtype: int64"
      ]
     },
     "execution_count": 28,
     "metadata": {},
     "output_type": "execute_result"
    }
   ],
   "source": [
    "car_df['diagnostic_trouble_code'].value_counts()"
   ]
  },
  {
   "cell_type": "markdown",
   "id": "a3f1a4db",
   "metadata": {},
   "source": [
    "### Save out clean data"
   ]
  },
  {
   "cell_type": "code",
   "execution_count": null,
   "id": "a7f2b4b7",
   "metadata": {},
   "outputs": [],
   "source": [
    "car_df.to_csv('clean_ca')"
   ]
  },
  {
   "cell_type": "code",
   "execution_count": null,
   "id": "41c553a1",
   "metadata": {},
   "outputs": [],
   "source": []
  },
  {
   "cell_type": "markdown",
   "id": "0e676a6a",
   "metadata": {},
   "source": [
    "#### Behavior Analysis\n",
    "- trips completed per user\n",
    "- total drive time per user\n",
    "- drive time per trip\n",
    "- trip distance\n",
    "- trip history?\n",
    "\n",
    "\n",
    "- day driving time vs. night driving time (night time can be 11pm to 4am)\n",
    "- day driving is safter than night driving\n",
    "\n",
    "\n",
    "- hardbreaks\n",
    "- rash acceleration (hard accelerate)\n",
    "- drive speed (km/hr), overspeeding\n",
    "- idling with engine on (idling on a public road is dangerous. idling is not environmental friendly and burns the same amount of oil as driving.)\n",
    "\n",
    "#### Customer Segmentation\n",
    "Build driving behavior features for clustering, and analyse the commonality in each group. But customer profiling with more meaningful background information can make features more representative.\n",
    "\n",
    "Beside, we don't have any customer information in the data.\n",
    "\n",
    "#### Customer Safety Analysis\n",
    "Some customers are more risky while driving. It causes a high chance to car accidents. It impacts car availability."
   ]
  },
  {
   "cell_type": "code",
   "execution_count": null,
   "id": "94ae448a",
   "metadata": {},
   "outputs": [],
   "source": []
  },
  {
   "cell_type": "code",
   "execution_count": null,
   "id": "27934f05",
   "metadata": {},
   "outputs": [],
   "source": []
  },
  {
   "cell_type": "code",
   "execution_count": null,
   "id": "43624fee",
   "metadata": {},
   "outputs": [],
   "source": []
  },
  {
   "cell_type": "markdown",
   "id": "d269581d",
   "metadata": {},
   "source": [
    "#### Car Usage Analysis\n",
    "- what OBD data can tell?\n",
    "- "
   ]
  },
  {
   "cell_type": "code",
   "execution_count": null,
   "id": "0221f892",
   "metadata": {},
   "outputs": [],
   "source": []
  }
 ],
 "metadata": {
  "kernelspec": {
   "display_name": "Python 3 (ipykernel)",
   "language": "python",
   "name": "python3"
  },
  "language_info": {
   "codemirror_mode": {
    "name": "ipython",
    "version": 3
   },
   "file_extension": ".py",
   "mimetype": "text/x-python",
   "name": "python",
   "nbconvert_exporter": "python",
   "pygments_lexer": "ipython3",
   "version": "3.9.12"
  }
 },
 "nbformat": 4,
 "nbformat_minor": 5
}
