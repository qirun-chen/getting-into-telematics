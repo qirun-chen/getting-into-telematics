{
 "cells": [
  {
   "cell_type": "code",
   "execution_count": 1,
   "id": "beada403",
   "metadata": {},
   "outputs": [],
   "source": [
    "import pandas as pd\n",
    "import numpy as np\n",
    "import matplotlib.pyplot as plt\n",
    "import seaborn as sns"
   ]
  },
  {
   "cell_type": "code",
   "execution_count": 2,
   "id": "55e229bf",
   "metadata": {},
   "outputs": [
    {
     "data": {
      "text/plain": [
       "(1953951, 20)"
      ]
     },
     "execution_count": 2,
     "metadata": {},
     "output_type": "execute_result"
    }
   ],
   "source": [
    "car_df = pd.read_csv('clean_signals.csv')\n",
    "\n",
    "car_df['timestamp'] = pd.to_datetime(car_df['timestamp'])\n",
    "\n",
    "car_df.shape"
   ]
  },
  {
   "cell_type": "code",
   "execution_count": 87,
   "id": "0726d7e3",
   "metadata": {},
   "outputs": [],
   "source": [
    "signal_cols = ['speed', 'acc_x', 'acc_y', 'acc_z']\n",
    "target_cols = ['device_id', 'trip_id', 'timestamp'] + signal_cols"
   ]
  },
  {
   "cell_type": "code",
   "execution_count": 4,
   "id": "183687b7",
   "metadata": {},
   "outputs": [
    {
     "data": {
      "text/html": [
       "<div>\n",
       "<style scoped>\n",
       "    .dataframe tbody tr th:only-of-type {\n",
       "        vertical-align: middle;\n",
       "    }\n",
       "\n",
       "    .dataframe tbody tr th {\n",
       "        vertical-align: top;\n",
       "    }\n",
       "\n",
       "    .dataframe thead th {\n",
       "        text-align: right;\n",
       "    }\n",
       "</style>\n",
       "<table border=\"1\" class=\"dataframe\">\n",
       "  <thead>\n",
       "    <tr style=\"text-align: right;\">\n",
       "      <th></th>\n",
       "      <th>device_id</th>\n",
       "      <th>trip_id</th>\n",
       "      <th>timestamp</th>\n",
       "      <th>speed</th>\n",
       "      <th>acc_x</th>\n",
       "      <th>acc_y</th>\n",
       "      <th>acc_z</th>\n",
       "    </tr>\n",
       "  </thead>\n",
       "  <tbody>\n",
       "    <tr>\n",
       "      <th>183104</th>\n",
       "      <td>1</td>\n",
       "      <td>1</td>\n",
       "      <td>2018-01-24 19:48:01</td>\n",
       "      <td>3</td>\n",
       "      <td>-0.023588</td>\n",
       "      <td>-0.061869</td>\n",
       "      <td>-0.044745</td>\n",
       "    </tr>\n",
       "    <tr>\n",
       "      <th>183105</th>\n",
       "      <td>1</td>\n",
       "      <td>1</td>\n",
       "      <td>2018-01-24 19:48:02</td>\n",
       "      <td>2</td>\n",
       "      <td>-0.261130</td>\n",
       "      <td>-0.781108</td>\n",
       "      <td>-0.566984</td>\n",
       "    </tr>\n",
       "    <tr>\n",
       "      <th>183106</th>\n",
       "      <td>1</td>\n",
       "      <td>1</td>\n",
       "      <td>2018-01-24 19:48:03</td>\n",
       "      <td>0</td>\n",
       "      <td>-0.252172</td>\n",
       "      <td>-0.782251</td>\n",
       "      <td>-0.586721</td>\n",
       "    </tr>\n",
       "    <tr>\n",
       "      <th>183107</th>\n",
       "      <td>1</td>\n",
       "      <td>1</td>\n",
       "      <td>2018-01-24 19:48:04</td>\n",
       "      <td>0</td>\n",
       "      <td>-0.251845</td>\n",
       "      <td>-0.809530</td>\n",
       "      <td>-0.538245</td>\n",
       "    </tr>\n",
       "    <tr>\n",
       "      <th>183108</th>\n",
       "      <td>1</td>\n",
       "      <td>1</td>\n",
       "      <td>2018-01-24 19:48:05</td>\n",
       "      <td>0</td>\n",
       "      <td>-0.229758</td>\n",
       "      <td>-0.806974</td>\n",
       "      <td>-0.552653</td>\n",
       "    </tr>\n",
       "  </tbody>\n",
       "</table>\n",
       "</div>"
      ],
      "text/plain": [
       "        device_id  trip_id           timestamp  speed     acc_x     acc_y  \\\n",
       "183104          1        1 2018-01-24 19:48:01      3 -0.023588 -0.061869   \n",
       "183105          1        1 2018-01-24 19:48:02      2 -0.261130 -0.781108   \n",
       "183106          1        1 2018-01-24 19:48:03      0 -0.252172 -0.782251   \n",
       "183107          1        1 2018-01-24 19:48:04      0 -0.251845 -0.809530   \n",
       "183108          1        1 2018-01-24 19:48:05      0 -0.229758 -0.806974   \n",
       "\n",
       "           acc_z  \n",
       "183104 -0.044745  \n",
       "183105 -0.566984  \n",
       "183106 -0.586721  \n",
       "183107 -0.538245  \n",
       "183108 -0.552653  "
      ]
     },
     "execution_count": 4,
     "metadata": {},
     "output_type": "execute_result"
    }
   ],
   "source": [
    "complete_driving_df = car_df[car_df['is_complete'] == True][target_cols]\n",
    "    \n",
    "complete_driving_df.head()"
   ]
  },
  {
   "cell_type": "code",
   "execution_count": 5,
   "id": "8a9da3ca",
   "metadata": {},
   "outputs": [
    {
     "data": {
      "text/html": [
       "<div>\n",
       "<style scoped>\n",
       "    .dataframe tbody tr th:only-of-type {\n",
       "        vertical-align: middle;\n",
       "    }\n",
       "\n",
       "    .dataframe tbody tr th {\n",
       "        vertical-align: top;\n",
       "    }\n",
       "\n",
       "    .dataframe thead th {\n",
       "        text-align: right;\n",
       "    }\n",
       "</style>\n",
       "<table border=\"1\" class=\"dataframe\">\n",
       "  <thead>\n",
       "    <tr style=\"text-align: right;\">\n",
       "      <th></th>\n",
       "      <th>day_of_the_month</th>\n",
       "    </tr>\n",
       "    <tr>\n",
       "      <th>device_id</th>\n",
       "      <th></th>\n",
       "    </tr>\n",
       "  </thead>\n",
       "  <tbody>\n",
       "    <tr>\n",
       "      <th>1</th>\n",
       "      <td>24, 25</td>\n",
       "    </tr>\n",
       "    <tr>\n",
       "      <th>2</th>\n",
       "      <td>16, 19, 20, 21</td>\n",
       "    </tr>\n",
       "    <tr>\n",
       "      <th>3</th>\n",
       "      <td>11, 12, 21, 28, 31</td>\n",
       "    </tr>\n",
       "    <tr>\n",
       "      <th>5</th>\n",
       "      <td>10, 12, 13, 15, 16, 17, 19, 20, 22</td>\n",
       "    </tr>\n",
       "    <tr>\n",
       "      <th>6</th>\n",
       "      <td>29, 31</td>\n",
       "    </tr>\n",
       "    <tr>\n",
       "      <th>7</th>\n",
       "      <td>12, 16, 18, 21, 30</td>\n",
       "    </tr>\n",
       "    <tr>\n",
       "      <th>8</th>\n",
       "      <td>29</td>\n",
       "    </tr>\n",
       "    <tr>\n",
       "      <th>10</th>\n",
       "      <td>1, 3, 9, 13, 19, 20, 28, 29, 30</td>\n",
       "    </tr>\n",
       "    <tr>\n",
       "      <th>11</th>\n",
       "      <td>31</td>\n",
       "    </tr>\n",
       "    <tr>\n",
       "      <th>14</th>\n",
       "      <td>24</td>\n",
       "    </tr>\n",
       "  </tbody>\n",
       "</table>\n",
       "</div>"
      ],
      "text/plain": [
       "                             day_of_the_month\n",
       "device_id                                    \n",
       "1                                      24, 25\n",
       "2                              16, 19, 20, 21\n",
       "3                          11, 12, 21, 28, 31\n",
       "5          10, 12, 13, 15, 16, 17, 19, 20, 22\n",
       "6                                      29, 31\n",
       "7                          12, 16, 18, 21, 30\n",
       "8                                          29\n",
       "10            1, 3, 9, 13, 19, 20, 28, 29, 30\n",
       "11                                         31\n",
       "14                                         24"
      ]
     },
     "execution_count": 5,
     "metadata": {},
     "output_type": "execute_result"
    }
   ],
   "source": [
    "def device_driving_history(df):\n",
    "\n",
    "    df['day_of_the_month'] = df['timestamp'].dt.day.astype(str)\n",
    "\n",
    "    return df[['device_id', 'day_of_the_month']]\\\n",
    "        .drop_duplicates()\\\n",
    "        .groupby(['device_id'])\\\n",
    "        .agg({'day_of_the_month': lambda x: ', '.join(x.values)})\n",
    "\n",
    "device_driving_history(complete_driving_df.copy())"
   ]
  },
  {
   "cell_type": "code",
   "execution_count": 6,
   "id": "0d00780b",
   "metadata": {},
   "outputs": [],
   "source": [
    "def extract_driving_period(df):\n",
    "    \n",
    "    driving_period_list = list()\n",
    "    \n",
    "    for i, ((device_id, trip_id), group_df) in enumerate(df.groupby(['device_id', 'trip_id'])):\n",
    "        group_df = group_df.reset_index(drop=True)\\\n",
    "            .reset_index()\\\n",
    "            .rename(columns={'index': 'time_step'})\n",
    "\n",
    "        # Drop the first record to smooth the signals\n",
    "        group_df = group_df.loc[1:]\n",
    "\n",
    "        # Fine the time before stopping the card. \n",
    "        driving_time_index = group_df[group_df['speed'] > 0]\n",
    "        time_before_driving = driving_time_index.index.min()\n",
    "        time_before_stop = driving_time_index.index.max()\n",
    "        \n",
    "        # Remove the records of stopping.\n",
    "        group_df = group_df.loc[np.maximum(0, time_before_driving-5): time_before_stop+5]\n",
    "        \n",
    "        if ~np.isnan(time_before_stop) and group_df.shape[0] > 50:\n",
    "            driving_period_list.append(group_df)\n",
    "            \n",
    "    return pd.concat(driving_period_list, ignore_index=True)"
   ]
  },
  {
   "cell_type": "code",
   "execution_count": 10,
   "id": "1bcc866d",
   "metadata": {},
   "outputs": [],
   "source": [
    "driving_df = extract_driving_period(complete_driving_df)"
   ]
  },
  {
   "cell_type": "code",
   "execution_count": 48,
   "id": "782d5424",
   "metadata": {},
   "outputs": [],
   "source": [
    "def plot_driving_period(df):\n",
    "    for i, ((device_id, trip_id), group_df) in enumerate(df.groupby(['device_id', 'trip_id'])):\n",
    "        group_df = group_df.reset_index(drop=True).reset_index()\n",
    "\n",
    "        plt.figure()\n",
    "        _, axes = plt.subplots(2, 1, figsize=(12, 4))\n",
    "        sns.lineplot(x=group_df['index'], y=group_df['acc_x'], ax=axes[0], color='blue')\n",
    "        sns.lineplot(x=group_df['index'], y=group_df['acc_y'], ax=axes[0], color='green')\n",
    "        sns.lineplot(x=group_df['index'], y=group_df['acc_z'], ax=axes[0], color='red')\n",
    "        axes[0].set_title('Accelerometer signals for device id: {} | trip id: {}'.format(device_id, trip_id))\n",
    "        axes[0].set_ylabel('Amplitude')\n",
    "        axes[0].legend(labels=['x', 'y', 'z'], loc='upper right')\n",
    "        sns.lineplot(x=group_df['index'], y=group_df['speed'], ax=axes[1], color='grey')\\\n",
    "            .set_xlabel('Time step (sec)')\n",
    "    \n",
    "        if i == 1: break"
   ]
  },
  {
   "cell_type": "code",
   "execution_count": 49,
   "id": "90bf1f5a",
   "metadata": {
    "scrolled": false
   },
   "outputs": [
    {
     "data": {
      "text/plain": [
       "<Figure size 432x288 with 0 Axes>"
      ]
     },
     "metadata": {},
     "output_type": "display_data"
    },
    {
     "data": {
      "image/png": "[encoded data removed]",
      "text/plain": [
       "<Figure size 864x288 with 2 Axes>"
      ]
     },
     "metadata": {
      "needs_background": "light"
     },
     "output_type": "display_data"
    },
    {
     "data": {
      "text/plain": [
       "<Figure size 432x288 with 0 Axes>"
      ]
     },
     "metadata": {},
     "output_type": "display_data"
    },
    {
     "data": {
      "image/png": "[encoded data removed]",
      "text/plain": [
       "<Figure size 864x288 with 2 Axes>"
      ]
     },
     "metadata": {
      "needs_background": "light"
     },
     "output_type": "display_data"
    }
   ],
   "source": [
    "plot_driving_period(driving_df)"
   ]
  },
  {
   "cell_type": "markdown",
   "id": "e8ade738",
   "metadata": {},
   "source": [
    "### Driving length distribution\n",
    "All the driving lengths are longer than 50 seconds. **We can use 50 time steps as a window to build features**."
   ]
  },
  {
   "cell_type": "code",
   "execution_count": 23,
   "id": "7673ab18",
   "metadata": {},
   "outputs": [],
   "source": [
    "driving_length = driving_df[['device_id', 'trip_id', 'time_step']]\\\n",
    "    .groupby(['device_id', 'trip_id'])\\\n",
    "    .count()\\\n",
    "    .rename(columns={'time_step': 'driving length (sec)'})['driving length (sec)']"
   ]
  },
  {
   "cell_type": "code",
   "execution_count": 29,
   "id": "c4e976e0",
   "metadata": {},
   "outputs": [
    {
     "data": {
      "text/plain": [
       "Text(0.5, 1.0, 'Driving length distribution')"
      ]
     },
     "execution_count": 29,
     "metadata": {},
     "output_type": "execute_result"
    },
    {
     "data": {
      "image/png": "[encoded data removed]",
      "text/plain": [
       "<Figure size 432x288 with 1 Axes>"
      ]
     },
     "metadata": {
      "needs_background": "light"
     },
     "output_type": "display_data"
    }
   ],
   "source": [
    "sns.histplot(driving_length, binwidth=50).set_title(\"Driving length distribution\")"
   ]
  },
  {
   "cell_type": "markdown",
   "id": "8bef7e2d",
   "metadata": {},
   "source": [
    "### Transform signals into window samples"
   ]
  },
  {
   "cell_type": "code",
   "execution_count": 51,
   "id": "004df8b7",
   "metadata": {},
   "outputs": [
    {
     "data": {
      "text/html": [
       "<div>\n",
       "<style scoped>\n",
       "    .dataframe tbody tr th:only-of-type {\n",
       "        vertical-align: middle;\n",
       "    }\n",
       "\n",
       "    .dataframe tbody tr th {\n",
       "        vertical-align: top;\n",
       "    }\n",
       "\n",
       "    .dataframe thead th {\n",
       "        text-align: right;\n",
       "    }\n",
       "</style>\n",
       "<table border=\"1\" class=\"dataframe\">\n",
       "  <thead>\n",
       "    <tr style=\"text-align: right;\">\n",
       "      <th></th>\n",
       "      <th>time_step</th>\n",
       "      <th>device_id</th>\n",
       "      <th>trip_id</th>\n",
       "      <th>timestamp</th>\n",
       "      <th>speed</th>\n",
       "      <th>acc_x</th>\n",
       "      <th>acc_y</th>\n",
       "      <th>acc_z</th>\n",
       "    </tr>\n",
       "  </thead>\n",
       "  <tbody>\n",
       "    <tr>\n",
       "      <th>0</th>\n",
       "      <td>1</td>\n",
       "      <td>1</td>\n",
       "      <td>1</td>\n",
       "      <td>2018-01-24 19:48:02</td>\n",
       "      <td>2</td>\n",
       "      <td>-0.261130</td>\n",
       "      <td>-0.781108</td>\n",
       "      <td>-0.566984</td>\n",
       "    </tr>\n",
       "    <tr>\n",
       "      <th>1</th>\n",
       "      <td>2</td>\n",
       "      <td>1</td>\n",
       "      <td>1</td>\n",
       "      <td>2018-01-24 19:48:03</td>\n",
       "      <td>0</td>\n",
       "      <td>-0.252172</td>\n",
       "      <td>-0.782251</td>\n",
       "      <td>-0.586721</td>\n",
       "    </tr>\n",
       "    <tr>\n",
       "      <th>2</th>\n",
       "      <td>3</td>\n",
       "      <td>1</td>\n",
       "      <td>1</td>\n",
       "      <td>2018-01-24 19:48:04</td>\n",
       "      <td>0</td>\n",
       "      <td>-0.251845</td>\n",
       "      <td>-0.809530</td>\n",
       "      <td>-0.538245</td>\n",
       "    </tr>\n",
       "    <tr>\n",
       "      <th>3</th>\n",
       "      <td>4</td>\n",
       "      <td>1</td>\n",
       "      <td>1</td>\n",
       "      <td>2018-01-24 19:48:05</td>\n",
       "      <td>0</td>\n",
       "      <td>-0.229758</td>\n",
       "      <td>-0.806974</td>\n",
       "      <td>-0.552653</td>\n",
       "    </tr>\n",
       "    <tr>\n",
       "      <th>4</th>\n",
       "      <td>5</td>\n",
       "      <td>1</td>\n",
       "      <td>1</td>\n",
       "      <td>2018-01-24 19:48:06</td>\n",
       "      <td>2</td>\n",
       "      <td>-0.228376</td>\n",
       "      <td>-0.787745</td>\n",
       "      <td>-0.569626</td>\n",
       "    </tr>\n",
       "  </tbody>\n",
       "</table>\n",
       "</div>"
      ],
      "text/plain": [
       "   time_step  device_id  trip_id           timestamp  speed     acc_x  \\\n",
       "0          1          1        1 2018-01-24 19:48:02      2 -0.261130   \n",
       "1          2          1        1 2018-01-24 19:48:03      0 -0.252172   \n",
       "2          3          1        1 2018-01-24 19:48:04      0 -0.251845   \n",
       "3          4          1        1 2018-01-24 19:48:05      0 -0.229758   \n",
       "4          5          1        1 2018-01-24 19:48:06      2 -0.228376   \n",
       "\n",
       "      acc_y     acc_z  \n",
       "0 -0.781108 -0.566984  \n",
       "1 -0.782251 -0.586721  \n",
       "2 -0.809530 -0.538245  \n",
       "3 -0.806974 -0.552653  \n",
       "4 -0.787745 -0.569626  "
      ]
     },
     "execution_count": 51,
     "metadata": {},
     "output_type": "execute_result"
    }
   ],
   "source": [
    "driving_df.head()"
   ]
  },
  {
   "cell_type": "code",
   "execution_count": 53,
   "id": "8cd64834",
   "metadata": {},
   "outputs": [
    {
     "data": {
      "text/html": [
       "<div>\n",
       "<style scoped>\n",
       "    .dataframe tbody tr th:only-of-type {\n",
       "        vertical-align: middle;\n",
       "    }\n",
       "\n",
       "    .dataframe tbody tr th {\n",
       "        vertical-align: top;\n",
       "    }\n",
       "\n",
       "    .dataframe thead th {\n",
       "        text-align: right;\n",
       "    }\n",
       "</style>\n",
       "<table border=\"1\" class=\"dataframe\">\n",
       "  <thead>\n",
       "    <tr style=\"text-align: right;\">\n",
       "      <th></th>\n",
       "      <th>device_id</th>\n",
       "      <th>trip_id</th>\n",
       "      <th>time_step</th>\n",
       "    </tr>\n",
       "  </thead>\n",
       "  <tbody>\n",
       "    <tr>\n",
       "      <th>0</th>\n",
       "      <td>1</td>\n",
       "      <td>1</td>\n",
       "      <td>1</td>\n",
       "    </tr>\n",
       "    <tr>\n",
       "      <th>1</th>\n",
       "      <td>1</td>\n",
       "      <td>1</td>\n",
       "      <td>2</td>\n",
       "    </tr>\n",
       "    <tr>\n",
       "      <th>2</th>\n",
       "      <td>1</td>\n",
       "      <td>1</td>\n",
       "      <td>3</td>\n",
       "    </tr>\n",
       "    <tr>\n",
       "      <th>3</th>\n",
       "      <td>1</td>\n",
       "      <td>1</td>\n",
       "      <td>4</td>\n",
       "    </tr>\n",
       "    <tr>\n",
       "      <th>4</th>\n",
       "      <td>1</td>\n",
       "      <td>1</td>\n",
       "      <td>5</td>\n",
       "    </tr>\n",
       "    <tr>\n",
       "      <th>...</th>\n",
       "      <td>...</td>\n",
       "      <td>...</td>\n",
       "      <td>...</td>\n",
       "    </tr>\n",
       "    <tr>\n",
       "      <th>6936</th>\n",
       "      <td>11</td>\n",
       "      <td>9</td>\n",
       "      <td>568</td>\n",
       "    </tr>\n",
       "    <tr>\n",
       "      <th>6937</th>\n",
       "      <td>11</td>\n",
       "      <td>9</td>\n",
       "      <td>569</td>\n",
       "    </tr>\n",
       "    <tr>\n",
       "      <th>6938</th>\n",
       "      <td>11</td>\n",
       "      <td>9</td>\n",
       "      <td>570</td>\n",
       "    </tr>\n",
       "    <tr>\n",
       "      <th>6939</th>\n",
       "      <td>11</td>\n",
       "      <td>9</td>\n",
       "      <td>571</td>\n",
       "    </tr>\n",
       "    <tr>\n",
       "      <th>6940</th>\n",
       "      <td>11</td>\n",
       "      <td>9</td>\n",
       "      <td>572</td>\n",
       "    </tr>\n",
       "  </tbody>\n",
       "</table>\n",
       "<p>6941 rows × 3 columns</p>\n",
       "</div>"
      ],
      "text/plain": [
       "      device_id  trip_id  time_step\n",
       "0             1        1          1\n",
       "1             1        1          2\n",
       "2             1        1          3\n",
       "3             1        1          4\n",
       "4             1        1          5\n",
       "...         ...      ...        ...\n",
       "6936         11        9        568\n",
       "6937         11        9        569\n",
       "6938         11        9        570\n",
       "6939         11        9        571\n",
       "6940         11        9        572\n",
       "\n",
       "[6941 rows x 3 columns]"
      ]
     },
     "execution_count": 53,
     "metadata": {},
     "output_type": "execute_result"
    }
   ],
   "source": [
    "driving_df[['device_id', 'trip_id', 'time_step']]"
   ]
  },
  {
   "cell_type": "code",
   "execution_count": 54,
   "id": "31f96062",
   "metadata": {},
   "outputs": [],
   "source": [
    "import numpy as np\n",
    "from numpy.lib.stride_tricks import as_strided\n",
    "\n",
    "\n",
    "def windowed_view(arr, window, overlap):\n",
    "    \"\"\" Apply rolling windows into the array with an overlap\n",
    "    \"\"\"\n",
    "    \n",
    "    arr = np.asarray(arr)\n",
    "    window_step = window - overlap\n",
    "    new_shape = arr.shape[:-1] + ((arr.shape[-1] - overlap) // window_step, window)\n",
    "    new_strides = (arr.strides[:-1] + (window_step * arr.strides[-1],) + arr.strides[-1:])\n",
    "    \n",
    "    return as_strided(arr, shape=new_shape, strides=new_strides)"
   ]
  },
  {
   "cell_type": "code",
   "execution_count": 84,
   "id": "50f1e7f5",
   "metadata": {},
   "outputs": [],
   "source": [
    "def create_window_samples(df, window, overlap):\n",
    "    \n",
    "    window_samples_list = list()\n",
    "    labels_list = list()\n",
    "    \n",
    "    for (device_id, trip_id), trip_df in df.groupby(['device_id', 'trip_id']):\n",
    "        trip_length = trip_df.shape[0]\n",
    "        window_samples = windowed_view(trip_df['time_step'], window, overlap)\n",
    "        labels = np.full((window_samples.shape[0],), device_id)\n",
    "        window_samples_list.append(window_samples)\n",
    "        labels_list.append(labels)\n",
    "\n",
    "    return np.concatenate(window_samples_list), np.concatenate(labels_list)"
   ]
  },
  {
   "cell_type": "code",
   "execution_count": 85,
   "id": "4aef30fc",
   "metadata": {},
   "outputs": [],
   "source": [
    "window_samples, labels = create_window_samples(driving_df, window=50, overlap=25)"
   ]
  },
  {
   "cell_type": "code",
   "execution_count": 93,
   "id": "9fb059c8",
   "metadata": {},
   "outputs": [],
   "source": [
    "def extract_signals_per_window(df, window_samples, target_cols):\n",
    "    \n",
    "    signal_window_samples_list = list()\n",
    "    \n",
    "    for window in window_samples:\n",
    "        signal_window_samples_list.append(df.loc[window][target_cols].values)\n",
    "    \n",
    "    return np.asarray(signal_window_samples_list)"
   ]
  },
  {
   "cell_type": "code",
   "execution_count": 94,
   "id": "d00d7a85",
   "metadata": {},
   "outputs": [],
   "source": [
    "signal_window_samples = extract_signals_per_window(driving_df, window_samples, signal_cols)"
   ]
  },
  {
   "cell_type": "code",
   "execution_count": 95,
   "id": "b8d6bc03",
   "metadata": {},
   "outputs": [
    {
     "data": {
      "text/plain": [
       "(228, 50, 4)"
      ]
     },
     "execution_count": 95,
     "metadata": {},
     "output_type": "execute_result"
    }
   ],
   "source": [
    "signal_window_samples.shape"
   ]
  },
  {
   "cell_type": "markdown",
   "id": "35c49ab9",
   "metadata": {},
   "source": [
    "### Trip analysis\n",
    "- number of unique trips\n",
    "- trip duration distribution\n",
    "- trips per car\n",
    "- drive speed analysis (overspeeding) time spent on each speed bucket\n",
    "- time of idling with engine on per trip"
   ]
  },
  {
   "cell_type": "markdown",
   "id": "5a2c7c9a",
   "metadata": {},
   "source": [
    "#### Behavior Analysis\n",
    "- trips completed per user\n",
    "- total drive time per user\n",
    "- drive time per trip\n",
    "- trip distance\n",
    "- trip history?\n",
    "\n",
    "\n",
    "- day driving time vs. night driving time (night time can be 11pm to 4am)\n",
    "- day driving is safter than night driving\n",
    "\n",
    "\n",
    "- hardbrakes\n",
    "- rash acceleration (hard accelerate)\n",
    "- drive speed (km/hr), overspeeding\n",
    "- idling with engine on (idling on a public road is dangerous. idling is not environmental friendly and burns the same amount of oil as driving.)\n",
    "\n",
    "#### Customer Segmentation\n",
    "Build driving behavior features for clustering, and analyse the commonality in each group. But customer profiling with more meaningful background information can make features more representative.\n",
    "\n",
    "Beside, we don't have any customer information in the data.\n",
    "\n",
    "#### Customer Safety Analysis\n",
    "Some customers are more risky while driving. It causes a high chance to car accidents. It impacts car availability."
   ]
  }
 ],
 "metadata": {
  "kernelspec": {
   "display_name": "Python 3 (ipykernel)",
   "language": "python",
   "name": "python3"
  },
  "language_info": {
   "codemirror_mode": {
    "name": "ipython",
    "version": 3
   },
   "file_extension": ".py",
   "mimetype": "text/x-python",
   "name": "python",
   "nbconvert_exporter": "python",
   "pygments_lexer": "ipython3",
   "version": "3.9.12"
  }
 },
 "nbformat": 4,
 "nbformat_minor": 5
}
