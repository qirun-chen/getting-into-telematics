{
 "cells": [
  {
   "cell_type": "markdown",
   "id": "0c8f9f88",
   "metadata": {},
   "source": [
    "# Driver behavior mining\n",
    "\n",
    "Driver behavior mining can be an interesting topic in telemetics area. If we can learn the subtle patterns from risky drivers, we are able to measure the risk level of a driver or a trip, and then apply some alerts to avoid potential crash or accidents.\n",
    "\n",
    "### Industry Research\n",
    "\n",
    "I first did some industry research and learnt from this paper, [What can we learn from telematics car driving data: A survey](https://www.sciencedirect.com/science/article/pii/S0167668722000233#fg0010), that accelerometer signals and car speed data can surface some patterns in driving behavors. The authors used a simple CNN model to predict whether part of  driving signals is associated with a known driver. They achieved some good results in this prediction, so it tells CNN is able to learn behavior patterns from individuals.\n",
    "\n",
    "Sensor signals are temporal data. One of the most important characteristics in temporal data is every data point is a state and the next state can depend on previous states. It means the behavior a driver had at time step 10 is somehow a consequence of the behavior he/she did at time step 1. Just like a hard brake at 19:05:02 leads to the car to stop 3 seconds after. \n",
    "\n",
    "### How to learn this time dependent information from the data?\n",
    "\n",
    "CNN is a good approach. In image classification, an image's RGB is segregated into 3 channels. Each pixel is connected as a sequence, and passed into CNN as training data. Accelerometer signals are similar to this. X, y, z are just red, green, and blue. The convolution layer and pool layer extract important underlying features from the sequence. After the training, CNN is able to extract the best features from the sequence in order to make a good prediction. This can be considered as a type of \"aggregation\" over time series. \n",
    "\n",
    "\n",
    "### Optimize the idea and build a baseline model\n",
    "\n",
    "Here in this notebook, I replicated the idea from the paper but with different feature engineering techniques. \n",
    "\n",
    "The data the authors used only has speed signal, accelerometer signals on cars' movement direction, and the delta of direction change.\n",
    "\n",
    "But we have speed, and all vertical (x), horizontal (y), and movement direction (z) accelerometer signals. \n",
    "\n",
    "I first created a dataset using 50 time steps as a window sample with these 4 signals as 4 channels. And I normalized these 4 features, trained a CNN, but ended up with a poor model. I think it was speed signal causing the poor performance. Because speed signals are high correlated with movement direction signals and speed is a discrete value which hides many subtle changes. \n",
    "\n",
    "Then I removed speed signal and trained a CNN with only accelerometer signals. The model performed a bit better, but it still not satisfying. The reason was just I used standard scaler to normalize these signals. They are actually already in a uniform unit. Signals are more or less noisy. Standard scaler based on mean and std will be impacted by outliers.\n",
    "\n",
    "Finally, it sets a baseline at **93.6% F1 score** for predicting whether part of driving history is from a certain driver / device."
   ]
  },
  {
   "cell_type": "code",
   "execution_count": 1,
   "id": "beada403",
   "metadata": {},
   "outputs": [],
   "source": [
    "import pandas as pd\n",
    "import numpy as np\n",
    "import matplotlib.pyplot as plt\n",
    "import seaborn as sns\n",
    "from sklearn.preprocessing import StandardScaler\n",
    "from sklearn.model_selection import train_test_split\n",
    "\n",
    "import numpy as np\n",
    "from numpy.lib.stride_tricks import as_strided\n",
    "\n",
    "import tensorflow as tf\n",
    "tf.random.set_seed(42)\n",
    "from keras.models import Sequential\n",
    "from keras.layers import Dense, Dropout, Conv1D, MaxPool1D, GlobalMaxPooling1D\n",
    "from keras.utils import np_utils\n",
    "\n",
    "from sklearn.metrics import confusion_matrix"
   ]
  },
  {
   "cell_type": "code",
   "execution_count": 2,
   "id": "55e229bf",
   "metadata": {},
   "outputs": [
    {
     "data": {
      "text/plain": [
       "(1953951, 20)"
      ]
     },
     "execution_count": 2,
     "metadata": {},
     "output_type": "execute_result"
    }
   ],
   "source": [
    "car_df = pd.read_csv('clean_signals.csv')\n",
    "\n",
    "car_df['timestamp'] = pd.to_datetime(car_df['timestamp'])\n",
    "\n",
    "car_df.shape"
   ]
  },
  {
   "cell_type": "code",
   "execution_count": 3,
   "id": "0726d7e3",
   "metadata": {},
   "outputs": [],
   "source": [
    "signal_cols = ['speed', 'acc_x', 'acc_y', 'acc_z']\n",
    "# signal_cols = ['acc_x', 'acc_y', 'acc_z']\n",
    "target_cols = ['device_id', 'trip_id', 'timestamp'] + signal_cols"
   ]
  },
  {
   "cell_type": "code",
   "execution_count": 4,
   "id": "183687b7",
   "metadata": {},
   "outputs": [
    {
     "data": {
      "text/html": [
       "<div>\n",
       "<style scoped>\n",
       "    .dataframe tbody tr th:only-of-type {\n",
       "        vertical-align: middle;\n",
       "    }\n",
       "\n",
       "    .dataframe tbody tr th {\n",
       "        vertical-align: top;\n",
       "    }\n",
       "\n",
       "    .dataframe thead th {\n",
       "        text-align: right;\n",
       "    }\n",
       "</style>\n",
       "<table border=\"1\" class=\"dataframe\">\n",
       "  <thead>\n",
       "    <tr style=\"text-align: right;\">\n",
       "      <th></th>\n",
       "      <th>device_id</th>\n",
       "      <th>trip_id</th>\n",
       "      <th>timestamp</th>\n",
       "      <th>speed</th>\n",
       "      <th>acc_x</th>\n",
       "      <th>acc_y</th>\n",
       "      <th>acc_z</th>\n",
       "    </tr>\n",
       "  </thead>\n",
       "  <tbody>\n",
       "    <tr>\n",
       "      <th>183104</th>\n",
       "      <td>1</td>\n",
       "      <td>1</td>\n",
       "      <td>2018-01-24 19:48:01</td>\n",
       "      <td>3</td>\n",
       "      <td>-0.023588</td>\n",
       "      <td>-0.061869</td>\n",
       "      <td>-0.044745</td>\n",
       "    </tr>\n",
       "    <tr>\n",
       "      <th>183105</th>\n",
       "      <td>1</td>\n",
       "      <td>1</td>\n",
       "      <td>2018-01-24 19:48:02</td>\n",
       "      <td>2</td>\n",
       "      <td>-0.261130</td>\n",
       "      <td>-0.781108</td>\n",
       "      <td>-0.566984</td>\n",
       "    </tr>\n",
       "    <tr>\n",
       "      <th>183106</th>\n",
       "      <td>1</td>\n",
       "      <td>1</td>\n",
       "      <td>2018-01-24 19:48:03</td>\n",
       "      <td>0</td>\n",
       "      <td>-0.252172</td>\n",
       "      <td>-0.782251</td>\n",
       "      <td>-0.586721</td>\n",
       "    </tr>\n",
       "    <tr>\n",
       "      <th>183107</th>\n",
       "      <td>1</td>\n",
       "      <td>1</td>\n",
       "      <td>2018-01-24 19:48:04</td>\n",
       "      <td>0</td>\n",
       "      <td>-0.251845</td>\n",
       "      <td>-0.809530</td>\n",
       "      <td>-0.538245</td>\n",
       "    </tr>\n",
       "    <tr>\n",
       "      <th>183108</th>\n",
       "      <td>1</td>\n",
       "      <td>1</td>\n",
       "      <td>2018-01-24 19:48:05</td>\n",
       "      <td>0</td>\n",
       "      <td>-0.229758</td>\n",
       "      <td>-0.806974</td>\n",
       "      <td>-0.552653</td>\n",
       "    </tr>\n",
       "  </tbody>\n",
       "</table>\n",
       "</div>"
      ],
      "text/plain": [
       "        device_id  trip_id           timestamp  speed     acc_x     acc_y  \\\n",
       "183104          1        1 2018-01-24 19:48:01      3 -0.023588 -0.061869   \n",
       "183105          1        1 2018-01-24 19:48:02      2 -0.261130 -0.781108   \n",
       "183106          1        1 2018-01-24 19:48:03      0 -0.252172 -0.782251   \n",
       "183107          1        1 2018-01-24 19:48:04      0 -0.251845 -0.809530   \n",
       "183108          1        1 2018-01-24 19:48:05      0 -0.229758 -0.806974   \n",
       "\n",
       "           acc_z  \n",
       "183104 -0.044745  \n",
       "183105 -0.566984  \n",
       "183106 -0.586721  \n",
       "183107 -0.538245  \n",
       "183108 -0.552653  "
      ]
     },
     "execution_count": 4,
     "metadata": {},
     "output_type": "execute_result"
    }
   ],
   "source": [
    "complete_driving_df = car_df[car_df['is_complete'] == True][target_cols]\n",
    "    \n",
    "complete_driving_df.head()"
   ]
  },
  {
   "cell_type": "code",
   "execution_count": 5,
   "id": "01a54723",
   "metadata": {},
   "outputs": [
    {
     "data": {
      "text/html": [
       "<div>\n",
       "<style scoped>\n",
       "    .dataframe tbody tr th:only-of-type {\n",
       "        vertical-align: middle;\n",
       "    }\n",
       "\n",
       "    .dataframe tbody tr th {\n",
       "        vertical-align: top;\n",
       "    }\n",
       "\n",
       "    .dataframe thead th {\n",
       "        text-align: right;\n",
       "    }\n",
       "</style>\n",
       "<table border=\"1\" class=\"dataframe\">\n",
       "  <thead>\n",
       "    <tr style=\"text-align: right;\">\n",
       "      <th></th>\n",
       "      <th>day_of_the_month</th>\n",
       "    </tr>\n",
       "    <tr>\n",
       "      <th>device_id</th>\n",
       "      <th></th>\n",
       "    </tr>\n",
       "  </thead>\n",
       "  <tbody>\n",
       "    <tr>\n",
       "      <th>1</th>\n",
       "      <td>24, 25</td>\n",
       "    </tr>\n",
       "    <tr>\n",
       "      <th>2</th>\n",
       "      <td>16, 19, 20, 21</td>\n",
       "    </tr>\n",
       "    <tr>\n",
       "      <th>3</th>\n",
       "      <td>11, 12, 21, 28, 31</td>\n",
       "    </tr>\n",
       "    <tr>\n",
       "      <th>5</th>\n",
       "      <td>10, 12, 13, 15, 16, 17, 19, 20, 22</td>\n",
       "    </tr>\n",
       "    <tr>\n",
       "      <th>6</th>\n",
       "      <td>29, 31</td>\n",
       "    </tr>\n",
       "    <tr>\n",
       "      <th>7</th>\n",
       "      <td>12, 16, 18, 21, 30</td>\n",
       "    </tr>\n",
       "    <tr>\n",
       "      <th>8</th>\n",
       "      <td>29</td>\n",
       "    </tr>\n",
       "    <tr>\n",
       "      <th>10</th>\n",
       "      <td>1, 3, 9, 13, 19, 20, 28, 29, 30</td>\n",
       "    </tr>\n",
       "    <tr>\n",
       "      <th>11</th>\n",
       "      <td>31</td>\n",
       "    </tr>\n",
       "    <tr>\n",
       "      <th>14</th>\n",
       "      <td>24</td>\n",
       "    </tr>\n",
       "  </tbody>\n",
       "</table>\n",
       "</div>"
      ],
      "text/plain": [
       "                             day_of_the_month\n",
       "device_id                                    \n",
       "1                                      24, 25\n",
       "2                              16, 19, 20, 21\n",
       "3                          11, 12, 21, 28, 31\n",
       "5          10, 12, 13, 15, 16, 17, 19, 20, 22\n",
       "6                                      29, 31\n",
       "7                          12, 16, 18, 21, 30\n",
       "8                                          29\n",
       "10            1, 3, 9, 13, 19, 20, 28, 29, 30\n",
       "11                                         31\n",
       "14                                         24"
      ]
     },
     "execution_count": 5,
     "metadata": {},
     "output_type": "execute_result"
    }
   ],
   "source": [
    "def device_driving_history(df):\n",
    "\n",
    "    df['day_of_the_month'] = df['timestamp'].dt.day.astype(str)\n",
    "\n",
    "    return df[['device_id', 'day_of_the_month']]\\\n",
    "        .drop_duplicates()\\\n",
    "        .groupby(['device_id'])\\\n",
    "        .agg({'day_of_the_month': lambda x: ', '.join(x.values)})\n",
    "\n",
    "device_driving_history(complete_driving_df.copy())"
   ]
  },
  {
   "cell_type": "code",
   "execution_count": 6,
   "id": "3f83b27f",
   "metadata": {},
   "outputs": [],
   "source": [
    "def extract_driving_period(df):\n",
    "    \n",
    "    driving_period_list = list()\n",
    "    \n",
    "    for i, ((device_id, trip_id), group_df) in enumerate(df.groupby(['device_id', 'trip_id'])):\n",
    "        group_df = group_df.reset_index(drop=True)\\\n",
    "            .reset_index()\\\n",
    "            .rename(columns={'index': 'time_step'})\n",
    "\n",
    "        # Drop the first record to smooth the signals\n",
    "        group_df = group_df.loc[1:]\n",
    "\n",
    "        # Fine the time before stopping the card. \n",
    "        driving_time_index = group_df[group_df['speed'] > 0]\n",
    "        time_before_driving = driving_time_index.index.min()\n",
    "        time_before_stop = driving_time_index.index.max()\n",
    "        \n",
    "        # Remove the records of stopping.\n",
    "        group_df = group_df.loc[np.maximum(0, time_before_driving): time_before_stop]\n",
    "        \n",
    "        if ~np.isnan(time_before_stop) and group_df.shape[0] > 50:\n",
    "            driving_period_list.append(group_df)\n",
    "            \n",
    "    return pd.concat(driving_period_list, ignore_index=True)"
   ]
  },
  {
   "cell_type": "code",
   "execution_count": 7,
   "id": "27c5d597",
   "metadata": {},
   "outputs": [],
   "source": [
    "driving_df = extract_driving_period(complete_driving_df)"
   ]
  },
  {
   "cell_type": "code",
   "execution_count": 8,
   "id": "99f4addf",
   "metadata": {},
   "outputs": [],
   "source": [
    "def plot_driving_period(df):\n",
    "    for i, ((device_id, trip_id), group_df) in enumerate(df.groupby(['device_id', 'trip_id'])):\n",
    "        group_df = group_df.reset_index(drop=True).reset_index()\n",
    "\n",
    "        plt.figure()\n",
    "        _, axes = plt.subplots(2, 1, figsize=(12, 4))\n",
    "        sns.lineplot(x=group_df['index'], y=group_df['acc_x'], ax=axes[0], color='blue')\n",
    "        sns.lineplot(x=group_df['index'], y=group_df['acc_y'], ax=axes[0], color='green')\n",
    "        sns.lineplot(x=group_df['index'], y=group_df['acc_z'], ax=axes[0], color='red')\n",
    "        axes[0].set_title('Accelerometer signals for device id: {} | trip id: {}'.format(device_id, trip_id))\n",
    "        axes[0].set_ylabel('Amplitude')\n",
    "        axes[0].legend(labels=['x', 'y', 'z'], loc='upper right')\n",
    "        sns.lineplot(x=group_df['index'], y=group_df['speed'], ax=axes[1], color='grey')\\\n",
    "            .set_xlabel('Time step (sec)')\n",
    "    \n",
    "        if i == 1: break"
   ]
  },
  {
   "cell_type": "code",
   "execution_count": 9,
   "id": "8f601c51",
   "metadata": {
    "scrolled": false
   },
   "outputs": [
    {
     "data": {
      "text/plain": [
       "<Figure size 432x288 with 0 Axes>"
      ]
     },
     "metadata": {},
     "output_type": "display_data"
    },
    {
     "data": {
      "image/png": "[encoded data removed]",
      "text/plain": [
       "<Figure size 864x288 with 2 Axes>"
      ]
     },
     "metadata": {
      "needs_background": "light"
     },
     "output_type": "display_data"
    },
    {
     "data": {
      "text/plain": [
       "<Figure size 432x288 with 0 Axes>"
      ]
     },
     "metadata": {},
     "output_type": "display_data"
    },
    {
     "data": {
      "image/png": "[encoded data removed]",
      "text/plain": [
       "<Figure size 864x288 with 2 Axes>"
      ]
     },
     "metadata": {
      "needs_background": "light"
     },
     "output_type": "display_data"
    }
   ],
   "source": [
    "plot_driving_period(driving_df)"
   ]
  },
  {
   "cell_type": "markdown",
   "id": "cf51cdce",
   "metadata": {},
   "source": [
    "### Driving length distribution\n",
    "All the driving lengths are longer than 50 seconds. **We can use 50 time steps as a window to build features**."
   ]
  },
  {
   "cell_type": "code",
   "execution_count": 10,
   "id": "b50d8bf9",
   "metadata": {},
   "outputs": [],
   "source": [
    "driving_length = driving_df[['device_id', 'trip_id', 'time_step']]\\\n",
    "    .groupby(['device_id', 'trip_id'])\\\n",
    "    .count()\\\n",
    "    .rename(columns={'time_step': 'driving length (sec)'})['driving length (sec)']"
   ]
  },
  {
   "cell_type": "code",
   "execution_count": 11,
   "id": "710cdeba",
   "metadata": {},
   "outputs": [
    {
     "data": {
      "text/plain": [
       "Text(0.5, 1.0, 'Driving length distribution')"
      ]
     },
     "execution_count": 11,
     "metadata": {},
     "output_type": "execute_result"
    },
    {
     "data": {
      "image/png": "[encoded data removed]",
      "text/plain": [
       "<Figure size 432x288 with 1 Axes>"
      ]
     },
     "metadata": {
      "needs_background": "light"
     },
     "output_type": "display_data"
    }
   ],
   "source": [
    "sns.histplot(driving_length, binwidth=50).set_title(\"Driving length distribution\")"
   ]
  },
  {
   "cell_type": "markdown",
   "id": "33e2824f",
   "metadata": {},
   "source": [
    "### Driving history \n",
    "By looking at the driving days of each device, we can see some of the days are close."
   ]
  },
  {
   "cell_type": "code",
   "execution_count": 12,
   "id": "49563e00",
   "metadata": {},
   "outputs": [
    {
     "data": {
      "text/html": [
       "<div>\n",
       "<style scoped>\n",
       "    .dataframe tbody tr th:only-of-type {\n",
       "        vertical-align: middle;\n",
       "    }\n",
       "\n",
       "    .dataframe tbody tr th {\n",
       "        vertical-align: top;\n",
       "    }\n",
       "\n",
       "    .dataframe thead th {\n",
       "        text-align: right;\n",
       "    }\n",
       "</style>\n",
       "<table border=\"1\" class=\"dataframe\">\n",
       "  <thead>\n",
       "    <tr style=\"text-align: right;\">\n",
       "      <th></th>\n",
       "      <th>day_of_the_month</th>\n",
       "    </tr>\n",
       "    <tr>\n",
       "      <th>device_id</th>\n",
       "      <th></th>\n",
       "    </tr>\n",
       "  </thead>\n",
       "  <tbody>\n",
       "    <tr>\n",
       "      <th>1</th>\n",
       "      <td>24, 25</td>\n",
       "    </tr>\n",
       "    <tr>\n",
       "      <th>3</th>\n",
       "      <td>11, 21, 28, 31</td>\n",
       "    </tr>\n",
       "    <tr>\n",
       "      <th>5</th>\n",
       "      <td>10, 12, 19, 22</td>\n",
       "    </tr>\n",
       "    <tr>\n",
       "      <th>6</th>\n",
       "      <td>31</td>\n",
       "    </tr>\n",
       "    <tr>\n",
       "      <th>7</th>\n",
       "      <td>12, 18</td>\n",
       "    </tr>\n",
       "    <tr>\n",
       "      <th>10</th>\n",
       "      <td>1, 3, 9, 13, 19, 20, 28, 29, 30</td>\n",
       "    </tr>\n",
       "    <tr>\n",
       "      <th>11</th>\n",
       "      <td>31</td>\n",
       "    </tr>\n",
       "  </tbody>\n",
       "</table>\n",
       "</div>"
      ],
      "text/plain": [
       "                          day_of_the_month\n",
       "device_id                                 \n",
       "1                                   24, 25\n",
       "3                           11, 21, 28, 31\n",
       "5                           10, 12, 19, 22\n",
       "6                                       31\n",
       "7                                   12, 18\n",
       "10         1, 3, 9, 13, 19, 20, 28, 29, 30\n",
       "11                                      31"
      ]
     },
     "execution_count": 12,
     "metadata": {},
     "output_type": "execute_result"
    }
   ],
   "source": [
    "def device_driving_history(df):\n",
    "\n",
    "    df['day_of_the_month'] = df['timestamp'].dt.day.astype(str)\n",
    "\n",
    "    return df[['device_id', 'day_of_the_month']]\\\n",
    "        .drop_duplicates()\\\n",
    "        .groupby(['device_id'])\\\n",
    "        .agg({'day_of_the_month': lambda x: ', '.join(x.values)})\n",
    "\n",
    "device_driving_history(driving_df.copy())"
   ]
  },
  {
   "cell_type": "code",
   "execution_count": 13,
   "id": "e579476b",
   "metadata": {},
   "outputs": [],
   "source": [
    "# driving_df = driving_df[~driving_df['device_id'].isin([6, 7, 1])] "
   ]
  },
  {
   "cell_type": "markdown",
   "id": "5997baa0",
   "metadata": {},
   "source": [
    "### Transform signals into window samples\n",
    "\n",
    "We can apply a rolling window to the time steps for each trip. A window is a period of timestamps, or a list of row index in code. This helps us to easily extract samples for each window from the full driving history."
   ]
  },
  {
   "cell_type": "code",
   "execution_count": 14,
   "id": "b5c9ce5d",
   "metadata": {},
   "outputs": [
    {
     "data": {
      "text/html": [
       "<div>\n",
       "<style scoped>\n",
       "    .dataframe tbody tr th:only-of-type {\n",
       "        vertical-align: middle;\n",
       "    }\n",
       "\n",
       "    .dataframe tbody tr th {\n",
       "        vertical-align: top;\n",
       "    }\n",
       "\n",
       "    .dataframe thead th {\n",
       "        text-align: right;\n",
       "    }\n",
       "</style>\n",
       "<table border=\"1\" class=\"dataframe\">\n",
       "  <thead>\n",
       "    <tr style=\"text-align: right;\">\n",
       "      <th></th>\n",
       "      <th>time_step</th>\n",
       "      <th>device_id</th>\n",
       "      <th>trip_id</th>\n",
       "      <th>timestamp</th>\n",
       "      <th>speed</th>\n",
       "      <th>acc_x</th>\n",
       "      <th>acc_y</th>\n",
       "      <th>acc_z</th>\n",
       "    </tr>\n",
       "  </thead>\n",
       "  <tbody>\n",
       "    <tr>\n",
       "      <th>0</th>\n",
       "      <td>1</td>\n",
       "      <td>1</td>\n",
       "      <td>1</td>\n",
       "      <td>2018-01-24 19:48:02</td>\n",
       "      <td>2</td>\n",
       "      <td>-0.261130</td>\n",
       "      <td>-0.781108</td>\n",
       "      <td>-0.566984</td>\n",
       "    </tr>\n",
       "    <tr>\n",
       "      <th>1</th>\n",
       "      <td>2</td>\n",
       "      <td>1</td>\n",
       "      <td>1</td>\n",
       "      <td>2018-01-24 19:48:03</td>\n",
       "      <td>0</td>\n",
       "      <td>-0.252172</td>\n",
       "      <td>-0.782251</td>\n",
       "      <td>-0.586721</td>\n",
       "    </tr>\n",
       "    <tr>\n",
       "      <th>2</th>\n",
       "      <td>3</td>\n",
       "      <td>1</td>\n",
       "      <td>1</td>\n",
       "      <td>2018-01-24 19:48:04</td>\n",
       "      <td>0</td>\n",
       "      <td>-0.251845</td>\n",
       "      <td>-0.809530</td>\n",
       "      <td>-0.538245</td>\n",
       "    </tr>\n",
       "    <tr>\n",
       "      <th>3</th>\n",
       "      <td>4</td>\n",
       "      <td>1</td>\n",
       "      <td>1</td>\n",
       "      <td>2018-01-24 19:48:05</td>\n",
       "      <td>0</td>\n",
       "      <td>-0.229758</td>\n",
       "      <td>-0.806974</td>\n",
       "      <td>-0.552653</td>\n",
       "    </tr>\n",
       "    <tr>\n",
       "      <th>4</th>\n",
       "      <td>5</td>\n",
       "      <td>1</td>\n",
       "      <td>1</td>\n",
       "      <td>2018-01-24 19:48:06</td>\n",
       "      <td>2</td>\n",
       "      <td>-0.228376</td>\n",
       "      <td>-0.787745</td>\n",
       "      <td>-0.569626</td>\n",
       "    </tr>\n",
       "  </tbody>\n",
       "</table>\n",
       "</div>"
      ],
      "text/plain": [
       "   time_step  device_id  trip_id           timestamp  speed     acc_x  \\\n",
       "0          1          1        1 2018-01-24 19:48:02      2 -0.261130   \n",
       "1          2          1        1 2018-01-24 19:48:03      0 -0.252172   \n",
       "2          3          1        1 2018-01-24 19:48:04      0 -0.251845   \n",
       "3          4          1        1 2018-01-24 19:48:05      0 -0.229758   \n",
       "4          5          1        1 2018-01-24 19:48:06      2 -0.228376   \n",
       "\n",
       "      acc_y     acc_z  \n",
       "0 -0.781108 -0.566984  \n",
       "1 -0.782251 -0.586721  \n",
       "2 -0.809530 -0.538245  \n",
       "3 -0.806974 -0.552653  \n",
       "4 -0.787745 -0.569626  "
      ]
     },
     "execution_count": 14,
     "metadata": {},
     "output_type": "execute_result"
    }
   ],
   "source": [
    "driving_df.head()"
   ]
  },
  {
   "cell_type": "code",
   "execution_count": 15,
   "id": "27f16a19",
   "metadata": {},
   "outputs": [
    {
     "data": {
      "text/html": [
       "<div>\n",
       "<style scoped>\n",
       "    .dataframe tbody tr th:only-of-type {\n",
       "        vertical-align: middle;\n",
       "    }\n",
       "\n",
       "    .dataframe tbody tr th {\n",
       "        vertical-align: top;\n",
       "    }\n",
       "\n",
       "    .dataframe thead th {\n",
       "        text-align: right;\n",
       "    }\n",
       "</style>\n",
       "<table border=\"1\" class=\"dataframe\">\n",
       "  <thead>\n",
       "    <tr style=\"text-align: right;\">\n",
       "      <th></th>\n",
       "      <th>device_id</th>\n",
       "      <th>trip_id</th>\n",
       "      <th>time_step</th>\n",
       "    </tr>\n",
       "  </thead>\n",
       "  <tbody>\n",
       "    <tr>\n",
       "      <th>0</th>\n",
       "      <td>1</td>\n",
       "      <td>1</td>\n",
       "      <td>1</td>\n",
       "    </tr>\n",
       "    <tr>\n",
       "      <th>1</th>\n",
       "      <td>1</td>\n",
       "      <td>1</td>\n",
       "      <td>2</td>\n",
       "    </tr>\n",
       "    <tr>\n",
       "      <th>2</th>\n",
       "      <td>1</td>\n",
       "      <td>1</td>\n",
       "      <td>3</td>\n",
       "    </tr>\n",
       "    <tr>\n",
       "      <th>3</th>\n",
       "      <td>1</td>\n",
       "      <td>1</td>\n",
       "      <td>4</td>\n",
       "    </tr>\n",
       "    <tr>\n",
       "      <th>4</th>\n",
       "      <td>1</td>\n",
       "      <td>1</td>\n",
       "      <td>5</td>\n",
       "    </tr>\n",
       "    <tr>\n",
       "      <th>...</th>\n",
       "      <td>...</td>\n",
       "      <td>...</td>\n",
       "      <td>...</td>\n",
       "    </tr>\n",
       "    <tr>\n",
       "      <th>6655</th>\n",
       "      <td>11</td>\n",
       "      <td>9</td>\n",
       "      <td>563</td>\n",
       "    </tr>\n",
       "    <tr>\n",
       "      <th>6656</th>\n",
       "      <td>11</td>\n",
       "      <td>9</td>\n",
       "      <td>564</td>\n",
       "    </tr>\n",
       "    <tr>\n",
       "      <th>6657</th>\n",
       "      <td>11</td>\n",
       "      <td>9</td>\n",
       "      <td>565</td>\n",
       "    </tr>\n",
       "    <tr>\n",
       "      <th>6658</th>\n",
       "      <td>11</td>\n",
       "      <td>9</td>\n",
       "      <td>566</td>\n",
       "    </tr>\n",
       "    <tr>\n",
       "      <th>6659</th>\n",
       "      <td>11</td>\n",
       "      <td>9</td>\n",
       "      <td>567</td>\n",
       "    </tr>\n",
       "  </tbody>\n",
       "</table>\n",
       "<p>6660 rows × 3 columns</p>\n",
       "</div>"
      ],
      "text/plain": [
       "      device_id  trip_id  time_step\n",
       "0             1        1          1\n",
       "1             1        1          2\n",
       "2             1        1          3\n",
       "3             1        1          4\n",
       "4             1        1          5\n",
       "...         ...      ...        ...\n",
       "6655         11        9        563\n",
       "6656         11        9        564\n",
       "6657         11        9        565\n",
       "6658         11        9        566\n",
       "6659         11        9        567\n",
       "\n",
       "[6660 rows x 3 columns]"
      ]
     },
     "execution_count": 15,
     "metadata": {},
     "output_type": "execute_result"
    }
   ],
   "source": [
    "driving_df[['device_id', 'trip_id', 'time_step']]"
   ]
  },
  {
   "cell_type": "code",
   "execution_count": 16,
   "id": "b98ff316",
   "metadata": {},
   "outputs": [],
   "source": [
    "def windowed_view(arr, window, overlap):\n",
    "    \"\"\" Apply rolling windows into the given array with an overlap\n",
    "    \"\"\"\n",
    "    \n",
    "    arr = np.asarray(arr)\n",
    "    window_step = window - overlap\n",
    "    new_shape = arr.shape[:-1] + ((arr.shape[-1] - overlap) // window_step, window)\n",
    "    new_strides = (arr.strides[:-1] + (window_step * arr.strides[-1],) + arr.strides[-1:])\n",
    "    \n",
    "    return as_strided(arr, shape=new_shape, strides=new_strides)"
   ]
  },
  {
   "cell_type": "code",
   "execution_count": 17,
   "id": "06d3444b",
   "metadata": {},
   "outputs": [],
   "source": [
    "def create_window_samples(df, window, overlap):\n",
    "    \"\"\" Save all the row index of the rolling windows.\n",
    "    \"\"\"\n",
    "    \n",
    "    window_index_list = list()\n",
    "    labels_list = list()\n",
    "    \n",
    "    for (device_id, trip_id), trip_df in df.groupby(['device_id', 'trip_id']):\n",
    "#         print(trip_df)\n",
    "        trip_length = trip_df.shape[0]\n",
    "        window_index = windowed_view(trip_df.index, window, overlap)\n",
    "        labels = np.full((window_index.shape[0], 1), device_id)\n",
    "        window_index_list.append(window_index)\n",
    "        labels_list.append(labels)\n",
    "\n",
    "    return np.concatenate(window_index_list), np.concatenate(labels_list)"
   ]
  },
  {
   "cell_type": "code",
   "execution_count": 18,
   "id": "9be06b03",
   "metadata": {},
   "outputs": [],
   "source": [
    "window_samples, labels = create_window_samples(driving_df, window=50, overlap=25)"
   ]
  },
  {
   "cell_type": "code",
   "execution_count": 19,
   "id": "a6344b49",
   "metadata": {},
   "outputs": [
    {
     "data": {
      "text/plain": [
       "array([[   0,    1,    2, ...,   47,   48,   49],\n",
       "       [  58,   59,   60, ...,  105,  106,  107],\n",
       "       [  83,   84,   85, ...,  130,  131,  132],\n",
       "       ...,\n",
       "       [6543, 6544, 6545, ..., 6590, 6591, 6592],\n",
       "       [6568, 6569, 6570, ..., 6615, 6616, 6617],\n",
       "       [6593, 6594, 6595, ..., 6640, 6641, 6642]])"
      ]
     },
     "execution_count": 19,
     "metadata": {},
     "output_type": "execute_result"
    }
   ],
   "source": [
    "window_samples"
   ]
  },
  {
   "cell_type": "code",
   "execution_count": 21,
   "id": "ce485969",
   "metadata": {},
   "outputs": [],
   "source": [
    "def extract_signals_per_window(df, window_samples, labels, target_cols):\n",
    "    \"\"\" Since the given window samples are a list of windows with row index. \n",
    "    We now need to use the index to extract signals from the driving history data.\n",
    "    \"\"\"\n",
    "    \n",
    "    signal_window_samples_list = list()\n",
    "    \n",
    "    for window, device_id in zip(window_samples, labels):\n",
    "        \n",
    "        # Standardize the speed and accelerometer signals\n",
    "#         transformed_signals = StandardScaler().fit_transform(df.loc[window][['acc_x', 'acc_y', 'acc_z']])\n",
    "        transformed_signals = df.loc[window][['acc_x', 'acc_y', 'acc_z']]\n",
    "        signal_window_samples_list.append(transformed_signals)\n",
    "    \n",
    "    return np.asarray(signal_window_samples_list)"
   ]
  },
  {
   "cell_type": "code",
   "execution_count": 22,
   "id": "5c340f25",
   "metadata": {},
   "outputs": [],
   "source": [
    "signal_window_samples = extract_signals_per_window(driving_df, window_samples, labels, signal_cols)"
   ]
  },
  {
   "cell_type": "code",
   "execution_count": 23,
   "id": "217bb802",
   "metadata": {},
   "outputs": [
    {
     "data": {
      "text/plain": [
       "((219, 50, 3), (219, 1))"
      ]
     },
     "execution_count": 23,
     "metadata": {},
     "output_type": "execute_result"
    }
   ],
   "source": [
    "signal_window_samples.shape, labels.shape"
   ]
  },
  {
   "cell_type": "code",
   "execution_count": 24,
   "id": "4e584c41",
   "metadata": {},
   "outputs": [
    {
     "data": {
      "text/plain": [
       "10    101\n",
       "5      45\n",
       "3      37\n",
       "11     21\n",
       "6       6\n",
       "7       5\n",
       "1       4\n",
       "Name: labels, dtype: int64"
      ]
     },
     "execution_count": 24,
     "metadata": {},
     "output_type": "execute_result"
    }
   ],
   "source": [
    "pd.Series(labels.reshape(-1), name='labels').value_counts()"
   ]
  },
  {
   "cell_type": "code",
   "execution_count": 25,
   "id": "8eb78c3a",
   "metadata": {},
   "outputs": [
    {
     "name": "stdout",
     "output_type": "stream",
     "text": [
      "Shape before one-hot encoding:  (43, 1)\n",
      "Shape after one-hot encoding:  (43, 7)\n"
     ]
    }
   ],
   "source": [
    "X = signal_window_samples.copy()\n",
    "y = labels.copy()\n",
    "\n",
    "device_to_label = {category: i for i, category in enumerate(set(y.reshape(-1)))}\n",
    "label_to_device = {i: category for i, category in enumerate(set(y.reshape(-1)))}\n",
    "device_to_label\n",
    "\n",
    "for device_id, label in device_to_label.items():\n",
    "    y[y == device_id] = label\n",
    "\n",
    "# Since the window samples are small, we should stratify on the device ids.\n",
    "# This can make sure we have both training / test samples for each device id.\n",
    "X_train, X_test, y_train, y_test = train_test_split(X, y, \n",
    "                                                    test_size=0.8, \n",
    "                                                    stratify=y, \n",
    "                                                    shuffle=True, \n",
    "                                                    random_state=42)\n",
    "\n",
    "X_train = X_train.astype('float32')\n",
    "X_test = X_test.astype('float32')\n",
    "\n",
    "# one-hot encoding using keras' numpy-related utilities\n",
    "n_classes = len(device_to_label)\n",
    "print(\"Shape before one-hot encoding: \", y_train.shape)\n",
    "Y_train = np_utils.to_categorical(y_train, n_classes)\n",
    "Y_test = np_utils.to_categorical(y_test, n_classes)\n",
    "print(\"Shape after one-hot encoding: \", Y_train.shape)"
   ]
  },
  {
   "cell_type": "code",
   "execution_count": 26,
   "id": "355769df",
   "metadata": {},
   "outputs": [],
   "source": [
    "# building a linear stack of layers with the sequential model\n",
    "model = Sequential()\n",
    "# convolutional layer\n",
    "model.add(Conv1D(filters=10, kernel_size=3, activation='tanh', input_shape=(50, 3)))\n",
    "model.add(MaxPool1D(pool_size=3))\n",
    "\n",
    "model.add(Conv1D(filters=8, kernel_size=3, activation='tanh'))\n",
    "model.add(MaxPool1D(pool_size=3))\n",
    "\n",
    "model.add(Conv1D(filters=4, kernel_size=3, activation='tanh'))\n",
    "model.add(GlobalMaxPooling1D())\n",
    "model.add(Dropout(0.3))\n",
    "\n",
    "model.add(Dense(n_classes, activation='softmax'))\n",
    "\n",
    "# compiling the sequential model\n",
    "model.compile(loss='categorical_crossentropy', metrics=['accuracy'], optimizer='adam')"
   ]
  },
  {
   "cell_type": "markdown",
   "id": "88e75136",
   "metadata": {},
   "source": [
    "### Print out CNN Architecture"
   ]
  },
  {
   "cell_type": "code",
   "execution_count": 27,
   "id": "ea7b474a",
   "metadata": {},
   "outputs": [
    {
     "name": "stdout",
     "output_type": "stream",
     "text": [
      "Model: \"sequential\"\n",
      "_________________________________________________________________\n",
      " Layer (type)                Output Shape              Param #   \n",
      "=================================================================\n",
      " conv1d (Conv1D)             (None, 48, 10)            100       \n",
      "                                                                 \n",
      " max_pooling1d (MaxPooling1D  (None, 16, 10)           0         \n",
      " )                                                               \n",
      "                                                                 \n",
      " conv1d_1 (Conv1D)           (None, 14, 8)             248       \n",
      "                                                                 \n",
      " max_pooling1d_1 (MaxPooling  (None, 4, 8)             0         \n",
      " 1D)                                                             \n",
      "                                                                 \n",
      " conv1d_2 (Conv1D)           (None, 2, 4)              100       \n",
      "                                                                 \n",
      " global_max_pooling1d (Globa  (None, 4)                0         \n",
      " lMaxPooling1D)                                                  \n",
      "                                                                 \n",
      " dropout (Dropout)           (None, 4)                 0         \n",
      "                                                                 \n",
      " dense (Dense)               (None, 7)                 35        \n",
      "                                                                 \n",
      "=================================================================\n",
      "Total params: 483\n",
      "Trainable params: 483\n",
      "Non-trainable params: 0\n",
      "_________________________________________________________________\n"
     ]
    }
   ],
   "source": [
    "model.summary()"
   ]
  },
  {
   "cell_type": "markdown",
   "id": "969ef081",
   "metadata": {},
   "source": [
    "### CNN Training logs"
   ]
  },
  {
   "cell_type": "code",
   "execution_count": 28,
   "id": "f5acad2a",
   "metadata": {
    "scrolled": true
   },
   "outputs": [
    {
     "name": "stdout",
     "output_type": "stream",
     "text": [
      "Epoch 1/40\n"
     ]
    },
    {
     "name": "stderr",
     "output_type": "stream",
     "text": [
      "2022-04-12 18:43:55.371335: W tensorflow/core/platform/profile_utils/cpu_utils.cc:128] Failed to get CPU frequency: 0 Hz\n"
     ]
    },
    {
     "name": "stdout",
     "output_type": "stream",
     "text": [
      "43/43 [==============================] - 0s 4ms/step - loss: 1.8720 - accuracy: 0.3256 - val_loss: 1.8050 - val_accuracy: 0.3693\n",
      "Epoch 2/40\n",
      "43/43 [==============================] - 0s 2ms/step - loss: 1.7958 - accuracy: 0.5116 - val_loss: 1.7182 - val_accuracy: 0.8352\n",
      "Epoch 3/40\n",
      "43/43 [==============================] - 0s 2ms/step - loss: 1.6693 - accuracy: 0.6512 - val_loss: 1.6279 - val_accuracy: 0.6989\n",
      "Epoch 4/40\n",
      "43/43 [==============================] - 0s 2ms/step - loss: 1.6232 - accuracy: 0.5581 - val_loss: 1.5362 - val_accuracy: 0.6648\n",
      "Epoch 5/40\n",
      "43/43 [==============================] - 0s 2ms/step - loss: 1.5042 - accuracy: 0.6744 - val_loss: 1.4339 - val_accuracy: 0.6989\n",
      "Epoch 6/40\n",
      "43/43 [==============================] - 0s 2ms/step - loss: 1.4333 - accuracy: 0.6279 - val_loss: 1.3543 - val_accuracy: 0.8125\n",
      "Epoch 7/40\n",
      "43/43 [==============================] - 0s 2ms/step - loss: 1.3526 - accuracy: 0.6512 - val_loss: 1.2728 - val_accuracy: 0.6307\n",
      "Epoch 8/40\n",
      "43/43 [==============================] - 0s 2ms/step - loss: 1.2766 - accuracy: 0.7209 - val_loss: 1.1879 - val_accuracy: 0.6307\n",
      "Epoch 9/40\n",
      "43/43 [==============================] - 0s 2ms/step - loss: 1.1950 - accuracy: 0.7907 - val_loss: 1.1220 - val_accuracy: 0.8182\n",
      "Epoch 10/40\n",
      "43/43 [==============================] - 0s 2ms/step - loss: 1.2071 - accuracy: 0.6744 - val_loss: 1.0626 - val_accuracy: 0.8352\n",
      "Epoch 11/40\n",
      "43/43 [==============================] - 0s 2ms/step - loss: 1.1422 - accuracy: 0.7209 - val_loss: 1.0036 - val_accuracy: 0.8352\n",
      "Epoch 12/40\n",
      "43/43 [==============================] - 0s 2ms/step - loss: 1.0793 - accuracy: 0.7209 - val_loss: 0.9545 - val_accuracy: 0.8409\n",
      "Epoch 13/40\n",
      "43/43 [==============================] - 0s 2ms/step - loss: 1.0017 - accuracy: 0.7907 - val_loss: 0.8995 - val_accuracy: 0.9318\n",
      "Epoch 14/40\n",
      "43/43 [==============================] - 0s 2ms/step - loss: 1.0218 - accuracy: 0.7674 - val_loss: 0.8527 - val_accuracy: 0.9318\n",
      "Epoch 15/40\n",
      "43/43 [==============================] - 0s 2ms/step - loss: 0.9610 - accuracy: 0.7907 - val_loss: 0.8177 - val_accuracy: 0.9318\n",
      "Epoch 16/40\n",
      "43/43 [==============================] - 0s 2ms/step - loss: 0.8217 - accuracy: 0.8837 - val_loss: 0.7737 - val_accuracy: 0.9318\n",
      "Epoch 17/40\n",
      "43/43 [==============================] - 0s 2ms/step - loss: 0.8280 - accuracy: 0.8605 - val_loss: 0.7426 - val_accuracy: 0.9261\n",
      "Epoch 18/40\n",
      "43/43 [==============================] - 0s 2ms/step - loss: 0.8411 - accuracy: 0.8140 - val_loss: 0.7114 - val_accuracy: 0.9318\n",
      "Epoch 19/40\n",
      "43/43 [==============================] - 0s 2ms/step - loss: 0.8468 - accuracy: 0.8605 - val_loss: 0.6826 - val_accuracy: 0.9318\n",
      "Epoch 20/40\n",
      "43/43 [==============================] - 0s 2ms/step - loss: 0.7145 - accuracy: 0.8372 - val_loss: 0.6600 - val_accuracy: 0.9318\n",
      "Epoch 21/40\n",
      "43/43 [==============================] - 0s 2ms/step - loss: 0.7082 - accuracy: 0.8837 - val_loss: 0.6385 - val_accuracy: 0.9318\n",
      "Epoch 22/40\n",
      "43/43 [==============================] - 0s 2ms/step - loss: 0.8058 - accuracy: 0.8140 - val_loss: 0.6200 - val_accuracy: 0.9318\n",
      "Epoch 23/40\n",
      "43/43 [==============================] - 0s 2ms/step - loss: 0.7223 - accuracy: 0.8140 - val_loss: 0.6059 - val_accuracy: 0.9318\n",
      "Epoch 24/40\n",
      "43/43 [==============================] - 0s 2ms/step - loss: 0.7312 - accuracy: 0.7674 - val_loss: 0.5890 - val_accuracy: 0.9318\n",
      "Epoch 25/40\n",
      "43/43 [==============================] - 0s 2ms/step - loss: 0.7099 - accuracy: 0.7907 - val_loss: 0.5748 - val_accuracy: 0.9318\n",
      "Epoch 26/40\n",
      "43/43 [==============================] - 0s 2ms/step - loss: 0.6202 - accuracy: 0.8372 - val_loss: 0.5617 - val_accuracy: 0.9318\n",
      "Epoch 27/40\n",
      "43/43 [==============================] - 0s 2ms/step - loss: 0.7404 - accuracy: 0.7907 - val_loss: 0.5527 - val_accuracy: 0.9318\n",
      "Epoch 28/40\n",
      "43/43 [==============================] - 0s 2ms/step - loss: 0.6632 - accuracy: 0.8372 - val_loss: 0.5436 - val_accuracy: 0.9318\n",
      "Epoch 29/40\n",
      "43/43 [==============================] - 0s 2ms/step - loss: 0.5649 - accuracy: 0.9070 - val_loss: 0.5247 - val_accuracy: 0.9318\n",
      "Epoch 30/40\n",
      "43/43 [==============================] - 0s 2ms/step - loss: 0.6166 - accuracy: 0.8372 - val_loss: 0.5143 - val_accuracy: 0.9318\n",
      "Epoch 31/40\n",
      "43/43 [==============================] - 0s 2ms/step - loss: 0.5216 - accuracy: 0.8605 - val_loss: 0.5109 - val_accuracy: 0.9318\n",
      "Epoch 32/40\n",
      "43/43 [==============================] - 0s 2ms/step - loss: 0.6061 - accuracy: 0.8837 - val_loss: 0.4932 - val_accuracy: 0.9318\n",
      "Epoch 33/40\n",
      "43/43 [==============================] - 0s 2ms/step - loss: 0.6740 - accuracy: 0.7907 - val_loss: 0.4867 - val_accuracy: 0.9318\n",
      "Epoch 34/40\n",
      "43/43 [==============================] - 0s 2ms/step - loss: 0.6967 - accuracy: 0.7907 - val_loss: 0.4795 - val_accuracy: 0.9318\n",
      "Epoch 35/40\n",
      "43/43 [==============================] - 0s 2ms/step - loss: 0.5488 - accuracy: 0.8605 - val_loss: 0.4742 - val_accuracy: 0.9318\n",
      "Epoch 36/40\n",
      "43/43 [==============================] - 0s 2ms/step - loss: 0.7101 - accuracy: 0.7907 - val_loss: 0.4680 - val_accuracy: 0.9318\n",
      "Epoch 37/40\n",
      "43/43 [==============================] - 0s 2ms/step - loss: 0.5889 - accuracy: 0.8605 - val_loss: 0.4622 - val_accuracy: 0.9318\n",
      "Epoch 38/40\n",
      "43/43 [==============================] - 0s 2ms/step - loss: 0.5984 - accuracy: 0.8140 - val_loss: 0.4552 - val_accuracy: 0.9318\n",
      "Epoch 39/40\n",
      "43/43 [==============================] - 0s 2ms/step - loss: 0.5319 - accuracy: 0.8837 - val_loss: 0.4505 - val_accuracy: 0.9318\n",
      "Epoch 40/40\n",
      "43/43 [==============================] - 0s 2ms/step - loss: 0.7153 - accuracy: 0.7907 - val_loss: 0.4427 - val_accuracy: 0.9318\n"
     ]
    },
    {
     "data": {
      "text/plain": [
       "<keras.callbacks.History at 0x29cdb1ee0>"
      ]
     },
     "execution_count": 28,
     "metadata": {},
     "output_type": "execute_result"
    }
   ],
   "source": [
    " model.fit(X_train, Y_train, batch_size=1, epochs=40, validation_data=(X_test, Y_test))"
   ]
  },
  {
   "cell_type": "code",
   "execution_count": 29,
   "id": "ca46e67f",
   "metadata": {},
   "outputs": [],
   "source": [
    "Y_pred = model.predict(X_test)"
   ]
  },
  {
   "cell_type": "markdown",
   "id": "7eb3bcd6",
   "metadata": {},
   "source": [
    "### Model evaluation\n",
    "\n",
    "Calculate recall and precision for each device id.\n",
    "\n",
    "In the confusion matrix, we can see precision and recall for device 1, 6 and 7 are both 0. **It means the model didn't learn from these device samples.**\n",
    "\n",
    "However, for **device 3, 5, 10 and 11**, they have enough data for the model to learn some subtle patterns. **The overall F1 score for them is 93.6%, which is relative good.** This sets a baseline for the further fine-tuning."
   ]
  },
  {
   "cell_type": "code",
   "execution_count": 30,
   "id": "b2240817",
   "metadata": {},
   "outputs": [
    {
     "data": {
      "image/png": "[encoded data removed]",
      "text/plain": [
       "<Figure size 432x288 with 2 Axes>"
      ]
     },
     "metadata": {
      "needs_background": "light"
     },
     "output_type": "display_data"
    }
   ],
   "source": [
    "c_m = confusion_matrix(Y_test.argmax(axis=1), Y_pred.argmax(axis=1))\n",
    "\n",
    "fig = plt.figure()\n",
    "labels = sorted(list(set(y.reshape(-1))))\n",
    "device_ids = [label_to_device[l] for l in labels]\n",
    "sns.heatmap(c_m, xticklabels=device_ids, yticklabels=device_ids, annot=True, \n",
    "            linewidths = 0.1, fmt=\"d\", cmap = \"YlGnBu\")\n",
    "plt.title(\"Confusion matrix\", fontsize = 15)\n",
    "plt.ylabel(\"True label\")\n",
    "plt.xlabel(\"Predicted label\")\n",
    "confusion_matrix_plot = fig"
   ]
  },
  {
   "cell_type": "code",
   "execution_count": 31,
   "id": "ff11f199",
   "metadata": {},
   "outputs": [
    {
     "name": "stderr",
     "output_type": "stream",
     "text": [
      "/var/folders/wj/kg65sk251rz1g4h8_694mm9r0000gn/T/ipykernel_49200/3549722063.py:2: RuntimeWarning: invalid value encountered in true_divide\n",
      "  precision = np.diag(c_m) / np.sum(c_m, axis = 0)\n"
     ]
    },
    {
     "data": {
      "text/html": [
       "<div>\n",
       "<style scoped>\n",
       "    .dataframe tbody tr th:only-of-type {\n",
       "        vertical-align: middle;\n",
       "    }\n",
       "\n",
       "    .dataframe tbody tr th {\n",
       "        vertical-align: top;\n",
       "    }\n",
       "\n",
       "    .dataframe thead th {\n",
       "        text-align: right;\n",
       "    }\n",
       "</style>\n",
       "<table border=\"1\" class=\"dataframe\">\n",
       "  <thead>\n",
       "    <tr style=\"text-align: right;\">\n",
       "      <th></th>\n",
       "      <th>recall</th>\n",
       "      <th>precision</th>\n",
       "      <th>f1</th>\n",
       "    </tr>\n",
       "    <tr>\n",
       "      <th>device_id</th>\n",
       "      <th></th>\n",
       "      <th></th>\n",
       "      <th></th>\n",
       "    </tr>\n",
       "  </thead>\n",
       "  <tbody>\n",
       "    <tr>\n",
       "      <th>1</th>\n",
       "      <td>0.0</td>\n",
       "      <td>NaN</td>\n",
       "      <td>NaN</td>\n",
       "    </tr>\n",
       "    <tr>\n",
       "      <th>3</th>\n",
       "      <td>1.0</td>\n",
       "      <td>0.909091</td>\n",
       "      <td>0.952381</td>\n",
       "    </tr>\n",
       "    <tr>\n",
       "      <th>5</th>\n",
       "      <td>1.0</td>\n",
       "      <td>1.000000</td>\n",
       "      <td>1.000000</td>\n",
       "    </tr>\n",
       "    <tr>\n",
       "      <th>6</th>\n",
       "      <td>0.0</td>\n",
       "      <td>NaN</td>\n",
       "      <td>NaN</td>\n",
       "    </tr>\n",
       "    <tr>\n",
       "      <th>7</th>\n",
       "      <td>0.0</td>\n",
       "      <td>NaN</td>\n",
       "      <td>NaN</td>\n",
       "    </tr>\n",
       "    <tr>\n",
       "      <th>10</th>\n",
       "      <td>1.0</td>\n",
       "      <td>1.000000</td>\n",
       "      <td>1.000000</td>\n",
       "    </tr>\n",
       "    <tr>\n",
       "      <th>11</th>\n",
       "      <td>1.0</td>\n",
       "      <td>0.653846</td>\n",
       "      <td>0.790698</td>\n",
       "    </tr>\n",
       "  </tbody>\n",
       "</table>\n",
       "</div>"
      ],
      "text/plain": [
       "           recall  precision        f1\n",
       "device_id                             \n",
       "1             0.0        NaN       NaN\n",
       "3             1.0   0.909091  0.952381\n",
       "5             1.0   1.000000  1.000000\n",
       "6             0.0        NaN       NaN\n",
       "7             0.0        NaN       NaN\n",
       "10            1.0   1.000000  1.000000\n",
       "11            1.0   0.653846  0.790698"
      ]
     },
     "execution_count": 31,
     "metadata": {},
     "output_type": "execute_result"
    }
   ],
   "source": [
    "recall = np.diag(c_m) / np.sum(c_m, axis = 1)\n",
    "precision = np.diag(c_m) / np.sum(c_m, axis = 0)\n",
    "f1 = 2 * precision * recall / (precision + recall)\n",
    "\n",
    "evaluation_df = pd.DataFrame({\n",
    "    'device_id': device_ids,\n",
    "    'recall': recall,\n",
    "    'precision': precision,\n",
    "    'f1': f1\n",
    "}).set_index('device_id')\n",
    "\n",
    "evaluation_df"
   ]
  },
  {
   "cell_type": "code",
   "execution_count": 32,
   "id": "b683c11b",
   "metadata": {},
   "outputs": [
    {
     "name": "stdout",
     "output_type": "stream",
     "text": [
      "Overall f1 score: 93.577%\n"
     ]
    }
   ],
   "source": [
    "print(\"Overall f1 score: {:,.3f}%\".format(evaluation_df['f1'].mean()*100))"
   ]
  },
  {
   "cell_type": "code",
   "execution_count": null,
   "id": "c5a9918d",
   "metadata": {},
   "outputs": [],
   "source": []
  }
 ],
 "metadata": {
  "kernelspec": {
   "display_name": "Python 3 (ipykernel)",
   "language": "python",
   "name": "python3"
  },
  "language_info": {
   "codemirror_mode": {
    "name": "ipython",
    "version": 3
   },
   "file_extension": ".py",
   "mimetype": "text/x-python",
   "name": "python",
   "nbconvert_exporter": "python",
   "pygments_lexer": "ipython3",
   "version": "3.9.12"
  }
 },
 "nbformat": 4,
 "nbformat_minor": 5
}
